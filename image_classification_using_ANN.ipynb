{
 "cells": [
  {
   "cell_type": "markdown",
   "metadata": {},
   "source": [
    "<h3>1. Import module yang dibutuhkan</h3>"
   ]
  },
  {
   "cell_type": "code",
   "execution_count": 29,
   "metadata": {},
   "outputs": [],
   "source": [
    "from sklearn.model_selection import train_test_split\n",
    "from sklearn.preprocessing import LabelBinarizer\n",
    "from sklearn.metrics import classification_report\n",
    "from tensorflow.keras.models import Sequential\n",
    "from tensorflow.keras.layers import Dense\n",
    "from tensorflow.keras.optimizers import SGD\n",
    "import numpy as np\n",
    "import cv2\n",
    "import glob\n",
    "import matplotlib.pyplot as plt"
   ]
  },
  {
   "cell_type": "markdown",
   "metadata": {},
   "source": [
    "<h3>2. Load Dataset</h3>"
   ]
  },
  {
   "cell_type": "code",
   "execution_count": 30,
   "metadata": {},
   "outputs": [],
   "source": [
    "imagePaths = 'Dataset\\\\'\n",
    "label_list = ['Daun Nangka', 'Daun Sirih', 'Nangka'] \n",
    "data = []\n",
    "labels = []"
   ]
  },
  {
   "cell_type": "code",
   "execution_count": 31,
   "metadata": {},
   "outputs": [],
   "source": [
    "for label in label_list:\n",
    "    for imagePath in glob.glob(imagePaths+label+'\\\\*.jpg'):\n",
    "        #print(imagePath)\n",
    "        image = cv2.imread(imagePath)\n",
    "        image = cv2.resize(image, (32, 32)).flatten()\n",
    "        data.append(image)\n",
    "        labels.append(label)"
   ]
  },
  {
   "cell_type": "code",
   "execution_count": 32,
   "metadata": {},
   "outputs": [
    {
     "data": {
      "text/plain": [
       "(153, 3072)"
      ]
     },
     "execution_count": 32,
     "metadata": {},
     "output_type": "execute_result"
    }
   ],
   "source": [
    "np.array(data).shape"
   ]
  },
  {
   "cell_type": "markdown",
   "metadata": {},
   "source": [
    "<h3>3. Data Preprocessing</h3>"
   ]
  },
  {
   "cell_type": "code",
   "execution_count": 33,
   "metadata": {},
   "outputs": [],
   "source": [
    "# ubah type data dari list menjadi array\n",
    "# ubah nilai dari tiap pixel menjadi range [0..1]\n",
    "data = np.array(data, dtype='float') / 255.0\n",
    "labels = np.array(labels)"
   ]
  },
  {
   "cell_type": "code",
   "execution_count": 34,
   "metadata": {},
   "outputs": [
    {
     "name": "stdout",
     "output_type": "stream",
     "text": [
      "['Daun Nangka' 'Daun Nangka' 'Daun Nangka' 'Daun Nangka' 'Daun Nangka'\n",
      " 'Daun Nangka' 'Daun Nangka' 'Daun Nangka' 'Daun Nangka' 'Daun Nangka'\n",
      " 'Daun Nangka' 'Daun Nangka' 'Daun Nangka' 'Daun Nangka' 'Daun Nangka'\n",
      " 'Daun Nangka' 'Daun Nangka' 'Daun Nangka' 'Daun Nangka' 'Daun Nangka'\n",
      " 'Daun Nangka' 'Daun Nangka' 'Daun Nangka' 'Daun Nangka' 'Daun Nangka'\n",
      " 'Daun Nangka' 'Daun Nangka' 'Daun Nangka' 'Daun Nangka' 'Daun Nangka'\n",
      " 'Daun Nangka' 'Daun Nangka' 'Daun Nangka' 'Daun Nangka' 'Daun Nangka'\n",
      " 'Daun Nangka' 'Daun Nangka' 'Daun Nangka' 'Daun Nangka' 'Daun Nangka'\n",
      " 'Daun Nangka' 'Daun Nangka' 'Daun Nangka' 'Daun Nangka' 'Daun Nangka'\n",
      " 'Daun Nangka' 'Daun Nangka' 'Daun Nangka' 'Daun Nangka' 'Daun Nangka'\n",
      " 'Daun Nangka' 'Daun Sirih' 'Daun Sirih' 'Daun Sirih' 'Daun Sirih'\n",
      " 'Daun Sirih' 'Daun Sirih' 'Daun Sirih' 'Daun Sirih' 'Daun Sirih'\n",
      " 'Daun Sirih' 'Daun Sirih' 'Daun Sirih' 'Daun Sirih' 'Daun Sirih'\n",
      " 'Daun Sirih' 'Daun Sirih' 'Daun Sirih' 'Daun Sirih' 'Daun Sirih'\n",
      " 'Daun Sirih' 'Daun Sirih' 'Daun Sirih' 'Daun Sirih' 'Daun Sirih'\n",
      " 'Daun Sirih' 'Daun Sirih' 'Daun Sirih' 'Daun Sirih' 'Daun Sirih'\n",
      " 'Daun Sirih' 'Daun Sirih' 'Daun Sirih' 'Daun Sirih' 'Daun Sirih'\n",
      " 'Daun Sirih' 'Daun Sirih' 'Daun Sirih' 'Daun Sirih' 'Daun Sirih'\n",
      " 'Daun Sirih' 'Daun Sirih' 'Daun Sirih' 'Daun Sirih' 'Daun Sirih'\n",
      " 'Daun Sirih' 'Daun Sirih' 'Daun Sirih' 'Daun Sirih' 'Daun Sirih'\n",
      " 'Daun Sirih' 'Daun Sirih' 'Nangka' 'Nangka' 'Nangka' 'Nangka' 'Nangka'\n",
      " 'Nangka' 'Nangka' 'Nangka' 'Nangka' 'Nangka' 'Nangka' 'Nangka' 'Nangka'\n",
      " 'Nangka' 'Nangka' 'Nangka' 'Nangka' 'Nangka' 'Nangka' 'Nangka' 'Nangka'\n",
      " 'Nangka' 'Nangka' 'Nangka' 'Nangka' 'Nangka' 'Nangka' 'Nangka' 'Nangka'\n",
      " 'Nangka' 'Nangka' 'Nangka' 'Nangka' 'Nangka' 'Nangka' 'Nangka' 'Nangka'\n",
      " 'Nangka' 'Nangka' 'Nangka' 'Nangka' 'Nangka' 'Nangka' 'Nangka' 'Nangka'\n",
      " 'Nangka' 'Nangka' 'Nangka' 'Nangka' 'Nangka' 'Nangka']\n"
     ]
    }
   ],
   "source": [
    "print(labels)"
   ]
  },
  {
   "cell_type": "code",
   "execution_count": 35,
   "metadata": {},
   "outputs": [
    {
     "name": "stdout",
     "output_type": "stream",
     "text": [
      "[[1 0 0]\n",
      " [1 0 0]\n",
      " [1 0 0]\n",
      " [1 0 0]\n",
      " [1 0 0]\n",
      " [1 0 0]\n",
      " [1 0 0]\n",
      " [1 0 0]\n",
      " [1 0 0]\n",
      " [1 0 0]\n",
      " [1 0 0]\n",
      " [1 0 0]\n",
      " [1 0 0]\n",
      " [1 0 0]\n",
      " [1 0 0]\n",
      " [1 0 0]\n",
      " [1 0 0]\n",
      " [1 0 0]\n",
      " [1 0 0]\n",
      " [1 0 0]\n",
      " [1 0 0]\n",
      " [1 0 0]\n",
      " [1 0 0]\n",
      " [1 0 0]\n",
      " [1 0 0]\n",
      " [1 0 0]\n",
      " [1 0 0]\n",
      " [1 0 0]\n",
      " [1 0 0]\n",
      " [1 0 0]\n",
      " [1 0 0]\n",
      " [1 0 0]\n",
      " [1 0 0]\n",
      " [1 0 0]\n",
      " [1 0 0]\n",
      " [1 0 0]\n",
      " [1 0 0]\n",
      " [1 0 0]\n",
      " [1 0 0]\n",
      " [1 0 0]\n",
      " [1 0 0]\n",
      " [1 0 0]\n",
      " [1 0 0]\n",
      " [1 0 0]\n",
      " [1 0 0]\n",
      " [1 0 0]\n",
      " [1 0 0]\n",
      " [1 0 0]\n",
      " [1 0 0]\n",
      " [1 0 0]\n",
      " [1 0 0]\n",
      " [0 1 0]\n",
      " [0 1 0]\n",
      " [0 1 0]\n",
      " [0 1 0]\n",
      " [0 1 0]\n",
      " [0 1 0]\n",
      " [0 1 0]\n",
      " [0 1 0]\n",
      " [0 1 0]\n",
      " [0 1 0]\n",
      " [0 1 0]\n",
      " [0 1 0]\n",
      " [0 1 0]\n",
      " [0 1 0]\n",
      " [0 1 0]\n",
      " [0 1 0]\n",
      " [0 1 0]\n",
      " [0 1 0]\n",
      " [0 1 0]\n",
      " [0 1 0]\n",
      " [0 1 0]\n",
      " [0 1 0]\n",
      " [0 1 0]\n",
      " [0 1 0]\n",
      " [0 1 0]\n",
      " [0 1 0]\n",
      " [0 1 0]\n",
      " [0 1 0]\n",
      " [0 1 0]\n",
      " [0 1 0]\n",
      " [0 1 0]\n",
      " [0 1 0]\n",
      " [0 1 0]\n",
      " [0 1 0]\n",
      " [0 1 0]\n",
      " [0 1 0]\n",
      " [0 1 0]\n",
      " [0 1 0]\n",
      " [0 1 0]\n",
      " [0 1 0]\n",
      " [0 1 0]\n",
      " [0 1 0]\n",
      " [0 1 0]\n",
      " [0 1 0]\n",
      " [0 1 0]\n",
      " [0 1 0]\n",
      " [0 1 0]\n",
      " [0 1 0]\n",
      " [0 1 0]\n",
      " [0 1 0]\n",
      " [0 1 0]\n",
      " [0 0 1]\n",
      " [0 0 1]\n",
      " [0 0 1]\n",
      " [0 0 1]\n",
      " [0 0 1]\n",
      " [0 0 1]\n",
      " [0 0 1]\n",
      " [0 0 1]\n",
      " [0 0 1]\n",
      " [0 0 1]\n",
      " [0 0 1]\n",
      " [0 0 1]\n",
      " [0 0 1]\n",
      " [0 0 1]\n",
      " [0 0 1]\n",
      " [0 0 1]\n",
      " [0 0 1]\n",
      " [0 0 1]\n",
      " [0 0 1]\n",
      " [0 0 1]\n",
      " [0 0 1]\n",
      " [0 0 1]\n",
      " [0 0 1]\n",
      " [0 0 1]\n",
      " [0 0 1]\n",
      " [0 0 1]\n",
      " [0 0 1]\n",
      " [0 0 1]\n",
      " [0 0 1]\n",
      " [0 0 1]\n",
      " [0 0 1]\n",
      " [0 0 1]\n",
      " [0 0 1]\n",
      " [0 0 1]\n",
      " [0 0 1]\n",
      " [0 0 1]\n",
      " [0 0 1]\n",
      " [0 0 1]\n",
      " [0 0 1]\n",
      " [0 0 1]\n",
      " [0 0 1]\n",
      " [0 0 1]\n",
      " [0 0 1]\n",
      " [0 0 1]\n",
      " [0 0 1]\n",
      " [0 0 1]\n",
      " [0 0 1]\n",
      " [0 0 1]\n",
      " [0 0 1]\n",
      " [0 0 1]\n",
      " [0 0 1]]\n"
     ]
    }
   ],
   "source": [
    "# ubah nilai dari labels menjadi binary\n",
    "lb = LabelBinarizer()\n",
    "labels = lb.fit_transform(labels)\n",
    "print(labels)"
   ]
  },
  {
   "cell_type": "markdown",
   "metadata": {},
   "source": [
    "<h3>4. Split Dataset</h3>"
   ]
  },
  {
   "cell_type": "code",
   "execution_count": 36,
   "metadata": {},
   "outputs": [],
   "source": [
    "x_train, x_test, y_train, y_test = train_test_split(data, labels, test_size=0.2, random_state=42)"
   ]
  },
  {
   "cell_type": "code",
   "execution_count": 37,
   "metadata": {},
   "outputs": [
    {
     "name": "stdout",
     "output_type": "stream",
     "text": [
      "Ukuran data train = (122, 3072)\n",
      "Ukuran data test = (31, 3072)\n"
     ]
    }
   ],
   "source": [
    "print('Ukuran data train =', x_train.shape)\n",
    "print('Ukuran data test =', x_test.shape)"
   ]
  },
  {
   "cell_type": "markdown",
   "metadata": {},
   "source": [
    "<h3>5. Build ANN Architecture</h3>"
   ]
  },
  {
   "cell_type": "code",
   "execution_count": 38,
   "metadata": {},
   "outputs": [],
   "source": [
    "# buat ANN dengan arsitektur input layer (3072) - hidden layer (512) - hidden layer (1024) - output layer (3)\n",
    "model = Sequential()\n",
    "model.add(Dense(512, input_shape=(3072,), activation=\"relu\"))\n",
    "model.add(Dense(1024, activation=\"relu\"))\n",
    "model.add(Dense(len(label_list), activation=\"softmax\"))"
   ]
  },
  {
   "cell_type": "code",
   "execution_count": 39,
   "metadata": {},
   "outputs": [
    {
     "name": "stdout",
     "output_type": "stream",
     "text": [
      "Model: \"sequential_2\"\n",
      "_________________________________________________________________\n",
      " Layer (type)                Output Shape              Param #   \n",
      "=================================================================\n",
      " dense_6 (Dense)             (None, 512)               1573376   \n",
      "                                                                 \n",
      " dense_7 (Dense)             (None, 1024)              525312    \n",
      "                                                                 \n",
      " dense_8 (Dense)             (None, 3)                 3075      \n",
      "                                                                 \n",
      "=================================================================\n",
      "Total params: 2,101,763\n",
      "Trainable params: 2,101,763\n",
      "Non-trainable params: 0\n",
      "_________________________________________________________________\n"
     ]
    }
   ],
   "source": [
    "model.summary()"
   ]
  },
  {
   "cell_type": "code",
   "execution_count": 40,
   "metadata": {},
   "outputs": [],
   "source": [
    "# tentukan hyperparameter\n",
    "lr = 0.01\n",
    "max_epochs = 100\n",
    "opt_funct = SGD(learning_rate=lr)"
   ]
  },
  {
   "cell_type": "code",
   "execution_count": 41,
   "metadata": {},
   "outputs": [],
   "source": [
    "# compile arsitektur yang telah dibuat\n",
    "model.compile(loss = 'categorical_crossentropy', \n",
    "              optimizer = opt_funct, \n",
    "              metrics = ['accuracy'])"
   ]
  },
  {
   "cell_type": "markdown",
   "metadata": {},
   "source": [
    "<h3>6. Train Model</h3>"
   ]
  },
  {
   "cell_type": "code",
   "execution_count": 42,
   "metadata": {},
   "outputs": [
    {
     "name": "stdout",
     "output_type": "stream",
     "text": [
      "Epoch 1/100\n",
      "4/4 [==============================] - 5s 387ms/step - loss: 1.7084 - accuracy: 0.3770 - val_loss: 1.6449 - val_accuracy: 0.2581\n",
      "Epoch 2/100\n",
      "4/4 [==============================] - 0s 123ms/step - loss: 1.1957 - accuracy: 0.4836 - val_loss: 1.2436 - val_accuracy: 0.3871\n",
      "Epoch 3/100\n",
      "4/4 [==============================] - 0s 120ms/step - loss: 1.0775 - accuracy: 0.3852 - val_loss: 0.9799 - val_accuracy: 0.4194\n",
      "Epoch 4/100\n",
      "4/4 [==============================] - 0s 120ms/step - loss: 0.9128 - accuracy: 0.5000 - val_loss: 0.8531 - val_accuracy: 0.5806\n",
      "Epoch 5/100\n",
      "4/4 [==============================] - 0s 109ms/step - loss: 0.8096 - accuracy: 0.5820 - val_loss: 0.8260 - val_accuracy: 0.5806\n",
      "Epoch 6/100\n",
      "4/4 [==============================] - 0s 112ms/step - loss: 0.8161 - accuracy: 0.5820 - val_loss: 0.7889 - val_accuracy: 0.5484\n",
      "Epoch 7/100\n",
      "4/4 [==============================] - 0s 120ms/step - loss: 0.8196 - accuracy: 0.5492 - val_loss: 0.9810 - val_accuracy: 0.5161\n",
      "Epoch 8/100\n",
      "4/4 [==============================] - 0s 112ms/step - loss: 0.8682 - accuracy: 0.5738 - val_loss: 0.7425 - val_accuracy: 0.6774\n",
      "Epoch 9/100\n",
      "4/4 [==============================] - 0s 109ms/step - loss: 0.7224 - accuracy: 0.6230 - val_loss: 0.7284 - val_accuracy: 0.6774\n",
      "Epoch 10/100\n",
      "4/4 [==============================] - 1s 157ms/step - loss: 0.7441 - accuracy: 0.5738 - val_loss: 0.7568 - val_accuracy: 0.5161\n",
      "Epoch 11/100\n",
      "4/4 [==============================] - 1s 163ms/step - loss: 0.8605 - accuracy: 0.5738 - val_loss: 0.7802 - val_accuracy: 0.5161\n",
      "Epoch 12/100\n",
      "4/4 [==============================] - 0s 123ms/step - loss: 0.7267 - accuracy: 0.5574 - val_loss: 0.7406 - val_accuracy: 0.6129\n",
      "Epoch 13/100\n",
      "4/4 [==============================] - 0s 133ms/step - loss: 0.6703 - accuracy: 0.6148 - val_loss: 0.6865 - val_accuracy: 0.6774\n",
      "Epoch 14/100\n",
      "4/4 [==============================] - 0s 128ms/step - loss: 0.6744 - accuracy: 0.6230 - val_loss: 0.6727 - val_accuracy: 0.6774\n",
      "Epoch 15/100\n",
      "4/4 [==============================] - 0s 120ms/step - loss: 0.7076 - accuracy: 0.5820 - val_loss: 0.6711 - val_accuracy: 0.5484\n",
      "Epoch 16/100\n",
      "4/4 [==============================] - 0s 123ms/step - loss: 0.6916 - accuracy: 0.5738 - val_loss: 0.6999 - val_accuracy: 0.6129\n",
      "Epoch 17/100\n",
      "4/4 [==============================] - 0s 136ms/step - loss: 0.9408 - accuracy: 0.4426 - val_loss: 0.7118 - val_accuracy: 0.5806\n",
      "Epoch 18/100\n",
      "4/4 [==============================] - 0s 125ms/step - loss: 0.7077 - accuracy: 0.5984 - val_loss: 0.9988 - val_accuracy: 0.3871\n",
      "Epoch 19/100\n",
      "4/4 [==============================] - 0s 136ms/step - loss: 0.6997 - accuracy: 0.5574 - val_loss: 0.7079 - val_accuracy: 0.5806\n",
      "Epoch 20/100\n",
      "4/4 [==============================] - 0s 125ms/step - loss: 0.6268 - accuracy: 0.6557 - val_loss: 0.6402 - val_accuracy: 0.5484\n",
      "Epoch 21/100\n",
      "4/4 [==============================] - 0s 123ms/step - loss: 0.6190 - accuracy: 0.6311 - val_loss: 0.6997 - val_accuracy: 0.6129\n",
      "Epoch 22/100\n",
      "4/4 [==============================] - 0s 123ms/step - loss: 0.6823 - accuracy: 0.6230 - val_loss: 0.6254 - val_accuracy: 0.4516\n",
      "Epoch 23/100\n",
      "4/4 [==============================] - 0s 123ms/step - loss: 0.6077 - accuracy: 0.6557 - val_loss: 0.6709 - val_accuracy: 0.5161\n",
      "Epoch 24/100\n",
      "4/4 [==============================] - 0s 131ms/step - loss: 0.6035 - accuracy: 0.6557 - val_loss: 0.6254 - val_accuracy: 0.5806\n",
      "Epoch 25/100\n",
      "4/4 [==============================] - 0s 107ms/step - loss: 0.5860 - accuracy: 0.6311 - val_loss: 0.6215 - val_accuracy: 0.5161\n",
      "Epoch 26/100\n",
      "4/4 [==============================] - 0s 93ms/step - loss: 0.5739 - accuracy: 0.6639 - val_loss: 0.6306 - val_accuracy: 0.7097\n",
      "Epoch 27/100\n",
      "4/4 [==============================] - 0s 91ms/step - loss: 0.5933 - accuracy: 0.6393 - val_loss: 0.6288 - val_accuracy: 0.7097\n",
      "Epoch 28/100\n",
      "4/4 [==============================] - 0s 99ms/step - loss: 0.6389 - accuracy: 0.5820 - val_loss: 0.7183 - val_accuracy: 0.5806\n",
      "Epoch 29/100\n",
      "4/4 [==============================] - 1s 161ms/step - loss: 0.5954 - accuracy: 0.6557 - val_loss: 0.6105 - val_accuracy: 0.5161\n",
      "Epoch 30/100\n",
      "4/4 [==============================] - 0s 88ms/step - loss: 0.5684 - accuracy: 0.6967 - val_loss: 0.7272 - val_accuracy: 0.5161\n",
      "Epoch 31/100\n",
      "4/4 [==============================] - 0s 104ms/step - loss: 0.6090 - accuracy: 0.6967 - val_loss: 0.7347 - val_accuracy: 0.5806\n",
      "Epoch 32/100\n",
      "4/4 [==============================] - 0s 93ms/step - loss: 0.5576 - accuracy: 0.6885 - val_loss: 0.5991 - val_accuracy: 0.5484\n",
      "Epoch 33/100\n",
      "4/4 [==============================] - 0s 99ms/step - loss: 0.6501 - accuracy: 0.5902 - val_loss: 1.3543 - val_accuracy: 0.3226\n",
      "Epoch 34/100\n",
      "4/4 [==============================] - 0s 99ms/step - loss: 0.8754 - accuracy: 0.5328 - val_loss: 0.7646 - val_accuracy: 0.5484\n",
      "Epoch 35/100\n",
      "4/4 [==============================] - 0s 99ms/step - loss: 0.6406 - accuracy: 0.6721 - val_loss: 0.7338 - val_accuracy: 0.5484\n",
      "Epoch 36/100\n",
      "4/4 [==============================] - 0s 107ms/step - loss: 0.6026 - accuracy: 0.6066 - val_loss: 0.6535 - val_accuracy: 0.6129\n",
      "Epoch 37/100\n",
      "4/4 [==============================] - 0s 99ms/step - loss: 0.5843 - accuracy: 0.6311 - val_loss: 0.6038 - val_accuracy: 0.7097\n",
      "Epoch 38/100\n",
      "4/4 [==============================] - 0s 109ms/step - loss: 0.5650 - accuracy: 0.6721 - val_loss: 0.5830 - val_accuracy: 0.5806\n",
      "Epoch 39/100\n",
      "4/4 [==============================] - 0s 104ms/step - loss: 0.5752 - accuracy: 0.6311 - val_loss: 0.5976 - val_accuracy: 0.6774\n",
      "Epoch 40/100\n",
      "4/4 [==============================] - 0s 104ms/step - loss: 0.6128 - accuracy: 0.6393 - val_loss: 0.5852 - val_accuracy: 0.7097\n",
      "Epoch 41/100\n",
      "4/4 [==============================] - 0s 107ms/step - loss: 0.5532 - accuracy: 0.7049 - val_loss: 0.6968 - val_accuracy: 0.5806\n",
      "Epoch 42/100\n",
      "4/4 [==============================] - 0s 93ms/step - loss: 0.5625 - accuracy: 0.7049 - val_loss: 0.6027 - val_accuracy: 0.5161\n",
      "Epoch 43/100\n",
      "4/4 [==============================] - 0s 93ms/step - loss: 0.5495 - accuracy: 0.7131 - val_loss: 0.5879 - val_accuracy: 0.5161\n",
      "Epoch 44/100\n",
      "4/4 [==============================] - 0s 107ms/step - loss: 0.5357 - accuracy: 0.6803 - val_loss: 0.5999 - val_accuracy: 0.7097\n",
      "Epoch 45/100\n",
      "4/4 [==============================] - 0s 85ms/step - loss: 0.5958 - accuracy: 0.6803 - val_loss: 0.5721 - val_accuracy: 0.7097\n",
      "Epoch 46/100\n",
      "4/4 [==============================] - 0s 101ms/step - loss: 0.5334 - accuracy: 0.6967 - val_loss: 0.6277 - val_accuracy: 0.6129\n",
      "Epoch 47/100\n",
      "4/4 [==============================] - 0s 85ms/step - loss: 0.5634 - accuracy: 0.7295 - val_loss: 0.6004 - val_accuracy: 0.4839\n",
      "Epoch 48/100\n",
      "4/4 [==============================] - 0s 88ms/step - loss: 0.5451 - accuracy: 0.6967 - val_loss: 0.7198 - val_accuracy: 0.4839\n",
      "Epoch 49/100\n",
      "4/4 [==============================] - 0s 85ms/step - loss: 0.5678 - accuracy: 0.7213 - val_loss: 0.6534 - val_accuracy: 0.6129\n",
      "Epoch 50/100\n",
      "4/4 [==============================] - 0s 85ms/step - loss: 0.5705 - accuracy: 0.6148 - val_loss: 0.6188 - val_accuracy: 0.7097\n",
      "Epoch 51/100\n",
      "4/4 [==============================] - 0s 83ms/step - loss: 0.5339 - accuracy: 0.6803 - val_loss: 0.5926 - val_accuracy: 0.4839\n",
      "Epoch 52/100\n",
      "4/4 [==============================] - 0s 85ms/step - loss: 0.5695 - accuracy: 0.6311 - val_loss: 0.7140 - val_accuracy: 0.6452\n",
      "Epoch 53/100\n",
      "4/4 [==============================] - 0s 85ms/step - loss: 0.5655 - accuracy: 0.7131 - val_loss: 0.5973 - val_accuracy: 0.4839\n",
      "Epoch 54/100\n",
      "4/4 [==============================] - 0s 83ms/step - loss: 0.5392 - accuracy: 0.6639 - val_loss: 0.6380 - val_accuracy: 0.7097\n",
      "Epoch 55/100\n",
      "4/4 [==============================] - 0s 93ms/step - loss: 0.5451 - accuracy: 0.6967 - val_loss: 0.5979 - val_accuracy: 0.5484\n",
      "Epoch 56/100\n",
      "4/4 [==============================] - 0s 83ms/step - loss: 0.5349 - accuracy: 0.6721 - val_loss: 0.6632 - val_accuracy: 0.6129\n",
      "Epoch 57/100\n",
      "4/4 [==============================] - 0s 80ms/step - loss: 0.5611 - accuracy: 0.6475 - val_loss: 0.5765 - val_accuracy: 0.5806\n",
      "Epoch 58/100\n",
      "4/4 [==============================] - 0s 80ms/step - loss: 0.5387 - accuracy: 0.7131 - val_loss: 0.6242 - val_accuracy: 0.7097\n",
      "Epoch 59/100\n",
      "4/4 [==============================] - 1s 93ms/step - loss: 0.5635 - accuracy: 0.6803 - val_loss: 0.5696 - val_accuracy: 0.5806\n",
      "Epoch 60/100\n",
      "4/4 [==============================] - 0s 80ms/step - loss: 0.5709 - accuracy: 0.6148 - val_loss: 0.6065 - val_accuracy: 0.4839\n",
      "Epoch 61/100\n",
      "4/4 [==============================] - 0s 83ms/step - loss: 0.5193 - accuracy: 0.7131 - val_loss: 0.5865 - val_accuracy: 0.7097\n",
      "Epoch 62/100\n",
      "4/4 [==============================] - 0s 78ms/step - loss: 0.5460 - accuracy: 0.6803 - val_loss: 0.6501 - val_accuracy: 0.6129\n",
      "Epoch 63/100\n",
      "4/4 [==============================] - 0s 80ms/step - loss: 0.5084 - accuracy: 0.7213 - val_loss: 0.6881 - val_accuracy: 0.6129\n",
      "Epoch 64/100\n",
      "4/4 [==============================] - 0s 77ms/step - loss: 0.5283 - accuracy: 0.6721 - val_loss: 0.5694 - val_accuracy: 0.6774\n",
      "Epoch 65/100\n",
      "4/4 [==============================] - 0s 91ms/step - loss: 0.5128 - accuracy: 0.7049 - val_loss: 0.5671 - val_accuracy: 0.7097\n",
      "Epoch 66/100\n",
      "4/4 [==============================] - 0s 80ms/step - loss: 0.4992 - accuracy: 0.7377 - val_loss: 0.6835 - val_accuracy: 0.5484\n",
      "Epoch 67/100\n",
      "4/4 [==============================] - 0s 83ms/step - loss: 0.5226 - accuracy: 0.6803 - val_loss: 0.5939 - val_accuracy: 0.4839\n",
      "Epoch 68/100\n",
      "4/4 [==============================] - 0s 83ms/step - loss: 0.5057 - accuracy: 0.6885 - val_loss: 0.6088 - val_accuracy: 0.4839\n",
      "Epoch 69/100\n",
      "4/4 [==============================] - 0s 93ms/step - loss: 0.5496 - accuracy: 0.7131 - val_loss: 0.5856 - val_accuracy: 0.6129\n",
      "Epoch 70/100\n",
      "4/4 [==============================] - 0s 80ms/step - loss: 0.5127 - accuracy: 0.7459 - val_loss: 0.6102 - val_accuracy: 0.5161\n",
      "Epoch 71/100\n",
      "4/4 [==============================] - 0s 85ms/step - loss: 0.5503 - accuracy: 0.6803 - val_loss: 0.6973 - val_accuracy: 0.6129\n",
      "Epoch 72/100\n",
      "4/4 [==============================] - 0s 83ms/step - loss: 0.5068 - accuracy: 0.7131 - val_loss: 0.5889 - val_accuracy: 0.4839\n",
      "Epoch 73/100\n",
      "4/4 [==============================] - 0s 77ms/step - loss: 0.5195 - accuracy: 0.7295 - val_loss: 0.5980 - val_accuracy: 0.5161\n",
      "Epoch 74/100\n",
      "4/4 [==============================] - 0s 77ms/step - loss: 0.4949 - accuracy: 0.7213 - val_loss: 0.5866 - val_accuracy: 0.6129\n",
      "Epoch 75/100\n",
      "4/4 [==============================] - 0s 93ms/step - loss: 0.6284 - accuracy: 0.6066 - val_loss: 0.6230 - val_accuracy: 0.7097\n",
      "Epoch 76/100\n",
      "4/4 [==============================] - 0s 80ms/step - loss: 0.5176 - accuracy: 0.6639 - val_loss: 0.5710 - val_accuracy: 0.4516\n",
      "Epoch 77/100\n",
      "4/4 [==============================] - 0s 80ms/step - loss: 0.5076 - accuracy: 0.6885 - val_loss: 0.5782 - val_accuracy: 0.5806\n",
      "Epoch 78/100\n",
      "4/4 [==============================] - 0s 91ms/step - loss: 0.5123 - accuracy: 0.7295 - val_loss: 0.5758 - val_accuracy: 0.6129\n",
      "Epoch 79/100\n",
      "4/4 [==============================] - 0s 83ms/step - loss: 0.5528 - accuracy: 0.6967 - val_loss: 0.6013 - val_accuracy: 0.5161\n",
      "Epoch 80/100\n",
      "4/4 [==============================] - 0s 80ms/step - loss: 0.5151 - accuracy: 0.6885 - val_loss: 0.6318 - val_accuracy: 0.5161\n",
      "Epoch 81/100\n",
      "4/4 [==============================] - 0s 83ms/step - loss: 0.5156 - accuracy: 0.6885 - val_loss: 0.6342 - val_accuracy: 0.6129\n",
      "Epoch 82/100\n",
      "4/4 [==============================] - 0s 85ms/step - loss: 0.5442 - accuracy: 0.6803 - val_loss: 0.6053 - val_accuracy: 0.5161\n",
      "Epoch 83/100\n",
      "4/4 [==============================] - 0s 85ms/step - loss: 0.5198 - accuracy: 0.7213 - val_loss: 0.6212 - val_accuracy: 0.4839\n",
      "Epoch 84/100\n",
      "4/4 [==============================] - 0s 83ms/step - loss: 0.5184 - accuracy: 0.6885 - val_loss: 0.5664 - val_accuracy: 0.4839\n",
      "Epoch 85/100\n",
      "4/4 [==============================] - 0s 91ms/step - loss: 0.5110 - accuracy: 0.7295 - val_loss: 0.5933 - val_accuracy: 0.5484\n",
      "Epoch 86/100\n",
      "4/4 [==============================] - 0s 85ms/step - loss: 0.4957 - accuracy: 0.7213 - val_loss: 0.5838 - val_accuracy: 0.6774\n",
      "Epoch 87/100\n",
      "4/4 [==============================] - 0s 80ms/step - loss: 0.4986 - accuracy: 0.6885 - val_loss: 0.5767 - val_accuracy: 0.7097\n",
      "Epoch 88/100\n",
      "4/4 [==============================] - 0s 83ms/step - loss: 0.5103 - accuracy: 0.7295 - val_loss: 0.5691 - val_accuracy: 0.4839\n",
      "Epoch 89/100\n",
      "4/4 [==============================] - 0s 64ms/step - loss: 0.5011 - accuracy: 0.7213 - val_loss: 0.6255 - val_accuracy: 0.5806\n",
      "Epoch 90/100\n",
      "4/4 [==============================] - 0s 85ms/step - loss: 0.5126 - accuracy: 0.7459 - val_loss: 0.6110 - val_accuracy: 0.7097\n",
      "Epoch 91/100\n",
      "4/4 [==============================] - 0s 147ms/step - loss: 0.5193 - accuracy: 0.7131 - val_loss: 0.5614 - val_accuracy: 0.7097\n",
      "Epoch 92/100\n",
      "4/4 [==============================] - 0s 85ms/step - loss: 0.5429 - accuracy: 0.6803 - val_loss: 0.6371 - val_accuracy: 0.6129\n",
      "Epoch 93/100\n",
      "4/4 [==============================] - 0s 83ms/step - loss: 0.5352 - accuracy: 0.6885 - val_loss: 0.5746 - val_accuracy: 0.4516\n",
      "Epoch 94/100\n",
      "4/4 [==============================] - 0s 80ms/step - loss: 0.5109 - accuracy: 0.6803 - val_loss: 0.7679 - val_accuracy: 0.6452\n",
      "Epoch 95/100\n",
      "4/4 [==============================] - 0s 80ms/step - loss: 0.5632 - accuracy: 0.6885 - val_loss: 0.8203 - val_accuracy: 0.6774\n",
      "Epoch 96/100\n",
      "4/4 [==============================] - 0s 75ms/step - loss: 0.6373 - accuracy: 0.6066 - val_loss: 0.5658 - val_accuracy: 0.7097\n",
      "Epoch 97/100\n",
      "4/4 [==============================] - 0s 75ms/step - loss: 0.5133 - accuracy: 0.6721 - val_loss: 0.5857 - val_accuracy: 0.5161\n",
      "Epoch 98/100\n",
      "4/4 [==============================] - 0s 77ms/step - loss: 0.4926 - accuracy: 0.7377 - val_loss: 0.6105 - val_accuracy: 0.7097\n",
      "Epoch 99/100\n",
      "4/4 [==============================] - 0s 75ms/step - loss: 0.6027 - accuracy: 0.5984 - val_loss: 0.7413 - val_accuracy: 0.5484\n",
      "Epoch 100/100\n",
      "4/4 [==============================] - 0s 83ms/step - loss: 0.4935 - accuracy: 0.6885 - val_loss: 0.5814 - val_accuracy: 0.7097\n"
     ]
    }
   ],
   "source": [
    "H = model.fit(x_train, y_train, validation_data=(x_test, y_test), \n",
    "          epochs=max_epochs, batch_size=32)"
   ]
  },
  {
   "cell_type": "code",
   "execution_count": 43,
   "metadata": {},
   "outputs": [
    {
     "data": {
      "image/png": "[encoded data removed]",
      "text/plain": [
       "<Figure size 432x288 with 1 Axes>"
      ]
     },
     "metadata": {},
     "output_type": "display_data"
    }
   ],
   "source": [
    "N = np.arange(0, max_epochs)\n",
    "plt.style.use(\"ggplot\")\n",
    "plt.figure()\n",
    "plt.plot(N, H.history[\"loss\"], label=\"train_loss\")\n",
    "plt.plot(N, H.history[\"val_loss\"], label=\"val_loss\")\n",
    "plt.plot(N, H.history[\"accuracy\"], label=\"train_acc\")\n",
    "plt.plot(N, H.history[\"val_accuracy\"], label=\"val_acc\")\n",
    "plt.xlabel(\"Epoch #\")\n",
    "plt.legend()\n",
    "plt.show()"
   ]
  },
  {
   "cell_type": "markdown",
   "metadata": {},
   "source": [
    "<h3>7. Evaluate the Model</h3>"
   ]
  },
  {
   "cell_type": "code",
   "execution_count": 44,
   "metadata": {},
   "outputs": [
    {
     "name": "stdout",
     "output_type": "stream",
     "text": [
      "              precision    recall  f1-score   support\n",
      "\n",
      " Daun Nangka       0.56      0.91      0.69        11\n",
      "  Daun Sirih       0.92      1.00      0.96        12\n",
      "      Nangka       0.00      0.00      0.00         8\n",
      "\n",
      "    accuracy                           0.71        31\n",
      "   macro avg       0.49      0.64      0.55        31\n",
      "weighted avg       0.55      0.71      0.62        31\n",
      "\n"
     ]
    },
    {
     "name": "stderr",
     "output_type": "stream",
     "text": [
      "C:\\Users\\ASPIRE 5\\AppData\\Local\\Programs\\Python\\Python39\\lib\\site-packages\\sklearn\\metrics\\_classification.py:1308: UndefinedMetricWarning: Precision and F-score are ill-defined and being set to 0.0 in labels with no predicted samples. Use `zero_division` parameter to control this behavior.\n",
      "  _warn_prf(average, modifier, msg_start, len(result))\n",
      "C:\\Users\\ASPIRE 5\\AppData\\Local\\Programs\\Python\\Python39\\lib\\site-packages\\sklearn\\metrics\\_classification.py:1308: UndefinedMetricWarning: Precision and F-score are ill-defined and being set to 0.0 in labels with no predicted samples. Use `zero_division` parameter to control this behavior.\n",
      "  _warn_prf(average, modifier, msg_start, len(result))\n",
      "C:\\Users\\ASPIRE 5\\AppData\\Local\\Programs\\Python\\Python39\\lib\\site-packages\\sklearn\\metrics\\_classification.py:1308: UndefinedMetricWarning: Precision and F-score are ill-defined and being set to 0.0 in labels with no predicted samples. Use `zero_division` parameter to control this behavior.\n",
      "  _warn_prf(average, modifier, msg_start, len(result))\n"
     ]
    }
   ],
   "source": [
    "# menghitung nilai akurasi model terhadap data test\n",
    "predictions = model.predict(x_test, batch_size=32)\n",
    "print(classification_report(y_test.argmax(axis=1), predictions.argmax(axis=1), target_names=label_list))"
   ]
  },
  {
   "cell_type": "code",
   "execution_count": 45,
   "metadata": {},
   "outputs": [],
   "source": [
    "# uji model menggunakan image lain\n",
    "queryPath = imagePaths+'/Daun Nangka/021.jpg'\n",
    "query = cv2.imread(queryPath)\n",
    "output = query.copy()\n",
    "query = cv2.resize(query, (32, 32)).flatten()\n",
    "q = []\n",
    "q.append(query)\n",
    "q = np.array(q, dtype='float') / 255.0\n",
    "\n",
    "q_pred = model.predict(q)\n",
    "i = q_pred.argmax(axis=1)[0]\n",
    "label = lb.classes_[i]"
   ]
  },
  {
   "cell_type": "code",
   "execution_count": null,
   "metadata": {},
   "outputs": [],
   "source": [
    "text = \"{}: {:.2f}%\".format(label, q_pred[0][i] * 100)\n",
    "cv2.putText(output, text, (10, 30), cv2.FONT_HERSHEY_SIMPLEX, 0.7, (0, 0, 255), 2)\n",
    " \n",
    "# menampilkan output image\n",
    "cv2.imshow('Output', output)\n",
    "cv2.waitKey() # image tidak akan diclose,sebelum user menekan sembarang tombol\n",
    "cv2.destroyWindow('Output') # image akan diclose"
   ]
  }
 ],
 "metadata": {
  "kernelspec": {
   "display_name": "Python 3",
   "language": "python",
   "name": "python3"
  },
  "language_info": {
   "codemirror_mode": {
    "name": "ipython",
    "version": 3
   },
   "file_extension": ".py",
   "mimetype": "text/x-python",
   "name": "python",
   "nbconvert_exporter": "python",
   "pygments_lexer": "ipython3",
   "version": "3.9.7"
  }
 },
 "nbformat": 4,
 "nbformat_minor": 4
}
