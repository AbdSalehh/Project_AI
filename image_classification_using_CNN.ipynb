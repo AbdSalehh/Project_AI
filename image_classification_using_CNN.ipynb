{
 "cells": [
  {
   "cell_type": "markdown",
   "metadata": {},
   "source": [
    "<b><h2>1. Import Module</h2></b>"
   ]
  },
  {
   "cell_type": "code",
   "execution_count": 1,
   "metadata": {},
   "outputs": [],
   "source": [
    "from sklearn.model_selection import train_test_split\n",
    "from sklearn.preprocessing import LabelEncoder\n",
    "from sklearn.metrics import classification_report\n",
    "from tensorflow.keras.models import Sequential\n",
    "from tensorflow.keras.layers import InputLayer, Flatten, Dense, Conv2D, MaxPool2D, Dropout\n",
    "from tensorflow.keras.optimizers import Adam\n",
    "import numpy as np\n",
    "import cv2\n",
    "import glob\n",
    "import matplotlib.pyplot as plt"
   ]
  },
  {
   "cell_type": "markdown",
   "metadata": {},
   "source": [
    "<b><h2>2. Load Dataset</h2></b>"
   ]
  },
  {
   "cell_type": "code",
   "execution_count": 2,
   "metadata": {},
   "outputs": [],
   "source": [
    "imagePaths = 'Dataset\\\\'\n",
    "label_list = ['Nangka', 'Daun Sirih']\n",
    "data = []\n",
    "labels = []"
   ]
  },
  {
   "cell_type": "markdown",
   "metadata": {},
   "source": [
    "<b><h2>3. Data Pre Processing</h2></b>"
   ]
  },
  {
   "cell_type": "code",
   "execution_count": 3,
   "metadata": {},
   "outputs": [],
   "source": [
    "for label in label_list:\n",
    "    for imagePath in glob.glob(imagePaths+label+'\\\\*.jpg'):\n",
    "        #print(imagePath)\n",
    "        image = cv2.imread(imagePath)\n",
    "        image = cv2.resize(image, (32, 32))\n",
    "        data.append(image)\n",
    "        labels.append(label)"
   ]
  },
  {
   "cell_type": "code",
   "execution_count": 4,
   "metadata": {},
   "outputs": [
    {
     "data": {
      "text/plain": [
       "(102, 32, 32, 3)"
      ]
     },
     "execution_count": 4,
     "metadata": {},
     "output_type": "execute_result"
    }
   ],
   "source": [
    "np.array(data).shape"
   ]
  },
  {
   "cell_type": "code",
   "execution_count": 5,
   "metadata": {},
   "outputs": [],
   "source": [
    "# ubah type data dari list menjadi array\n",
    "# ubah nilai dari tiap pixel menjadi range [0..1]\n",
    "data = np.array(data, dtype='float') / 255.0\n",
    "labels = np.array(labels)"
   ]
  },
  {
   "cell_type": "code",
   "execution_count": 6,
   "metadata": {},
   "outputs": [
    {
     "name": "stdout",
     "output_type": "stream",
     "text": [
      "['Nangka' 'Nangka' 'Nangka' 'Nangka' 'Nangka' 'Nangka' 'Nangka' 'Nangka'\n",
      " 'Nangka' 'Nangka' 'Nangka' 'Nangka' 'Nangka' 'Nangka' 'Nangka' 'Nangka'\n",
      " 'Nangka' 'Nangka' 'Nangka' 'Nangka' 'Nangka' 'Nangka' 'Nangka' 'Nangka'\n",
      " 'Nangka' 'Nangka' 'Nangka' 'Nangka' 'Nangka' 'Nangka' 'Nangka' 'Nangka'\n",
      " 'Nangka' 'Nangka' 'Nangka' 'Nangka' 'Nangka' 'Nangka' 'Nangka' 'Nangka'\n",
      " 'Nangka' 'Nangka' 'Nangka' 'Nangka' 'Nangka' 'Nangka' 'Nangka' 'Nangka'\n",
      " 'Nangka' 'Nangka' 'Nangka' 'Daun Sirih' 'Daun Sirih' 'Daun Sirih'\n",
      " 'Daun Sirih' 'Daun Sirih' 'Daun Sirih' 'Daun Sirih' 'Daun Sirih'\n",
      " 'Daun Sirih' 'Daun Sirih' 'Daun Sirih' 'Daun Sirih' 'Daun Sirih'\n",
      " 'Daun Sirih' 'Daun Sirih' 'Daun Sirih' 'Daun Sirih' 'Daun Sirih'\n",
      " 'Daun Sirih' 'Daun Sirih' 'Daun Sirih' 'Daun Sirih' 'Daun Sirih'\n",
      " 'Daun Sirih' 'Daun Sirih' 'Daun Sirih' 'Daun Sirih' 'Daun Sirih'\n",
      " 'Daun Sirih' 'Daun Sirih' 'Daun Sirih' 'Daun Sirih' 'Daun Sirih'\n",
      " 'Daun Sirih' 'Daun Sirih' 'Daun Sirih' 'Daun Sirih' 'Daun Sirih'\n",
      " 'Daun Sirih' 'Daun Sirih' 'Daun Sirih' 'Daun Sirih' 'Daun Sirih'\n",
      " 'Daun Sirih' 'Daun Sirih' 'Daun Sirih' 'Daun Sirih' 'Daun Sirih'\n",
      " 'Daun Sirih' 'Daun Sirih' 'Daun Sirih']\n"
     ]
    }
   ],
   "source": [
    "print(labels)"
   ]
  },
  {
   "cell_type": "code",
   "execution_count": 7,
   "metadata": {},
   "outputs": [
    {
     "name": "stdout",
     "output_type": "stream",
     "text": [
      "[1 1 1 1 1 1 1 1 1 1 1 1 1 1 1 1 1 1 1 1 1 1 1 1 1 1 1 1 1 1 1 1 1 1 1 1 1\n",
      " 1 1 1 1 1 1 1 1 1 1 1 1 1 1 0 0 0 0 0 0 0 0 0 0 0 0 0 0 0 0 0 0 0 0 0 0 0\n",
      " 0 0 0 0 0 0 0 0 0 0 0 0 0 0 0 0 0 0 0 0 0 0 0 0 0 0 0 0]\n"
     ]
    }
   ],
   "source": [
    "# ubah nilai dari labels menjadi binary\n",
    "lb = LabelEncoder()\n",
    "labels = lb.fit_transform(labels)\n",
    "print(labels)"
   ]
  },
  {
   "cell_type": "markdown",
   "metadata": {},
   "source": [
    "<b><h2>4. Split Dataset</h2></b>"
   ]
  },
  {
   "cell_type": "code",
   "execution_count": 8,
   "metadata": {},
   "outputs": [],
   "source": [
    "x_train, x_test, y_train, y_test = train_test_split(\n",
    "    data, labels, test_size=0.2, random_state=42)"
   ]
  },
  {
   "cell_type": "code",
   "execution_count": 9,
   "metadata": {},
   "outputs": [
    {
     "name": "stdout",
     "output_type": "stream",
     "text": [
      "Ukuran data train = (81, 32, 32, 3)\n",
      "Ukuran data test = (21, 32, 32, 3)\n"
     ]
    }
   ],
   "source": [
    "print('Ukuran data train =', x_train.shape)\n",
    "print('Ukuran data test =', x_test.shape)"
   ]
  },
  {
   "cell_type": "markdown",
   "metadata": {},
   "source": [
    "<b><h2>5. Build CNN Architecture</h2></b>"
   ]
  },
  {
   "cell_type": "code",
   "execution_count": 10,
   "metadata": {},
   "outputs": [],
   "source": [
    "model = Sequential()\n",
    "# Extracted Feature Layer\n",
    "model.add(InputLayer(input_shape=[32, 32, 3]))\n",
    "model.add(Conv2D(filters=32, kernel_size=2, strides=1,\n",
    "          padding='same', activation='relu'))\n",
    "model.add(MaxPool2D(pool_size=2, padding='same'))\n",
    "model.add(Conv2D(filters=50, kernel_size=2, strides=1,\n",
    "          padding='same', activation='relu'))\n",
    "model.add(MaxPool2D(pool_size=2, padding='same'))\n",
    "model.add(Dropout(0.25))\n",
    "model.add(Flatten())\n",
    "# Fully Connected Layer\n",
    "model.add(Dense(512, activation='relu'))\n",
    "model.add(Dropout(0.5))\n",
    "model.add(Dense(1, activation='sigmoid'))"
   ]
  },
  {
   "cell_type": "code",
   "execution_count": 11,
   "metadata": {},
   "outputs": [
    {
     "name": "stdout",
     "output_type": "stream",
     "text": [
      "Model: \"sequential\"\n",
      "_________________________________________________________________\n",
      " Layer (type)                Output Shape              Param #   \n",
      "=================================================================\n",
      " conv2d (Conv2D)             (None, 32, 32, 32)        416       \n",
      "                                                                 \n",
      " max_pooling2d (MaxPooling2D  (None, 16, 16, 32)       0         \n",
      " )                                                               \n",
      "                                                                 \n",
      " conv2d_1 (Conv2D)           (None, 16, 16, 50)        6450      \n",
      "                                                                 \n",
      " max_pooling2d_1 (MaxPooling  (None, 8, 8, 50)         0         \n",
      " 2D)                                                             \n",
      "                                                                 \n",
      " dropout (Dropout)           (None, 8, 8, 50)          0         \n",
      "                                                                 \n",
      " flatten (Flatten)           (None, 3200)              0         \n",
      "                                                                 \n",
      " dense (Dense)               (None, 512)               1638912   \n",
      "                                                                 \n",
      " dropout_1 (Dropout)         (None, 512)               0         \n",
      "                                                                 \n",
      " dense_1 (Dense)             (None, 1)                 513       \n",
      "                                                                 \n",
      "=================================================================\n",
      "Total params: 1,646,291\n",
      "Trainable params: 1,646,291\n",
      "Non-trainable params: 0\n",
      "_________________________________________________________________\n"
     ]
    }
   ],
   "source": [
    "model.summary()"
   ]
  },
  {
   "cell_type": "code",
   "execution_count": 12,
   "metadata": {},
   "outputs": [],
   "source": [
    "# tentukan hyperparameter\n",
    "lr = 0.001\n",
    "max_epochs = 100\n",
    "opt_funct = Adam(learning_rate=lr)"
   ]
  },
  {
   "cell_type": "code",
   "execution_count": 13,
   "metadata": {},
   "outputs": [],
   "source": [
    "# compile arsitektur yang telah dibuat\n",
    "model.compile(loss='binary_crossentropy',\n",
    "              optimizer=opt_funct,\n",
    "              metrics=['accuracy'])"
   ]
  },
  {
   "cell_type": "markdown",
   "metadata": {},
   "source": [
    "<b><h2>6. Train Model</h2></b>"
   ]
  },
  {
   "cell_type": "code",
   "execution_count": 14,
   "metadata": {},
   "outputs": [
    {
     "name": "stdout",
     "output_type": "stream",
     "text": [
      "Epoch 1/100\n",
      "3/3 [==============================] - 7s 660ms/step - loss: 1.5686 - accuracy: 0.3951 - val_loss: 1.1793 - val_accuracy: 0.3810\n",
      "Epoch 2/100\n",
      "3/3 [==============================] - 1s 208ms/step - loss: 0.9661 - accuracy: 0.5309 - val_loss: 0.7958 - val_accuracy: 0.3810\n",
      "Epoch 3/100\n",
      "3/3 [==============================] - 1s 196ms/step - loss: 0.5980 - accuracy: 0.6173 - val_loss: 0.5628 - val_accuracy: 0.6667\n",
      "Epoch 4/100\n",
      "3/3 [==============================] - 1s 176ms/step - loss: 0.6501 - accuracy: 0.5556 - val_loss: 0.5296 - val_accuracy: 0.7143\n",
      "Epoch 5/100\n",
      "3/3 [==============================] - 0s 172ms/step - loss: 0.5434 - accuracy: 0.7654 - val_loss: 0.5733 - val_accuracy: 0.7143\n",
      "Epoch 6/100\n",
      "3/3 [==============================] - 0s 164ms/step - loss: 0.5138 - accuracy: 0.7407 - val_loss: 0.5005 - val_accuracy: 0.8095\n",
      "Epoch 7/100\n",
      "3/3 [==============================] - 0s 176ms/step - loss: 0.4067 - accuracy: 0.8765 - val_loss: 0.3764 - val_accuracy: 0.9524\n",
      "Epoch 8/100\n",
      "3/3 [==============================] - 0s 164ms/step - loss: 0.3199 - accuracy: 0.9259 - val_loss: 0.3146 - val_accuracy: 0.9048\n",
      "Epoch 9/100\n",
      "3/3 [==============================] - 0s 168ms/step - loss: 0.2660 - accuracy: 0.9012 - val_loss: 0.2806 - val_accuracy: 0.8571\n",
      "Epoch 10/100\n",
      "3/3 [==============================] - 0s 180ms/step - loss: 0.2037 - accuracy: 0.9259 - val_loss: 0.2661 - val_accuracy: 0.9524\n",
      "Epoch 11/100\n",
      "3/3 [==============================] - 1s 176ms/step - loss: 0.2036 - accuracy: 0.9383 - val_loss: 0.1941 - val_accuracy: 0.9524\n",
      "Epoch 12/100\n",
      "3/3 [==============================] - 0s 168ms/step - loss: 0.1211 - accuracy: 0.9753 - val_loss: 0.1708 - val_accuracy: 0.9048\n",
      "Epoch 13/100\n",
      "3/3 [==============================] - 0s 180ms/step - loss: 0.1300 - accuracy: 0.9506 - val_loss: 0.1594 - val_accuracy: 0.9524\n",
      "Epoch 14/100\n",
      "3/3 [==============================] - 0s 164ms/step - loss: 0.0836 - accuracy: 1.0000 - val_loss: 0.1495 - val_accuracy: 0.9524\n",
      "Epoch 15/100\n",
      "3/3 [==============================] - 0s 172ms/step - loss: 0.0787 - accuracy: 0.9753 - val_loss: 0.1157 - val_accuracy: 0.9524\n",
      "Epoch 16/100\n",
      "3/3 [==============================] - 0s 168ms/step - loss: 0.0619 - accuracy: 0.9753 - val_loss: 0.1183 - val_accuracy: 0.9524\n",
      "Epoch 17/100\n",
      "3/3 [==============================] - 0s 172ms/step - loss: 0.0476 - accuracy: 1.0000 - val_loss: 0.1312 - val_accuracy: 0.9524\n",
      "Epoch 18/100\n",
      "3/3 [==============================] - 0s 172ms/step - loss: 0.0478 - accuracy: 0.9877 - val_loss: 0.1270 - val_accuracy: 0.9524\n",
      "Epoch 19/100\n",
      "3/3 [==============================] - 1s 204ms/step - loss: 0.0388 - accuracy: 0.9877 - val_loss: 0.1339 - val_accuracy: 0.9524\n",
      "Epoch 20/100\n",
      "3/3 [==============================] - 0s 164ms/step - loss: 0.0393 - accuracy: 0.9753 - val_loss: 0.0971 - val_accuracy: 0.9524\n",
      "Epoch 21/100\n",
      "3/3 [==============================] - 0s 168ms/step - loss: 0.0234 - accuracy: 1.0000 - val_loss: 0.1161 - val_accuracy: 0.9524\n",
      "Epoch 22/100\n",
      "3/3 [==============================] - 0s 168ms/step - loss: 0.0176 - accuracy: 1.0000 - val_loss: 0.1612 - val_accuracy: 0.9524\n",
      "Epoch 23/100\n",
      "3/3 [==============================] - 0s 168ms/step - loss: 0.0144 - accuracy: 1.0000 - val_loss: 0.1285 - val_accuracy: 0.9524\n",
      "Epoch 24/100\n",
      "3/3 [==============================] - 0s 168ms/step - loss: 0.0136 - accuracy: 1.0000 - val_loss: 0.0673 - val_accuracy: 0.9524\n",
      "Epoch 25/100\n",
      "3/3 [==============================] - 0s 164ms/step - loss: 0.0124 - accuracy: 1.0000 - val_loss: 0.0998 - val_accuracy: 0.9524\n",
      "Epoch 26/100\n",
      "3/3 [==============================] - 0s 164ms/step - loss: 0.0126 - accuracy: 1.0000 - val_loss: 0.1475 - val_accuracy: 0.9524\n",
      "Epoch 27/100\n",
      "3/3 [==============================] - 0s 164ms/step - loss: 0.0097 - accuracy: 1.0000 - val_loss: 0.1953 - val_accuracy: 0.9048\n",
      "Epoch 28/100\n",
      "3/3 [==============================] - 0s 168ms/step - loss: 0.0106 - accuracy: 1.0000 - val_loss: 0.1604 - val_accuracy: 0.9524\n",
      "Epoch 29/100\n",
      "3/3 [==============================] - 1s 164ms/step - loss: 0.0041 - accuracy: 1.0000 - val_loss: 0.1054 - val_accuracy: 0.9524\n",
      "Epoch 30/100\n",
      "3/3 [==============================] - 0s 172ms/step - loss: 0.0100 - accuracy: 1.0000 - val_loss: 0.1332 - val_accuracy: 0.9524\n",
      "Epoch 31/100\n",
      "3/3 [==============================] - 0s 176ms/step - loss: 0.0072 - accuracy: 1.0000 - val_loss: 0.1252 - val_accuracy: 0.9524\n",
      "Epoch 32/100\n",
      "3/3 [==============================] - 0s 172ms/step - loss: 0.0045 - accuracy: 1.0000 - val_loss: 0.1004 - val_accuracy: 0.9524\n",
      "Epoch 33/100\n",
      "3/3 [==============================] - 0s 172ms/step - loss: 0.0070 - accuracy: 1.0000 - val_loss: 0.1438 - val_accuracy: 0.9524\n",
      "Epoch 34/100\n",
      "3/3 [==============================] - 0s 164ms/step - loss: 0.0027 - accuracy: 1.0000 - val_loss: 0.1784 - val_accuracy: 0.9048\n",
      "Epoch 35/100\n",
      "3/3 [==============================] - 0s 160ms/step - loss: 0.0052 - accuracy: 1.0000 - val_loss: 0.1688 - val_accuracy: 0.9524\n",
      "Epoch 36/100\n",
      "3/3 [==============================] - 0s 184ms/step - loss: 0.0030 - accuracy: 1.0000 - val_loss: 0.1437 - val_accuracy: 0.9524\n",
      "Epoch 37/100\n",
      "3/3 [==============================] - 0s 172ms/step - loss: 0.0027 - accuracy: 1.0000 - val_loss: 0.1337 - val_accuracy: 0.9524\n",
      "Epoch 38/100\n",
      "3/3 [==============================] - 0s 172ms/step - loss: 0.0021 - accuracy: 1.0000 - val_loss: 0.1213 - val_accuracy: 0.9524\n",
      "Epoch 39/100\n",
      "3/3 [==============================] - 0s 172ms/step - loss: 0.0058 - accuracy: 1.0000 - val_loss: 0.1513 - val_accuracy: 0.9524\n",
      "Epoch 40/100\n",
      "3/3 [==============================] - 0s 164ms/step - loss: 0.0024 - accuracy: 1.0000 - val_loss: 0.1492 - val_accuracy: 0.9524\n",
      "Epoch 41/100\n",
      "3/3 [==============================] - 0s 164ms/step - loss: 0.0035 - accuracy: 1.0000 - val_loss: 0.1637 - val_accuracy: 0.9524\n",
      "Epoch 42/100\n",
      "3/3 [==============================] - 0s 184ms/step - loss: 0.0021 - accuracy: 1.0000 - val_loss: 0.1693 - val_accuracy: 0.9048\n",
      "Epoch 43/100\n",
      "3/3 [==============================] - 0s 172ms/step - loss: 0.0014 - accuracy: 1.0000 - val_loss: 0.1537 - val_accuracy: 0.9524\n",
      "Epoch 44/100\n",
      "3/3 [==============================] - 0s 168ms/step - loss: 0.0016 - accuracy: 1.0000 - val_loss: 0.1310 - val_accuracy: 0.9524\n",
      "Epoch 45/100\n",
      "3/3 [==============================] - 0s 176ms/step - loss: 0.0018 - accuracy: 1.0000 - val_loss: 0.0977 - val_accuracy: 0.9524\n",
      "Epoch 46/100\n",
      "3/3 [==============================] - 1s 180ms/step - loss: 0.0017 - accuracy: 1.0000 - val_loss: 0.1014 - val_accuracy: 0.9524\n",
      "Epoch 47/100\n",
      "3/3 [==============================] - 1s 184ms/step - loss: 0.0030 - accuracy: 1.0000 - val_loss: 0.1362 - val_accuracy: 0.9524\n",
      "Epoch 48/100\n",
      "3/3 [==============================] - 0s 184ms/step - loss: 0.0023 - accuracy: 1.0000 - val_loss: 0.1929 - val_accuracy: 0.9048\n",
      "Epoch 49/100\n",
      "3/3 [==============================] - ETA: 0s - loss: 8.4907e-04 - accuracy: 1.00 - 0s 176ms/step - loss: 8.4907e-04 - accuracy: 1.0000 - val_loss: 0.1898 - val_accuracy: 0.9048\n",
      "Epoch 50/100\n",
      "3/3 [==============================] - 1s 212ms/step - loss: 0.0027 - accuracy: 1.0000 - val_loss: 0.1432 - val_accuracy: 0.9524\n",
      "Epoch 51/100\n",
      "3/3 [==============================] - 1s 200ms/step - loss: 0.0015 - accuracy: 1.0000 - val_loss: 0.1005 - val_accuracy: 0.9524\n",
      "Epoch 52/100\n",
      "3/3 [==============================] - 1s 180ms/step - loss: 0.0016 - accuracy: 1.0000 - val_loss: 0.1108 - val_accuracy: 0.9524\n",
      "Epoch 53/100\n",
      "3/3 [==============================] - 0s 168ms/step - loss: 7.8299e-04 - accuracy: 1.0000 - val_loss: 0.1681 - val_accuracy: 0.9048\n",
      "Epoch 54/100\n",
      "3/3 [==============================] - 0s 176ms/step - loss: 0.0029 - accuracy: 1.0000 - val_loss: 0.1460 - val_accuracy: 0.9524\n",
      "Epoch 55/100\n",
      "3/3 [==============================] - 0s 168ms/step - loss: 0.0012 - accuracy: 1.0000 - val_loss: 0.1185 - val_accuracy: 0.9524\n",
      "Epoch 56/100\n",
      "3/3 [==============================] - 0s 176ms/step - loss: 0.0012 - accuracy: 1.0000 - val_loss: 0.0933 - val_accuracy: 0.9524\n",
      "Epoch 57/100\n",
      "3/3 [==============================] - 0s 164ms/step - loss: 0.0020 - accuracy: 1.0000 - val_loss: 0.1044 - val_accuracy: 0.9524\n",
      "Epoch 58/100\n",
      "3/3 [==============================] - 0s 172ms/step - loss: 0.0012 - accuracy: 1.0000 - val_loss: 0.1368 - val_accuracy: 0.9524\n",
      "Epoch 59/100\n",
      "3/3 [==============================] - 1s 188ms/step - loss: 0.0013 - accuracy: 1.0000 - val_loss: 0.1780 - val_accuracy: 0.9048\n",
      "Epoch 60/100\n",
      "3/3 [==============================] - 1s 204ms/step - loss: 7.6856e-04 - accuracy: 1.0000 - val_loss: 0.1984 - val_accuracy: 0.9048\n",
      "Epoch 61/100\n",
      "3/3 [==============================] - 0s 176ms/step - loss: 0.0011 - accuracy: 1.0000 - val_loss: 0.1899 - val_accuracy: 0.9048\n",
      "Epoch 62/100\n",
      "3/3 [==============================] - 0s 177ms/step - loss: 5.6755e-04 - accuracy: 1.0000 - val_loss: 0.1568 - val_accuracy: 0.9048\n",
      "Epoch 63/100\n",
      "3/3 [==============================] - 0s 172ms/step - loss: 7.5217e-04 - accuracy: 1.0000 - val_loss: 0.1296 - val_accuracy: 0.9524\n",
      "Epoch 64/100\n",
      "3/3 [==============================] - 0s 176ms/step - loss: 9.3599e-04 - accuracy: 1.0000 - val_loss: 0.1187 - val_accuracy: 0.9524\n",
      "Epoch 65/100\n",
      "3/3 [==============================] - 0s 168ms/step - loss: 5.2759e-04 - accuracy: 1.0000 - val_loss: 0.1134 - val_accuracy: 0.9524\n",
      "Epoch 66/100\n",
      "3/3 [==============================] - 0s 178ms/step - loss: 4.1666e-04 - accuracy: 1.0000 - val_loss: 0.1177 - val_accuracy: 0.9524\n",
      "Epoch 67/100\n",
      "3/3 [==============================] - 0s 161ms/step - loss: 3.3360e-04 - accuracy: 1.0000 - val_loss: 0.1233 - val_accuracy: 0.9524\n",
      "Epoch 68/100\n",
      "3/3 [==============================] - 0s 168ms/step - loss: 0.0012 - accuracy: 1.0000 - val_loss: 0.1468 - val_accuracy: 0.9524\n",
      "Epoch 69/100\n",
      "3/3 [==============================] - 0s 168ms/step - loss: 7.0189e-04 - accuracy: 1.0000 - val_loss: 0.1614 - val_accuracy: 0.9048\n",
      "Epoch 70/100\n",
      "3/3 [==============================] - 0s 172ms/step - loss: 8.0499e-04 - accuracy: 1.0000 - val_loss: 0.1578 - val_accuracy: 0.9048\n",
      "Epoch 71/100\n",
      "3/3 [==============================] - 0s 172ms/step - loss: 3.9117e-04 - accuracy: 1.0000 - val_loss: 0.1468 - val_accuracy: 0.9524\n",
      "Epoch 72/100\n",
      "3/3 [==============================] - 0s 168ms/step - loss: 7.4208e-04 - accuracy: 1.0000 - val_loss: 0.1299 - val_accuracy: 0.9524\n",
      "Epoch 73/100\n",
      "3/3 [==============================] - 0s 172ms/step - loss: 6.6820e-04 - accuracy: 1.0000 - val_loss: 0.0986 - val_accuracy: 0.9524\n",
      "Epoch 74/100\n",
      "3/3 [==============================] - 0s 172ms/step - loss: 4.7152e-04 - accuracy: 1.0000 - val_loss: 0.0866 - val_accuracy: 0.9524\n",
      "Epoch 75/100\n",
      "3/3 [==============================] - 0s 168ms/step - loss: 3.9477e-04 - accuracy: 1.0000 - val_loss: 0.0901 - val_accuracy: 0.9524\n",
      "Epoch 76/100\n",
      "3/3 [==============================] - 0s 172ms/step - loss: 7.5518e-04 - accuracy: 1.0000 - val_loss: 0.1089 - val_accuracy: 0.9524\n",
      "Epoch 77/100\n",
      "3/3 [==============================] - 0s 172ms/step - loss: 3.9349e-04 - accuracy: 1.0000 - val_loss: 0.1236 - val_accuracy: 0.9524\n",
      "Epoch 78/100\n",
      "3/3 [==============================] - 0s 176ms/step - loss: 3.2881e-04 - accuracy: 1.0000 - val_loss: 0.1365 - val_accuracy: 0.9524\n",
      "Epoch 79/100\n",
      "3/3 [==============================] - 0s 180ms/step - loss: 4.0380e-04 - accuracy: 1.0000 - val_loss: 0.1509 - val_accuracy: 0.9048\n",
      "Epoch 80/100\n",
      "3/3 [==============================] - 0s 172ms/step - loss: 3.5575e-04 - accuracy: 1.0000 - val_loss: 0.1590 - val_accuracy: 0.9048\n",
      "Epoch 81/100\n",
      "3/3 [==============================] - 1s 192ms/step - loss: 7.6219e-04 - accuracy: 1.0000 - val_loss: 0.1660 - val_accuracy: 0.9048\n",
      "Epoch 82/100\n",
      "3/3 [==============================] - 0s 176ms/step - loss: 5.9564e-04 - accuracy: 1.0000 - val_loss: 0.1662 - val_accuracy: 0.9048\n",
      "Epoch 83/100\n",
      "3/3 [==============================] - 1s 180ms/step - loss: 3.8672e-04 - accuracy: 1.0000 - val_loss: 0.1636 - val_accuracy: 0.9048\n",
      "Epoch 84/100\n",
      "3/3 [==============================] - 1s 196ms/step - loss: 8.5511e-04 - accuracy: 1.0000 - val_loss: 0.1345 - val_accuracy: 0.9524\n",
      "Epoch 85/100\n",
      "3/3 [==============================] - 0s 180ms/step - loss: 3.7083e-04 - accuracy: 1.0000 - val_loss: 0.1099 - val_accuracy: 0.9524\n",
      "Epoch 86/100\n",
      "3/3 [==============================] - 0s 176ms/step - loss: 4.5387e-04 - accuracy: 1.0000 - val_loss: 0.0901 - val_accuracy: 0.9524\n",
      "Epoch 87/100\n",
      "3/3 [==============================] - 0s 172ms/step - loss: 0.0011 - accuracy: 1.0000 - val_loss: 0.1006 - val_accuracy: 0.9524\n",
      "Epoch 88/100\n",
      "3/3 [==============================] - 0s 164ms/step - loss: 3.4128e-04 - accuracy: 1.0000 - val_loss: 0.1124 - val_accuracy: 0.9524\n",
      "Epoch 89/100\n",
      "3/3 [==============================] - 1s 196ms/step - loss: 2.3714e-04 - accuracy: 1.0000 - val_loss: 0.1234 - val_accuracy: 0.9524\n",
      "Epoch 90/100\n",
      "3/3 [==============================] - 0s 176ms/step - loss: 2.5680e-04 - accuracy: 1.0000 - val_loss: 0.1342 - val_accuracy: 0.9524\n",
      "Epoch 91/100\n",
      "3/3 [==============================] - 1s 192ms/step - loss: 7.6190e-04 - accuracy: 1.0000 - val_loss: 0.1491 - val_accuracy: 0.9524\n",
      "Epoch 92/100\n",
      "3/3 [==============================] - 0s 176ms/step - loss: 1.9963e-04 - accuracy: 1.0000 - val_loss: 0.1587 - val_accuracy: 0.9048\n",
      "Epoch 93/100\n",
      "3/3 [==============================] - 0s 172ms/step - loss: 2.3521e-04 - accuracy: 1.0000 - val_loss: 0.1617 - val_accuracy: 0.9048\n",
      "Epoch 94/100\n",
      "3/3 [==============================] - 0s 168ms/step - loss: 1.8772e-04 - accuracy: 1.0000 - val_loss: 0.1556 - val_accuracy: 0.9048\n",
      "Epoch 95/100\n",
      "3/3 [==============================] - 0s 172ms/step - loss: 2.5595e-04 - accuracy: 1.0000 - val_loss: 0.1471 - val_accuracy: 0.9524\n",
      "Epoch 96/100\n",
      "3/3 [==============================] - 1s 188ms/step - loss: 1.7091e-04 - accuracy: 1.0000 - val_loss: 0.1352 - val_accuracy: 0.9524\n",
      "Epoch 97/100\n",
      "3/3 [==============================] - 0s 172ms/step - loss: 2.8508e-04 - accuracy: 1.0000 - val_loss: 0.1208 - val_accuracy: 0.9524\n",
      "Epoch 98/100\n",
      "3/3 [==============================] - 0s 176ms/step - loss: 1.7011e-04 - accuracy: 1.0000 - val_loss: 0.1115 - val_accuracy: 0.9524\n",
      "Epoch 99/100\n",
      "3/3 [==============================] - 0s 181ms/step - loss: 3.4644e-04 - accuracy: 1.0000 - val_loss: 0.1088 - val_accuracy: 0.9524\n",
      "Epoch 100/100\n",
      "3/3 [==============================] - 0s 172ms/step - loss: 2.3885e-04 - accuracy: 1.0000 - val_loss: 0.1099 - val_accuracy: 0.9524\n"
     ]
    }
   ],
   "source": [
    "H = model.fit(x_train, y_train, validation_data=(x_test, y_test),\n",
    "              epochs=max_epochs, batch_size=32)\n"
   ]
  },
  {
   "cell_type": "code",
   "execution_count": 15,
   "metadata": {},
   "outputs": [
    {
     "data": {
      "image/png": "[encoded data removed]",
      "text/plain": [
       "<Figure size 432x288 with 1 Axes>"
      ]
     },
     "metadata": {},
     "output_type": "display_data"
    }
   ],
   "source": [
    "N = np.arange(0, max_epochs)\n",
    "plt.style.use(\"ggplot\")\n",
    "plt.figure()\n",
    "plt.plot(N, H.history[\"loss\"], label=\"train_loss\")\n",
    "plt.plot(N, H.history[\"val_loss\"], label=\"val_loss\")\n",
    "plt.plot(N, H.history[\"accuracy\"], label=\"train_acc\")\n",
    "plt.plot(N, H.history[\"val_accuracy\"], label=\"val_acc\")\n",
    "plt.xlabel(\"Epoch #\")\n",
    "plt.legend()\n",
    "plt.show()"
   ]
  },
  {
   "cell_type": "markdown",
   "metadata": {},
   "source": [
    "<b><h2>7. Evaluate the Model</h2></b>"
   ]
  },
  {
   "cell_type": "code",
   "execution_count": 16,
   "metadata": {},
   "outputs": [
    {
     "name": "stdout",
     "output_type": "stream",
     "text": [
      "              precision    recall  f1-score   support\n",
      "\n",
      "      Nangka       1.00      0.88      0.93         8\n",
      "  Daun Sirih       0.93      1.00      0.96        13\n",
      "\n",
      "    accuracy                           0.95        21\n",
      "   macro avg       0.96      0.94      0.95        21\n",
      "weighted avg       0.96      0.95      0.95        21\n",
      "\n"
     ]
    },
    {
     "name": "stderr",
     "output_type": "stream",
     "text": [
      "C:\\Users\\ASPIRE~1\\AppData\\Local\\Temp/ipykernel_22088/954476436.py:3: DeprecationWarning: `np.int` is a deprecated alias for the builtin `int`. To silence this warning, use `int` by itself. Doing this will not modify any behavior and is safe. When replacing `np.int`, you may wish to use e.g. `np.int64` or `np.int32` to specify the precision. If you wish to review your current use, check the release note link for additional information.\n",
      "Deprecated in NumPy 1.20; for more details and guidance: https://numpy.org/devdocs/release/1.20.0-notes.html#deprecations\n",
      "  target = (predictions > 0.5).astype(np.int)\n"
     ]
    }
   ],
   "source": [
    "# menghitung nilai akurasi model terhadap data test\n",
    "predictions = model.predict(x_test, batch_size=32)\n",
    "target = (predictions > 0.5).astype(np.int)\n",
    "print(classification_report(y_test, target, target_names=label_list))"
   ]
  },
  {
   "cell_type": "markdown",
   "metadata": {},
   "source": [
    "<b><h2>8. Testing Model</h2></b>"
   ]
  },
  {
   "cell_type": "code",
   "execution_count": 17,
   "metadata": {},
   "outputs": [
    {
     "name": "stdout",
     "output_type": "stream",
     "text": [
      "[[0.9999912]]\n"
     ]
    }
   ],
   "source": [
    "# uji model menggunakan image lain\n",
    "queryPath = imagePaths+'/Nangka/019.jpg'\n",
    "query = cv2.imread(queryPath)\n",
    "output = query.copy()\n",
    "query = cv2.resize(query, (32, 32))\n",
    "q = []\n",
    "q.append(query)\n",
    "q = np.array(q, dtype='float') / 255.0\n",
    "\n",
    "q_pred = model.predict(q)\n",
    "\n",
    "print(q_pred)"
   ]
  },
  {
   "cell_type": "markdown",
   "metadata": {},
   "source": [
    "<b><h2>9. Result</h2></b>"
   ]
  },
  {
   "cell_type": "code",
   "execution_count": null,
   "metadata": {},
   "outputs": [],
   "source": [
    "if q_pred <= 0.5:\n",
    "    target = \"Daun Sirih\"\n",
    "else:\n",
    "    target = \"Nangka\"\n",
    "text = \"{}\".format(target)\n",
    "cv2.putText(output, text, (10, 30), cv2.FONT_HERSHEY_SIMPLEX, 0.7, (0, 0, 255), 2)\n",
    "\n",
    "# menampilkan output image\n",
    "cv2.imshow('Output', output)\n",
    "cv2.waitKey()  # image tidak akan diclose,sebelum user menekan sembarang tombol\n",
    "cv2.destroyWindow('Output')  # image akan diclose\n"
   ]
  }
 ],
 "metadata": {
  "interpreter": {
   "hash": "259eeeecf3175eda1edf686c44b3792e3e9ece17c1f93f0dce2691d62cbdffa5"
  },
  "kernelspec": {
   "display_name": "Python 3.9.7 64-bit",
   "language": "python",
   "name": "python3"
  },
  "language_info": {
   "codemirror_mode": {
    "name": "ipython",
    "version": 3
   },
   "file_extension": ".py",
   "mimetype": "text/x-python",
   "name": "python",
   "nbconvert_exporter": "python",
   "pygments_lexer": "ipython3",
   "version": "3.9.7"
  },
  "orig_nbformat": 4
 },
 "nbformat": 4,
 "nbformat_minor": 2
}
