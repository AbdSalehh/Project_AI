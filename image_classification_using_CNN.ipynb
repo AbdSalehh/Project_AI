{
 "cells": [
  {
   "cell_type": "code",
   "execution_count": 1,
   "metadata": {},
   "outputs": [],
   "source": [
    "from sklearn.model_selection import train_test_split\n",
    "from sklearn.preprocessing import LabelEncoder\n",
    "from sklearn.metrics import classification_report\n",
    "from tensorflow.keras.models import Sequential\n",
    "from tensorflow.keras.layers import InputLayer, Flatten, Dense, Conv2D, MaxPool2D, Dropout\n",
    "from tensorflow.keras.optimizers import Adam\n",
    "import numpy as np\n",
    "import cv2\n",
    "import glob\n",
    "import matplotlib.pyplot as plt"
   ]
  },
  {
   "cell_type": "code",
   "execution_count": 2,
   "metadata": {},
   "outputs": [],
   "source": [
    "imagePaths = 'Dataset\\\\'\n",
    "label_list = ['Daun Nangka', 'Daun Sirih']\n",
    "data = []\n",
    "labels = []"
   ]
  },
  {
   "cell_type": "code",
   "execution_count": 3,
   "metadata": {},
   "outputs": [],
   "source": [
    "for label in label_list:\n",
    "    for imagePath in glob.glob(imagePaths+label+'\\\\*.jpg'):\n",
    "        #print(imagePath)\n",
    "        image = cv2.imread(imagePath)\n",
    "        image = cv2.resize(image, (32, 32))\n",
    "        data.append(image)\n",
    "        labels.append(label)"
   ]
  },
  {
   "cell_type": "code",
   "execution_count": 4,
   "metadata": {},
   "outputs": [
    {
     "data": {
      "text/plain": [
       "(102, 32, 32, 3)"
      ]
     },
     "execution_count": 4,
     "metadata": {},
     "output_type": "execute_result"
    }
   ],
   "source": [
    "np.array(data).shape"
   ]
  },
  {
   "cell_type": "code",
   "execution_count": 5,
   "metadata": {},
   "outputs": [],
   "source": [
    "# ubah type data dari list menjadi array\n",
    "# ubah nilai dari tiap pixel menjadi range [0..1]\n",
    "data = np.array(data, dtype='float') / 255.0\n",
    "labels = np.array(labels)"
   ]
  },
  {
   "cell_type": "code",
   "execution_count": 6,
   "metadata": {},
   "outputs": [
    {
     "name": "stdout",
     "output_type": "stream",
     "text": [
      "['Daun Nangka' 'Daun Nangka' 'Daun Nangka' 'Daun Nangka' 'Daun Nangka'\n",
      " 'Daun Nangka' 'Daun Nangka' 'Daun Nangka' 'Daun Nangka' 'Daun Nangka'\n",
      " 'Daun Nangka' 'Daun Nangka' 'Daun Nangka' 'Daun Nangka' 'Daun Nangka'\n",
      " 'Daun Nangka' 'Daun Nangka' 'Daun Nangka' 'Daun Nangka' 'Daun Nangka'\n",
      " 'Daun Nangka' 'Daun Nangka' 'Daun Nangka' 'Daun Nangka' 'Daun Nangka'\n",
      " 'Daun Nangka' 'Daun Nangka' 'Daun Nangka' 'Daun Nangka' 'Daun Nangka'\n",
      " 'Daun Nangka' 'Daun Nangka' 'Daun Nangka' 'Daun Nangka' 'Daun Nangka'\n",
      " 'Daun Nangka' 'Daun Nangka' 'Daun Nangka' 'Daun Nangka' 'Daun Nangka'\n",
      " 'Daun Nangka' 'Daun Nangka' 'Daun Nangka' 'Daun Nangka' 'Daun Nangka'\n",
      " 'Daun Nangka' 'Daun Nangka' 'Daun Nangka' 'Daun Nangka' 'Daun Nangka'\n",
      " 'Daun Nangka' 'Daun Sirih' 'Daun Sirih' 'Daun Sirih' 'Daun Sirih'\n",
      " 'Daun Sirih' 'Daun Sirih' 'Daun Sirih' 'Daun Sirih' 'Daun Sirih'\n",
      " 'Daun Sirih' 'Daun Sirih' 'Daun Sirih' 'Daun Sirih' 'Daun Sirih'\n",
      " 'Daun Sirih' 'Daun Sirih' 'Daun Sirih' 'Daun Sirih' 'Daun Sirih'\n",
      " 'Daun Sirih' 'Daun Sirih' 'Daun Sirih' 'Daun Sirih' 'Daun Sirih'\n",
      " 'Daun Sirih' 'Daun Sirih' 'Daun Sirih' 'Daun Sirih' 'Daun Sirih'\n",
      " 'Daun Sirih' 'Daun Sirih' 'Daun Sirih' 'Daun Sirih' 'Daun Sirih'\n",
      " 'Daun Sirih' 'Daun Sirih' 'Daun Sirih' 'Daun Sirih' 'Daun Sirih'\n",
      " 'Daun Sirih' 'Daun Sirih' 'Daun Sirih' 'Daun Sirih' 'Daun Sirih'\n",
      " 'Daun Sirih' 'Daun Sirih' 'Daun Sirih' 'Daun Sirih' 'Daun Sirih'\n",
      " 'Daun Sirih' 'Daun Sirih']\n"
     ]
    }
   ],
   "source": [
    "print(labels)"
   ]
  },
  {
   "cell_type": "code",
   "execution_count": 7,
   "metadata": {},
   "outputs": [
    {
     "name": "stdout",
     "output_type": "stream",
     "text": [
      "[0 0 0 0 0 0 0 0 0 0 0 0 0 0 0 0 0 0 0 0 0 0 0 0 0 0 0 0 0 0 0 0 0 0 0 0 0\n",
      " 0 0 0 0 0 0 0 0 0 0 0 0 0 0 1 1 1 1 1 1 1 1 1 1 1 1 1 1 1 1 1 1 1 1 1 1 1\n",
      " 1 1 1 1 1 1 1 1 1 1 1 1 1 1 1 1 1 1 1 1 1 1 1 1 1 1 1 1]\n"
     ]
    }
   ],
   "source": [
    "# ubah nilai dari labels menjadi binary\n",
    "lb = LabelEncoder()\n",
    "labels = lb.fit_transform(labels)\n",
    "print(labels)"
   ]
  },
  {
   "cell_type": "code",
   "execution_count": 8,
   "metadata": {},
   "outputs": [],
   "source": [
    "x_train, x_test, y_train, y_test = train_test_split(\n",
    "    data, labels, test_size=0.2, random_state=42)"
   ]
  },
  {
   "cell_type": "code",
   "execution_count": 9,
   "metadata": {},
   "outputs": [
    {
     "name": "stdout",
     "output_type": "stream",
     "text": [
      "Ukuran data train = (81, 32, 32, 3)\n",
      "Ukuran data test = (21, 32, 32, 3)\n"
     ]
    }
   ],
   "source": [
    "print('Ukuran data train =', x_train.shape)\n",
    "print('Ukuran data test =', x_test.shape)"
   ]
  },
  {
   "cell_type": "code",
   "execution_count": 10,
   "metadata": {},
   "outputs": [],
   "source": [
    "model = Sequential()\n",
    "# Extracted Feature Layer\n",
    "model.add(InputLayer(input_shape=[32, 32, 3]))\n",
    "model.add(Conv2D(filters=32, kernel_size=2, strides=1,\n",
    "          padding='same', activation='relu'))\n",
    "model.add(MaxPool2D(pool_size=2, padding='same'))\n",
    "model.add(Conv2D(filters=50, kernel_size=2, strides=1,\n",
    "          padding='same', activation='relu'))\n",
    "model.add(MaxPool2D(pool_size=2, padding='same'))\n",
    "model.add(Dropout(0.25))\n",
    "model.add(Flatten())\n",
    "# Fully Connected Layer\n",
    "model.add(Dense(512, activation='relu'))\n",
    "model.add(Dropout(0.5))\n",
    "model.add(Dense(1, activation='sigmoid'))"
   ]
  },
  {
   "cell_type": "code",
   "execution_count": 11,
   "metadata": {},
   "outputs": [
    {
     "name": "stdout",
     "output_type": "stream",
     "text": [
      "Model: \"sequential\"\n",
      "_________________________________________________________________\n",
      " Layer (type)                Output Shape              Param #   \n",
      "=================================================================\n",
      " conv2d (Conv2D)             (None, 32, 32, 32)        416       \n",
      "                                                                 \n",
      " max_pooling2d (MaxPooling2D  (None, 16, 16, 32)       0         \n",
      " )                                                               \n",
      "                                                                 \n",
      " conv2d_1 (Conv2D)           (None, 16, 16, 50)        6450      \n",
      "                                                                 \n",
      " max_pooling2d_1 (MaxPooling  (None, 8, 8, 50)         0         \n",
      " 2D)                                                             \n",
      "                                                                 \n",
      " dropout (Dropout)           (None, 8, 8, 50)          0         \n",
      "                                                                 \n",
      " flatten (Flatten)           (None, 3200)              0         \n",
      "                                                                 \n",
      " dense (Dense)               (None, 512)               1638912   \n",
      "                                                                 \n",
      " dropout_1 (Dropout)         (None, 512)               0         \n",
      "                                                                 \n",
      " dense_1 (Dense)             (None, 1)                 513       \n",
      "                                                                 \n",
      "=================================================================\n",
      "Total params: 1,646,291\n",
      "Trainable params: 1,646,291\n",
      "Non-trainable params: 0\n",
      "_________________________________________________________________\n"
     ]
    }
   ],
   "source": [
    "model.summary()"
   ]
  },
  {
   "cell_type": "code",
   "execution_count": 12,
   "metadata": {},
   "outputs": [],
   "source": [
    "# tentukan hyperparameter\n",
    "lr = 0.001\n",
    "max_epochs = 100\n",
    "opt_funct = Adam(learning_rate=lr)"
   ]
  },
  {
   "cell_type": "code",
   "execution_count": 13,
   "metadata": {},
   "outputs": [],
   "source": [
    "# compile arsitektur yang telah dibuat\n",
    "model.compile(loss='binary_crossentropy',\n",
    "              optimizer=opt_funct,\n",
    "              metrics=['accuracy'])"
   ]
  },
  {
   "cell_type": "code",
   "execution_count": 14,
   "metadata": {},
   "outputs": [
    {
     "name": "stdout",
     "output_type": "stream",
     "text": [
      "Epoch 1/100\n",
      "3/3 [==============================] - 4s 440ms/step - loss: 1.0335 - accuracy: 0.4691 - val_loss: 1.3656 - val_accuracy: 0.3810\n",
      "Epoch 2/100\n",
      "3/3 [==============================] - 0s 153ms/step - loss: 0.8702 - accuracy: 0.5802 - val_loss: 0.5453 - val_accuracy: 0.7619\n",
      "Epoch 3/100\n",
      "3/3 [==============================] - 0s 142ms/step - loss: 0.5939 - accuracy: 0.6420 - val_loss: 0.4923 - val_accuracy: 0.8095\n",
      "Epoch 4/100\n",
      "3/3 [==============================] - 0s 156ms/step - loss: 0.4939 - accuracy: 0.8519 - val_loss: 0.5060 - val_accuracy: 0.7619\n",
      "Epoch 5/100\n",
      "3/3 [==============================] - 0s 155ms/step - loss: 0.3963 - accuracy: 0.8642 - val_loss: 0.3767 - val_accuracy: 0.9048\n",
      "Epoch 6/100\n",
      "3/3 [==============================] - 0s 137ms/step - loss: 0.2986 - accuracy: 0.9506 - val_loss: 0.3028 - val_accuracy: 0.9524\n",
      "Epoch 7/100\n",
      "3/3 [==============================] - 0s 180ms/step - loss: 0.2295 - accuracy: 0.9383 - val_loss: 0.2488 - val_accuracy: 0.9048\n",
      "Epoch 8/100\n",
      "3/3 [==============================] - 0s 161ms/step - loss: 0.1679 - accuracy: 0.9753 - val_loss: 0.2078 - val_accuracy: 0.9524\n",
      "Epoch 9/100\n",
      "3/3 [==============================] - 0s 144ms/step - loss: 0.1278 - accuracy: 0.9753 - val_loss: 0.1767 - val_accuracy: 0.9524\n",
      "Epoch 10/100\n",
      "3/3 [==============================] - 0s 156ms/step - loss: 0.1122 - accuracy: 0.9506 - val_loss: 0.1690 - val_accuracy: 0.9524\n",
      "Epoch 11/100\n",
      "3/3 [==============================] - 0s 139ms/step - loss: 0.0685 - accuracy: 0.9877 - val_loss: 0.1587 - val_accuracy: 0.9524\n",
      "Epoch 12/100\n",
      "3/3 [==============================] - 0s 185ms/step - loss: 0.0733 - accuracy: 0.9753 - val_loss: 0.1433 - val_accuracy: 0.9524\n",
      "Epoch 13/100\n",
      "3/3 [==============================] - 0s 136ms/step - loss: 0.0529 - accuracy: 0.9877 - val_loss: 0.1610 - val_accuracy: 0.9524\n",
      "Epoch 14/100\n",
      "3/3 [==============================] - 0s 124ms/step - loss: 0.0441 - accuracy: 1.0000 - val_loss: 0.1886 - val_accuracy: 0.9524\n",
      "Epoch 15/100\n",
      "3/3 [==============================] - 0s 124ms/step - loss: 0.0527 - accuracy: 0.9877 - val_loss: 0.1673 - val_accuracy: 0.9524\n",
      "Epoch 16/100\n",
      "3/3 [==============================] - 0s 117ms/step - loss: 0.0284 - accuracy: 1.0000 - val_loss: 0.1712 - val_accuracy: 0.9524\n",
      "Epoch 17/100\n",
      "3/3 [==============================] - 0s 118ms/step - loss: 0.0249 - accuracy: 1.0000 - val_loss: 0.1715 - val_accuracy: 0.9524\n",
      "Epoch 18/100\n",
      "3/3 [==============================] - 0s 119ms/step - loss: 0.0145 - accuracy: 1.0000 - val_loss: 0.1669 - val_accuracy: 0.9524\n",
      "Epoch 19/100\n",
      "3/3 [==============================] - 0s 117ms/step - loss: 0.0181 - accuracy: 1.0000 - val_loss: 0.1262 - val_accuracy: 0.9524\n",
      "Epoch 20/100\n",
      "3/3 [==============================] - 0s 117ms/step - loss: 0.0398 - accuracy: 0.9753 - val_loss: 0.2068 - val_accuracy: 0.9524\n",
      "Epoch 21/100\n",
      "3/3 [==============================] - 0s 119ms/step - loss: 0.0379 - accuracy: 0.9753 - val_loss: 0.1863 - val_accuracy: 0.9524\n",
      "Epoch 22/100\n",
      "3/3 [==============================] - 0s 124ms/step - loss: 0.0192 - accuracy: 1.0000 - val_loss: 0.0827 - val_accuracy: 0.9524\n",
      "Epoch 23/100\n",
      "3/3 [==============================] - 0s 116ms/step - loss: 0.0182 - accuracy: 1.0000 - val_loss: 0.1391 - val_accuracy: 0.9524\n",
      "Epoch 24/100\n",
      "3/3 [==============================] - 0s 141ms/step - loss: 0.0088 - accuracy: 1.0000 - val_loss: 0.2564 - val_accuracy: 0.9048\n",
      "Epoch 25/100\n",
      "3/3 [==============================] - 0s 129ms/step - loss: 0.0092 - accuracy: 1.0000 - val_loss: 0.3211 - val_accuracy: 0.9048\n",
      "Epoch 26/100\n",
      "3/3 [==============================] - 0s 123ms/step - loss: 0.0148 - accuracy: 1.0000 - val_loss: 0.2499 - val_accuracy: 0.9048\n",
      "Epoch 27/100\n",
      "3/3 [==============================] - 0s 133ms/step - loss: 0.0099 - accuracy: 1.0000 - val_loss: 0.1345 - val_accuracy: 0.9524\n",
      "Epoch 28/100\n",
      "3/3 [==============================] - 0s 142ms/step - loss: 0.0119 - accuracy: 1.0000 - val_loss: 0.1267 - val_accuracy: 0.9524\n",
      "Epoch 29/100\n",
      "3/3 [==============================] - 0s 166ms/step - loss: 0.0055 - accuracy: 1.0000 - val_loss: 0.1600 - val_accuracy: 0.9524\n",
      "Epoch 30/100\n",
      "3/3 [==============================] - 0s 152ms/step - loss: 0.0090 - accuracy: 1.0000 - val_loss: 0.2397 - val_accuracy: 0.9048\n",
      "Epoch 31/100\n",
      "3/3 [==============================] - 0s 161ms/step - loss: 0.0035 - accuracy: 1.0000 - val_loss: 0.2711 - val_accuracy: 0.9048\n",
      "Epoch 32/100\n",
      "3/3 [==============================] - 0s 142ms/step - loss: 0.0042 - accuracy: 1.0000 - val_loss: 0.2752 - val_accuracy: 0.9048\n",
      "Epoch 33/100\n",
      "3/3 [==============================] - 0s 145ms/step - loss: 0.0045 - accuracy: 1.0000 - val_loss: 0.2233 - val_accuracy: 0.9048\n",
      "Epoch 34/100\n",
      "3/3 [==============================] - 0s 142ms/step - loss: 0.0033 - accuracy: 1.0000 - val_loss: 0.1540 - val_accuracy: 0.9524\n",
      "Epoch 35/100\n",
      "3/3 [==============================] - 0s 186ms/step - loss: 0.0025 - accuracy: 1.0000 - val_loss: 0.1401 - val_accuracy: 0.9524\n",
      "Epoch 36/100\n",
      "3/3 [==============================] - 0s 144ms/step - loss: 0.0042 - accuracy: 1.0000 - val_loss: 0.1762 - val_accuracy: 0.9524\n",
      "Epoch 37/100\n",
      "3/3 [==============================] - 0s 125ms/step - loss: 0.0026 - accuracy: 1.0000 - val_loss: 0.2634 - val_accuracy: 0.9048\n",
      "Epoch 38/100\n",
      "3/3 [==============================] - 0s 120ms/step - loss: 0.0014 - accuracy: 1.0000 - val_loss: 0.3203 - val_accuracy: 0.9048\n",
      "Epoch 39/100\n",
      "3/3 [==============================] - 0s 125ms/step - loss: 0.0038 - accuracy: 1.0000 - val_loss: 0.2865 - val_accuracy: 0.9048\n",
      "Epoch 40/100\n",
      "3/3 [==============================] - 0s 125ms/step - loss: 0.0047 - accuracy: 1.0000 - val_loss: 0.2547 - val_accuracy: 0.9048\n",
      "Epoch 41/100\n",
      "3/3 [==============================] - 0s 121ms/step - loss: 0.0036 - accuracy: 1.0000 - val_loss: 0.2187 - val_accuracy: 0.9048\n",
      "Epoch 42/100\n",
      "3/3 [==============================] - 0s 135ms/step - loss: 0.0013 - accuracy: 1.0000 - val_loss: 0.1837 - val_accuracy: 0.9524\n",
      "Epoch 43/100\n",
      "3/3 [==============================] - 1s 192ms/step - loss: 0.0018 - accuracy: 1.0000 - val_loss: 0.1828 - val_accuracy: 0.9524\n",
      "Epoch 44/100\n",
      "3/3 [==============================] - 0s 145ms/step - loss: 0.0010 - accuracy: 1.0000 - val_loss: 0.2095 - val_accuracy: 0.9048\n",
      "Epoch 45/100\n",
      "3/3 [==============================] - 0s 146ms/step - loss: 0.0010 - accuracy: 1.0000 - val_loss: 0.2390 - val_accuracy: 0.9048\n",
      "Epoch 46/100\n",
      "3/3 [==============================] - 0s 125ms/step - loss: 0.0021 - accuracy: 1.0000 - val_loss: 0.2833 - val_accuracy: 0.9048\n",
      "Epoch 47/100\n",
      "3/3 [==============================] - 0s 127ms/step - loss: 0.0021 - accuracy: 1.0000 - val_loss: 0.2978 - val_accuracy: 0.9048\n",
      "Epoch 48/100\n",
      "3/3 [==============================] - 0s 131ms/step - loss: 7.8183e-04 - accuracy: 1.0000 - val_loss: 0.2584 - val_accuracy: 0.9048\n",
      "Epoch 49/100\n",
      "3/3 [==============================] - 0s 146ms/step - loss: 4.2413e-04 - accuracy: 1.0000 - val_loss: 0.2159 - val_accuracy: 0.9048\n",
      "Epoch 50/100\n",
      "3/3 [==============================] - 0s 129ms/step - loss: 0.0010 - accuracy: 1.0000 - val_loss: 0.2116 - val_accuracy: 0.9048\n",
      "Epoch 51/100\n",
      "3/3 [==============================] - 0s 123ms/step - loss: 6.7278e-04 - accuracy: 1.0000 - val_loss: 0.2100 - val_accuracy: 0.9048\n",
      "Epoch 52/100\n",
      "3/3 [==============================] - 0s 117ms/step - loss: 9.2159e-04 - accuracy: 1.0000 - val_loss: 0.2310 - val_accuracy: 0.9048\n",
      "Epoch 53/100\n",
      "3/3 [==============================] - 0s 138ms/step - loss: 7.7642e-04 - accuracy: 1.0000 - val_loss: 0.2415 - val_accuracy: 0.9048\n",
      "Epoch 54/100\n",
      "3/3 [==============================] - 0s 121ms/step - loss: 0.0011 - accuracy: 1.0000 - val_loss: 0.2372 - val_accuracy: 0.9048\n",
      "Epoch 55/100\n",
      "3/3 [==============================] - 0s 114ms/step - loss: 0.0014 - accuracy: 1.0000 - val_loss: 0.2290 - val_accuracy: 0.9048\n",
      "Epoch 56/100\n",
      "3/3 [==============================] - 0s 124ms/step - loss: 5.8807e-04 - accuracy: 1.0000 - val_loss: 0.2040 - val_accuracy: 0.9048\n",
      "Epoch 57/100\n",
      "3/3 [==============================] - 0s 117ms/step - loss: 5.8606e-04 - accuracy: 1.0000 - val_loss: 0.2003 - val_accuracy: 0.9048\n",
      "Epoch 58/100\n",
      "3/3 [==============================] - 0s 115ms/step - loss: 0.0010 - accuracy: 1.0000 - val_loss: 0.2217 - val_accuracy: 0.9048\n",
      "Epoch 59/100\n",
      "3/3 [==============================] - 0s 123ms/step - loss: 3.8031e-04 - accuracy: 1.0000 - val_loss: 0.2770 - val_accuracy: 0.9048\n",
      "Epoch 60/100\n",
      "3/3 [==============================] - 0s 125ms/step - loss: 4.3970e-04 - accuracy: 1.0000 - val_loss: 0.3209 - val_accuracy: 0.9048\n",
      "Epoch 61/100\n",
      "3/3 [==============================] - 0s 116ms/step - loss: 6.9016e-04 - accuracy: 1.0000 - val_loss: 0.3276 - val_accuracy: 0.9048\n",
      "Epoch 62/100\n",
      "3/3 [==============================] - 0s 135ms/step - loss: 8.9853e-04 - accuracy: 1.0000 - val_loss: 0.2966 - val_accuracy: 0.9048\n",
      "Epoch 63/100\n",
      "3/3 [==============================] - 0s 134ms/step - loss: 6.3541e-04 - accuracy: 1.0000 - val_loss: 0.2462 - val_accuracy: 0.9048\n",
      "Epoch 64/100\n",
      "3/3 [==============================] - 0s 117ms/step - loss: 4.4885e-04 - accuracy: 1.0000 - val_loss: 0.2121 - val_accuracy: 0.9048\n",
      "Epoch 65/100\n",
      "3/3 [==============================] - 0s 129ms/step - loss: 0.0019 - accuracy: 1.0000 - val_loss: 0.2279 - val_accuracy: 0.9048\n",
      "Epoch 66/100\n",
      "3/3 [==============================] - 0s 117ms/step - loss: 5.2214e-04 - accuracy: 1.0000 - val_loss: 0.2573 - val_accuracy: 0.9048\n",
      "Epoch 67/100\n",
      "3/3 [==============================] - 0s 121ms/step - loss: 3.3231e-04 - accuracy: 1.0000 - val_loss: 0.2720 - val_accuracy: 0.9048\n",
      "Epoch 68/100\n",
      "3/3 [==============================] - 0s 129ms/step - loss: 3.7013e-04 - accuracy: 1.0000 - val_loss: 0.2819 - val_accuracy: 0.9048\n",
      "Epoch 69/100\n",
      "3/3 [==============================] - 0s 123ms/step - loss: 4.0441e-04 - accuracy: 1.0000 - val_loss: 0.2904 - val_accuracy: 0.9048\n",
      "Epoch 70/100\n",
      "3/3 [==============================] - 0s 118ms/step - loss: 9.8487e-04 - accuracy: 1.0000 - val_loss: 0.2674 - val_accuracy: 0.9048\n",
      "Epoch 71/100\n",
      "3/3 [==============================] - 0s 115ms/step - loss: 1.7945e-04 - accuracy: 1.0000 - val_loss: 0.2169 - val_accuracy: 0.9048\n",
      "Epoch 72/100\n",
      "3/3 [==============================] - 0s 116ms/step - loss: 2.1189e-04 - accuracy: 1.0000 - val_loss: 0.1849 - val_accuracy: 0.9524\n",
      "Epoch 73/100\n",
      "3/3 [==============================] - 0s 113ms/step - loss: 6.1419e-04 - accuracy: 1.0000 - val_loss: 0.1807 - val_accuracy: 0.9524\n",
      "Epoch 74/100\n",
      "3/3 [==============================] - 0s 115ms/step - loss: 5.3439e-04 - accuracy: 1.0000 - val_loss: 0.1971 - val_accuracy: 0.9048\n",
      "Epoch 75/100\n",
      "3/3 [==============================] - 0s 109ms/step - loss: 3.7592e-04 - accuracy: 1.0000 - val_loss: 0.2227 - val_accuracy: 0.9048\n",
      "Epoch 76/100\n",
      "3/3 [==============================] - 0s 114ms/step - loss: 0.0013 - accuracy: 1.0000 - val_loss: 0.2186 - val_accuracy: 0.9048\n",
      "Epoch 77/100\n",
      "3/3 [==============================] - 0s 117ms/step - loss: 1.6528e-04 - accuracy: 1.0000 - val_loss: 0.2337 - val_accuracy: 0.9048\n",
      "Epoch 78/100\n",
      "3/3 [==============================] - 0s 137ms/step - loss: 3.7852e-04 - accuracy: 1.0000 - val_loss: 0.2539 - val_accuracy: 0.9048\n",
      "Epoch 79/100\n",
      "3/3 [==============================] - 0s 130ms/step - loss: 1.9277e-04 - accuracy: 1.0000 - val_loss: 0.2655 - val_accuracy: 0.9048\n",
      "Epoch 80/100\n",
      "3/3 [==============================] - 0s 123ms/step - loss: 2.0749e-04 - accuracy: 1.0000 - val_loss: 0.2726 - val_accuracy: 0.9048\n",
      "Epoch 81/100\n",
      "3/3 [==============================] - 0s 135ms/step - loss: 4.1065e-04 - accuracy: 1.0000 - val_loss: 0.2650 - val_accuracy: 0.9048\n",
      "Epoch 82/100\n",
      "3/3 [==============================] - 0s 137ms/step - loss: 5.0407e-04 - accuracy: 1.0000 - val_loss: 0.2484 - val_accuracy: 0.9048\n",
      "Epoch 83/100\n",
      "3/3 [==============================] - 0s 141ms/step - loss: 1.2129e-04 - accuracy: 1.0000 - val_loss: 0.2383 - val_accuracy: 0.9048\n",
      "Epoch 84/100\n",
      "3/3 [==============================] - 0s 168ms/step - loss: 2.1198e-04 - accuracy: 1.0000 - val_loss: 0.2334 - val_accuracy: 0.9048\n",
      "Epoch 85/100\n",
      "3/3 [==============================] - 0s 165ms/step - loss: 4.7624e-04 - accuracy: 1.0000 - val_loss: 0.2416 - val_accuracy: 0.9048\n",
      "Epoch 86/100\n",
      "3/3 [==============================] - 0s 162ms/step - loss: 1.3004e-04 - accuracy: 1.0000 - val_loss: 0.2723 - val_accuracy: 0.9048\n",
      "Epoch 87/100\n",
      "3/3 [==============================] - 0s 188ms/step - loss: 8.1999e-04 - accuracy: 1.0000 - val_loss: 0.2728 - val_accuracy: 0.9048\n",
      "Epoch 88/100\n",
      "3/3 [==============================] - 0s 194ms/step - loss: 9.7642e-05 - accuracy: 1.0000 - val_loss: 0.2608 - val_accuracy: 0.9048\n",
      "Epoch 89/100\n",
      "3/3 [==============================] - 0s 130ms/step - loss: 2.6103e-04 - accuracy: 1.0000 - val_loss: 0.2424 - val_accuracy: 0.9048\n",
      "Epoch 90/100\n",
      "3/3 [==============================] - 0s 129ms/step - loss: 1.4019e-04 - accuracy: 1.0000 - val_loss: 0.2312 - val_accuracy: 0.9048\n",
      "Epoch 91/100\n",
      "3/3 [==============================] - 0s 128ms/step - loss: 0.0017 - accuracy: 1.0000 - val_loss: 0.3242 - val_accuracy: 0.9048\n",
      "Epoch 92/100\n",
      "3/3 [==============================] - 0s 119ms/step - loss: 4.5990e-04 - accuracy: 1.0000 - val_loss: 0.3711 - val_accuracy: 0.9048\n",
      "Epoch 93/100\n",
      "3/3 [==============================] - 0s 122ms/step - loss: 1.5252e-04 - accuracy: 1.0000 - val_loss: 0.3957 - val_accuracy: 0.9048\n",
      "Epoch 94/100\n",
      "3/3 [==============================] - 0s 127ms/step - loss: 5.0341e-04 - accuracy: 1.0000 - val_loss: 0.3777 - val_accuracy: 0.9048\n",
      "Epoch 95/100\n",
      "3/3 [==============================] - 0s 132ms/step - loss: 3.0718e-04 - accuracy: 1.0000 - val_loss: 0.3528 - val_accuracy: 0.9048\n",
      "Epoch 96/100\n",
      "3/3 [==============================] - 0s 112ms/step - loss: 2.0667e-04 - accuracy: 1.0000 - val_loss: 0.3200 - val_accuracy: 0.9048\n",
      "Epoch 97/100\n",
      "3/3 [==============================] - 0s 121ms/step - loss: 1.4853e-04 - accuracy: 1.0000 - val_loss: 0.2845 - val_accuracy: 0.9048\n",
      "Epoch 98/100\n",
      "3/3 [==============================] - 0s 139ms/step - loss: 1.9891e-04 - accuracy: 1.0000 - val_loss: 0.2617 - val_accuracy: 0.9048\n",
      "Epoch 99/100\n",
      "3/3 [==============================] - 0s 126ms/step - loss: 2.3524e-04 - accuracy: 1.0000 - val_loss: 0.2392 - val_accuracy: 0.9048\n",
      "Epoch 100/100\n",
      "3/3 [==============================] - 0s 127ms/step - loss: 6.0866e-04 - accuracy: 1.0000 - val_loss: 0.2384 - val_accuracy: 0.9048\n"
     ]
    }
   ],
   "source": [
    "H = model.fit(x_train, y_train, validation_data=(x_test, y_test),\n",
    "              epochs=max_epochs, batch_size=32)\n"
   ]
  }
 ],
 "metadata": {
  "interpreter": {
   "hash": "259eeeecf3175eda1edf686c44b3792e3e9ece17c1f93f0dce2691d62cbdffa5"
  },
  "kernelspec": {
   "display_name": "Python 3.9.7 64-bit",
   "language": "python",
   "name": "python3"
  },
  "language_info": {
   "codemirror_mode": {
    "name": "ipython",
    "version": 3
   },
   "file_extension": ".py",
   "mimetype": "text/x-python",
   "name": "python",
   "nbconvert_exporter": "python",
   "pygments_lexer": "ipython3",
   "version": "3.9.7"
  },
  "orig_nbformat": 4
 },
 "nbformat": 4,
 "nbformat_minor": 2
}
