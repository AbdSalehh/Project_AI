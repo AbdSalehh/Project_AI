{
 "cells": [
  {
   "cell_type": "code",
   "execution_count": 59,
   "metadata": {},
   "outputs": [],
   "source": [
    "from sklearn.model_selection import train_test_split\n",
    "from sklearn.preprocessing import LabelEncoder\n",
    "from sklearn.metrics import classification_report\n",
    "from tensorflow.keras.models import Sequential\n",
    "from tensorflow.keras.layers import InputLayer, Flatten, Dense, Conv2D, MaxPool2D, Dropout\n",
    "from tensorflow.keras.optimizers import Adam\n",
    "import numpy as np\n",
    "import cv2\n",
    "import glob\n",
    "import matplotlib.pyplot as plt"
   ]
  },
  {
   "cell_type": "code",
   "execution_count": 60,
   "metadata": {},
   "outputs": [],
   "source": [
    "imagePaths = 'Dataset\\\\'\n",
    "label_list = ['Daun Nangka', 'Daun Sirih']\n",
    "data = []\n",
    "labels = []"
   ]
  },
  {
   "cell_type": "code",
   "execution_count": 45,
   "metadata": {},
   "outputs": [],
   "source": [
    "for label in label_list:\n",
    "    for imagePath in glob.glob(imagePaths+label+'\\\\*.jpg'):\n",
    "        #print(imagePath)\n",
    "        image = cv2.imread(imagePath)\n",
    "        image = cv2.resize(image, (32, 32))\n",
    "        data.append(image)\n",
    "        labels.append(label)"
   ]
  },
  {
   "cell_type": "code",
   "execution_count": 46,
   "metadata": {},
   "outputs": [
    {
     "data": {
      "text/plain": [
       "(102, 32, 32, 3)"
      ]
     },
     "execution_count": 46,
     "metadata": {},
     "output_type": "execute_result"
    }
   ],
   "source": [
    "np.array(data).shape"
   ]
  },
  {
   "cell_type": "code",
   "execution_count": 47,
   "metadata": {},
   "outputs": [],
   "source": [
    "# ubah type data dari list menjadi array\n",
    "# ubah nilai dari tiap pixel menjadi range [0..1]\n",
    "data = np.array(data, dtype='float') / 255.0\n",
    "labels = np.array(labels)"
   ]
  },
  {
   "cell_type": "code",
   "execution_count": 48,
   "metadata": {},
   "outputs": [
    {
     "name": "stdout",
     "output_type": "stream",
     "text": [
      "['Daun Nangka' 'Daun Nangka' 'Daun Nangka' 'Daun Nangka' 'Daun Nangka'\n",
      " 'Daun Nangka' 'Daun Nangka' 'Daun Nangka' 'Daun Nangka' 'Daun Nangka'\n",
      " 'Daun Nangka' 'Daun Nangka' 'Daun Nangka' 'Daun Nangka' 'Daun Nangka'\n",
      " 'Daun Nangka' 'Daun Nangka' 'Daun Nangka' 'Daun Nangka' 'Daun Nangka'\n",
      " 'Daun Nangka' 'Daun Nangka' 'Daun Nangka' 'Daun Nangka' 'Daun Nangka'\n",
      " 'Daun Nangka' 'Daun Nangka' 'Daun Nangka' 'Daun Nangka' 'Daun Nangka'\n",
      " 'Daun Nangka' 'Daun Nangka' 'Daun Nangka' 'Daun Nangka' 'Daun Nangka'\n",
      " 'Daun Nangka' 'Daun Nangka' 'Daun Nangka' 'Daun Nangka' 'Daun Nangka'\n",
      " 'Daun Nangka' 'Daun Nangka' 'Daun Nangka' 'Daun Nangka' 'Daun Nangka'\n",
      " 'Daun Nangka' 'Daun Nangka' 'Daun Nangka' 'Daun Nangka' 'Daun Nangka'\n",
      " 'Daun Nangka' 'Daun Sirih' 'Daun Sirih' 'Daun Sirih' 'Daun Sirih'\n",
      " 'Daun Sirih' 'Daun Sirih' 'Daun Sirih' 'Daun Sirih' 'Daun Sirih'\n",
      " 'Daun Sirih' 'Daun Sirih' 'Daun Sirih' 'Daun Sirih' 'Daun Sirih'\n",
      " 'Daun Sirih' 'Daun Sirih' 'Daun Sirih' 'Daun Sirih' 'Daun Sirih'\n",
      " 'Daun Sirih' 'Daun Sirih' 'Daun Sirih' 'Daun Sirih' 'Daun Sirih'\n",
      " 'Daun Sirih' 'Daun Sirih' 'Daun Sirih' 'Daun Sirih' 'Daun Sirih'\n",
      " 'Daun Sirih' 'Daun Sirih' 'Daun Sirih' 'Daun Sirih' 'Daun Sirih'\n",
      " 'Daun Sirih' 'Daun Sirih' 'Daun Sirih' 'Daun Sirih' 'Daun Sirih'\n",
      " 'Daun Sirih' 'Daun Sirih' 'Daun Sirih' 'Daun Sirih' 'Daun Sirih'\n",
      " 'Daun Sirih' 'Daun Sirih' 'Daun Sirih' 'Daun Sirih' 'Daun Sirih'\n",
      " 'Daun Sirih' 'Daun Sirih']\n"
     ]
    }
   ],
   "source": [
    "print(labels)"
   ]
  },
  {
   "cell_type": "code",
   "execution_count": 49,
   "metadata": {},
   "outputs": [
    {
     "name": "stdout",
     "output_type": "stream",
     "text": [
      "[0 0 0 0 0 0 0 0 0 0 0 0 0 0 0 0 0 0 0 0 0 0 0 0 0 0 0 0 0 0 0 0 0 0 0 0 0\n",
      " 0 0 0 0 0 0 0 0 0 0 0 0 0 0 1 1 1 1 1 1 1 1 1 1 1 1 1 1 1 1 1 1 1 1 1 1 1\n",
      " 1 1 1 1 1 1 1 1 1 1 1 1 1 1 1 1 1 1 1 1 1 1 1 1 1 1 1 1]\n"
     ]
    }
   ],
   "source": [
    "# ubah nilai dari labels menjadi binary\n",
    "lb = LabelEncoder()\n",
    "labels = lb.fit_transform(labels)\n",
    "print(labels)"
   ]
  },
  {
   "cell_type": "code",
   "execution_count": 50,
   "metadata": {},
   "outputs": [],
   "source": [
    "x_train, x_test, y_train, y_test = train_test_split(\n",
    "    data, labels, test_size=0.2, random_state=42)"
   ]
  },
  {
   "cell_type": "code",
   "execution_count": 51,
   "metadata": {},
   "outputs": [
    {
     "name": "stdout",
     "output_type": "stream",
     "text": [
      "Ukuran data train = (81, 32, 32, 3)\n",
      "Ukuran data test = (21, 32, 32, 3)\n"
     ]
    }
   ],
   "source": [
    "print('Ukuran data train =', x_train.shape)\n",
    "print('Ukuran data test =', x_test.shape)"
   ]
  },
  {
   "cell_type": "code",
   "execution_count": 52,
   "metadata": {},
   "outputs": [],
   "source": [
    "model = Sequential()\n",
    "# Extracted Feature Layer\n",
    "model.add(InputLayer(input_shape=[32, 32, 3]))\n",
    "model.add(Conv2D(filters=32, kernel_size=2, strides=1,\n",
    "          padding='same', activation='relu'))\n",
    "model.add(MaxPool2D(pool_size=2, padding='same'))\n",
    "model.add(Conv2D(filters=50, kernel_size=2, strides=1,\n",
    "          padding='same', activation='relu'))\n",
    "model.add(MaxPool2D(pool_size=2, padding='same'))\n",
    "model.add(Dropout(0.25))\n",
    "model.add(Flatten())\n",
    "# Fully Connected Layer\n",
    "model.add(Dense(512, activation='relu'))\n",
    "model.add(Dropout(0.5))\n",
    "model.add(Dense(1, activation='sigmoid'))"
   ]
  },
  {
   "cell_type": "code",
   "execution_count": 53,
   "metadata": {},
   "outputs": [
    {
     "name": "stdout",
     "output_type": "stream",
     "text": [
      "Model: \"sequential_2\"\n",
      "_________________________________________________________________\n",
      " Layer (type)                Output Shape              Param #   \n",
      "=================================================================\n",
      " conv2d_4 (Conv2D)           (None, 32, 32, 32)        416       \n",
      "                                                                 \n",
      " max_pooling2d_4 (MaxPooling  (None, 16, 16, 32)       0         \n",
      " 2D)                                                             \n",
      "                                                                 \n",
      " conv2d_5 (Conv2D)           (None, 16, 16, 50)        6450      \n",
      "                                                                 \n",
      " max_pooling2d_5 (MaxPooling  (None, 8, 8, 50)         0         \n",
      " 2D)                                                             \n",
      "                                                                 \n",
      " dropout_4 (Dropout)         (None, 8, 8, 50)          0         \n",
      "                                                                 \n",
      " flatten_2 (Flatten)         (None, 3200)              0         \n",
      "                                                                 \n",
      " dense_4 (Dense)             (None, 512)               1638912   \n",
      "                                                                 \n",
      " dropout_5 (Dropout)         (None, 512)               0         \n",
      "                                                                 \n",
      " dense_5 (Dense)             (None, 1)                 513       \n",
      "                                                                 \n",
      "=================================================================\n",
      "Total params: 1,646,291\n",
      "Trainable params: 1,646,291\n",
      "Non-trainable params: 0\n",
      "_________________________________________________________________\n"
     ]
    }
   ],
   "source": [
    "model.summary()"
   ]
  },
  {
   "cell_type": "code",
   "execution_count": 54,
   "metadata": {},
   "outputs": [],
   "source": [
    "# tentukan hyperparameter\n",
    "lr = 0.001\n",
    "max_epochs = 100\n",
    "opt_funct = Adam(learning_rate=lr)"
   ]
  },
  {
   "cell_type": "code",
   "execution_count": 55,
   "metadata": {},
   "outputs": [],
   "source": [
    "# compile arsitektur yang telah dibuat\n",
    "model.compile(loss='binary_crossentropy',\n",
    "              optimizer=opt_funct,\n",
    "              metrics=['accuracy'])"
   ]
  },
  {
   "cell_type": "code",
   "execution_count": 56,
   "metadata": {},
   "outputs": [
    {
     "name": "stdout",
     "output_type": "stream",
     "text": [
      "Epoch 1/100\n",
      "3/3 [==============================] - 0s 65ms/step - loss: 0.8746 - accuracy: 0.4938 - val_loss: 1.4335 - val_accuracy: 0.3810\n",
      "Epoch 2/100\n",
      "3/3 [==============================] - 0s 21ms/step - loss: 0.9388 - accuracy: 0.5556 - val_loss: 0.5707 - val_accuracy: 0.7143\n",
      "Epoch 3/100\n",
      "3/3 [==============================] - 0s 21ms/step - loss: 0.6152 - accuracy: 0.6790 - val_loss: 0.5374 - val_accuracy: 0.7143\n",
      "Epoch 4/100\n",
      "3/3 [==============================] - 0s 20ms/step - loss: 0.5135 - accuracy: 0.8395 - val_loss: 0.6118 - val_accuracy: 0.6667\n",
      "Epoch 5/100\n",
      "3/3 [==============================] - 0s 26ms/step - loss: 0.4943 - accuracy: 0.7037 - val_loss: 0.4897 - val_accuracy: 0.8571\n",
      "Epoch 6/100\n",
      "3/3 [==============================] - 0s 26ms/step - loss: 0.4034 - accuracy: 0.9136 - val_loss: 0.3883 - val_accuracy: 0.9524\n",
      "Epoch 7/100\n",
      "3/3 [==============================] - 0s 23ms/step - loss: 0.3190 - accuracy: 0.9383 - val_loss: 0.3315 - val_accuracy: 0.8571\n",
      "Epoch 8/100\n",
      "3/3 [==============================] - 0s 13ms/step - loss: 0.2479 - accuracy: 0.9136 - val_loss: 0.2543 - val_accuracy: 0.9524\n",
      "Epoch 9/100\n",
      "3/3 [==============================] - 0s 20ms/step - loss: 0.1830 - accuracy: 0.9630 - val_loss: 0.2153 - val_accuracy: 0.9524\n",
      "Epoch 10/100\n",
      "3/3 [==============================] - 0s 21ms/step - loss: 0.1430 - accuracy: 0.9630 - val_loss: 0.1798 - val_accuracy: 0.9524\n",
      "Epoch 11/100\n",
      "3/3 [==============================] - 0s 24ms/step - loss: 0.1250 - accuracy: 0.9630 - val_loss: 0.1626 - val_accuracy: 0.9524\n",
      "Epoch 12/100\n",
      "3/3 [==============================] - 0s 20ms/step - loss: 0.0850 - accuracy: 0.9877 - val_loss: 0.1508 - val_accuracy: 0.9524\n",
      "Epoch 13/100\n",
      "3/3 [==============================] - 0s 20ms/step - loss: 0.0821 - accuracy: 0.9630 - val_loss: 0.1037 - val_accuracy: 0.9524\n",
      "Epoch 14/100\n",
      "3/3 [==============================] - 0s 19ms/step - loss: 0.0592 - accuracy: 0.9877 - val_loss: 0.1248 - val_accuracy: 0.9524\n",
      "Epoch 15/100\n",
      "3/3 [==============================] - 0s 20ms/step - loss: 0.0307 - accuracy: 1.0000 - val_loss: 0.1077 - val_accuracy: 0.9524\n",
      "Epoch 16/100\n",
      "3/3 [==============================] - 0s 18ms/step - loss: 0.0326 - accuracy: 1.0000 - val_loss: 0.1351 - val_accuracy: 0.9524\n",
      "Epoch 17/100\n",
      "3/3 [==============================] - 0s 16ms/step - loss: 0.0346 - accuracy: 1.0000 - val_loss: 0.0944 - val_accuracy: 0.9524\n",
      "Epoch 18/100\n",
      "3/3 [==============================] - 0s 17ms/step - loss: 0.0232 - accuracy: 1.0000 - val_loss: 0.0777 - val_accuracy: 0.9524\n",
      "Epoch 19/100\n",
      "3/3 [==============================] - 0s 19ms/step - loss: 0.0242 - accuracy: 1.0000 - val_loss: 0.2057 - val_accuracy: 0.9048\n",
      "Epoch 20/100\n",
      "3/3 [==============================] - 0s 20ms/step - loss: 0.0246 - accuracy: 1.0000 - val_loss: 0.1577 - val_accuracy: 0.9048\n",
      "Epoch 21/100\n",
      "3/3 [==============================] - 0s 20ms/step - loss: 0.0147 - accuracy: 1.0000 - val_loss: 0.0486 - val_accuracy: 1.0000\n",
      "Epoch 22/100\n",
      "3/3 [==============================] - 0s 20ms/step - loss: 0.0255 - accuracy: 1.0000 - val_loss: 0.0855 - val_accuracy: 0.9524\n",
      "Epoch 23/100\n",
      "3/3 [==============================] - 0s 21ms/step - loss: 0.0088 - accuracy: 1.0000 - val_loss: 0.1832 - val_accuracy: 0.9048\n",
      "Epoch 24/100\n",
      "3/3 [==============================] - 0s 21ms/step - loss: 0.0066 - accuracy: 1.0000 - val_loss: 0.2169 - val_accuracy: 0.9048\n",
      "Epoch 25/100\n",
      "3/3 [==============================] - 0s 22ms/step - loss: 0.0084 - accuracy: 1.0000 - val_loss: 0.1562 - val_accuracy: 0.9048\n",
      "Epoch 26/100\n",
      "3/3 [==============================] - 0s 26ms/step - loss: 0.0054 - accuracy: 1.0000 - val_loss: 0.1206 - val_accuracy: 0.9048\n",
      "Epoch 27/100\n",
      "3/3 [==============================] - 0s 24ms/step - loss: 0.0029 - accuracy: 1.0000 - val_loss: 0.1225 - val_accuracy: 0.9048\n",
      "Epoch 28/100\n",
      "3/3 [==============================] - 0s 22ms/step - loss: 0.0045 - accuracy: 1.0000 - val_loss: 0.1368 - val_accuracy: 0.9048\n",
      "Epoch 29/100\n",
      "3/3 [==============================] - 0s 21ms/step - loss: 0.0075 - accuracy: 1.0000 - val_loss: 0.1639 - val_accuracy: 0.9048\n",
      "Epoch 30/100\n",
      "3/3 [==============================] - 0s 22ms/step - loss: 0.0017 - accuracy: 1.0000 - val_loss: 0.1521 - val_accuracy: 0.9048\n",
      "Epoch 31/100\n",
      "3/3 [==============================] - 0s 20ms/step - loss: 0.0023 - accuracy: 1.0000 - val_loss: 0.1448 - val_accuracy: 0.9048\n",
      "Epoch 32/100\n",
      "3/3 [==============================] - 0s 20ms/step - loss: 0.0023 - accuracy: 1.0000 - val_loss: 0.1703 - val_accuracy: 0.9048\n",
      "Epoch 33/100\n",
      "3/3 [==============================] - 0s 20ms/step - loss: 0.0019 - accuracy: 1.0000 - val_loss: 0.1921 - val_accuracy: 0.9048\n",
      "Epoch 34/100\n",
      "3/3 [==============================] - 0s 24ms/step - loss: 0.0020 - accuracy: 1.0000 - val_loss: 0.1907 - val_accuracy: 0.9048\n",
      "Epoch 35/100\n",
      "3/3 [==============================] - 0s 16ms/step - loss: 0.0029 - accuracy: 1.0000 - val_loss: 0.1611 - val_accuracy: 0.9048\n",
      "Epoch 36/100\n",
      "3/3 [==============================] - 0s 23ms/step - loss: 0.0019 - accuracy: 1.0000 - val_loss: 0.1094 - val_accuracy: 0.9524\n",
      "Epoch 37/100\n",
      "3/3 [==============================] - 0s 27ms/step - loss: 0.0098 - accuracy: 1.0000 - val_loss: 0.2234 - val_accuracy: 0.9048\n",
      "Epoch 38/100\n",
      "3/3 [==============================] - 0s 19ms/step - loss: 0.0023 - accuracy: 1.0000 - val_loss: 0.3037 - val_accuracy: 0.9048\n",
      "Epoch 39/100\n",
      "3/3 [==============================] - 0s 22ms/step - loss: 0.0050 - accuracy: 1.0000 - val_loss: 0.1808 - val_accuracy: 0.9048\n",
      "Epoch 40/100\n",
      "3/3 [==============================] - 0s 17ms/step - loss: 0.0019 - accuracy: 1.0000 - val_loss: 0.0962 - val_accuracy: 0.9524\n",
      "Epoch 41/100\n",
      "3/3 [==============================] - 0s 16ms/step - loss: 0.0014 - accuracy: 1.0000 - val_loss: 0.1192 - val_accuracy: 0.9048\n",
      "Epoch 42/100\n",
      "3/3 [==============================] - 0s 23ms/step - loss: 7.5599e-04 - accuracy: 1.0000 - val_loss: 0.1536 - val_accuracy: 0.9048\n",
      "Epoch 43/100\n",
      "3/3 [==============================] - 0s 24ms/step - loss: 0.0012 - accuracy: 1.0000 - val_loss: 0.1737 - val_accuracy: 0.9048\n",
      "Epoch 44/100\n",
      "3/3 [==============================] - 0s 22ms/step - loss: 0.0010 - accuracy: 1.0000 - val_loss: 0.1740 - val_accuracy: 0.9048\n",
      "Epoch 45/100\n",
      "3/3 [==============================] - 0s 20ms/step - loss: 7.8821e-04 - accuracy: 1.0000 - val_loss: 0.1684 - val_accuracy: 0.9048\n",
      "Epoch 46/100\n",
      "3/3 [==============================] - 0s 20ms/step - loss: 8.2325e-04 - accuracy: 1.0000 - val_loss: 0.1562 - val_accuracy: 0.9048\n",
      "Epoch 47/100\n",
      "3/3 [==============================] - 0s 20ms/step - loss: 0.0010 - accuracy: 1.0000 - val_loss: 0.1387 - val_accuracy: 0.9048\n",
      "Epoch 48/100\n",
      "3/3 [==============================] - 0s 20ms/step - loss: 0.0016 - accuracy: 1.0000 - val_loss: 0.1369 - val_accuracy: 0.9048\n",
      "Epoch 49/100\n",
      "3/3 [==============================] - 0s 20ms/step - loss: 5.5160e-04 - accuracy: 1.0000 - val_loss: 0.1576 - val_accuracy: 0.9048\n",
      "Epoch 50/100\n",
      "3/3 [==============================] - 0s 21ms/step - loss: 6.9779e-04 - accuracy: 1.0000 - val_loss: 0.1868 - val_accuracy: 0.9048\n",
      "Epoch 51/100\n",
      "3/3 [==============================] - 0s 26ms/step - loss: 0.0011 - accuracy: 1.0000 - val_loss: 0.1893 - val_accuracy: 0.9048\n",
      "Epoch 52/100\n",
      "3/3 [==============================] - 0s 13ms/step - loss: 6.5758e-04 - accuracy: 1.0000 - val_loss: 0.1572 - val_accuracy: 0.9048\n",
      "Epoch 53/100\n",
      "3/3 [==============================] - 0s 23ms/step - loss: 3.7439e-04 - accuracy: 1.0000 - val_loss: 0.1277 - val_accuracy: 0.9048\n",
      "Epoch 54/100\n",
      "3/3 [==============================] - 0s 20ms/step - loss: 5.4261e-04 - accuracy: 1.0000 - val_loss: 0.1155 - val_accuracy: 0.9048\n",
      "Epoch 55/100\n",
      "3/3 [==============================] - 0s 16ms/step - loss: 2.5343e-04 - accuracy: 1.0000 - val_loss: 0.1144 - val_accuracy: 0.9048\n",
      "Epoch 56/100\n",
      "3/3 [==============================] - 0s 18ms/step - loss: 5.1107e-04 - accuracy: 1.0000 - val_loss: 0.1282 - val_accuracy: 0.9048\n",
      "Epoch 57/100\n",
      "3/3 [==============================] - 0s 20ms/step - loss: 4.7583e-04 - accuracy: 1.0000 - val_loss: 0.1546 - val_accuracy: 0.9048\n",
      "Epoch 58/100\n",
      "3/3 [==============================] - 0s 24ms/step - loss: 4.5530e-04 - accuracy: 1.0000 - val_loss: 0.1890 - val_accuracy: 0.9048\n",
      "Epoch 59/100\n",
      "3/3 [==============================] - 0s 20ms/step - loss: 5.7032e-04 - accuracy: 1.0000 - val_loss: 0.1999 - val_accuracy: 0.9048\n",
      "Epoch 60/100\n",
      "3/3 [==============================] - 0s 20ms/step - loss: 3.0677e-04 - accuracy: 1.0000 - val_loss: 0.2005 - val_accuracy: 0.9048\n",
      "Epoch 61/100\n",
      "3/3 [==============================] - 0s 20ms/step - loss: 2.5427e-04 - accuracy: 1.0000 - val_loss: 0.2016 - val_accuracy: 0.9048\n",
      "Epoch 62/100\n",
      "3/3 [==============================] - 0s 21ms/step - loss: 2.3872e-04 - accuracy: 1.0000 - val_loss: 0.1899 - val_accuracy: 0.9048\n",
      "Epoch 63/100\n",
      "3/3 [==============================] - 0s 21ms/step - loss: 2.5426e-04 - accuracy: 1.0000 - val_loss: 0.1809 - val_accuracy: 0.9048\n",
      "Epoch 64/100\n",
      "3/3 [==============================] - 0s 23ms/step - loss: 3.2746e-04 - accuracy: 1.0000 - val_loss: 0.1670 - val_accuracy: 0.9048\n",
      "Epoch 65/100\n",
      "3/3 [==============================] - 0s 23ms/step - loss: 5.3493e-04 - accuracy: 1.0000 - val_loss: 0.1630 - val_accuracy: 0.9048\n",
      "Epoch 66/100\n",
      "3/3 [==============================] - 0s 22ms/step - loss: 1.7633e-04 - accuracy: 1.0000 - val_loss: 0.1806 - val_accuracy: 0.9048\n",
      "Epoch 67/100\n",
      "3/3 [==============================] - 0s 22ms/step - loss: 2.6163e-04 - accuracy: 1.0000 - val_loss: 0.1929 - val_accuracy: 0.9048\n",
      "Epoch 68/100\n",
      "3/3 [==============================] - 0s 22ms/step - loss: 2.7127e-04 - accuracy: 1.0000 - val_loss: 0.2002 - val_accuracy: 0.9048\n",
      "Epoch 69/100\n",
      "3/3 [==============================] - 0s 16ms/step - loss: 3.0483e-04 - accuracy: 1.0000 - val_loss: 0.2026 - val_accuracy: 0.9048\n",
      "Epoch 70/100\n",
      "3/3 [==============================] - 0s 16ms/step - loss: 4.3168e-04 - accuracy: 1.0000 - val_loss: 0.2036 - val_accuracy: 0.9048\n",
      "Epoch 71/100\n",
      "3/3 [==============================] - 0s 23ms/step - loss: 3.9248e-04 - accuracy: 1.0000 - val_loss: 0.1900 - val_accuracy: 0.9048\n",
      "Epoch 72/100\n",
      "3/3 [==============================] - 0s 15ms/step - loss: 1.5379e-04 - accuracy: 1.0000 - val_loss: 0.1848 - val_accuracy: 0.9048\n",
      "Epoch 73/100\n",
      "3/3 [==============================] - 0s 23ms/step - loss: 6.8590e-04 - accuracy: 1.0000 - val_loss: 0.1837 - val_accuracy: 0.9048\n",
      "Epoch 74/100\n",
      "3/3 [==============================] - 0s 22ms/step - loss: 2.1291e-04 - accuracy: 1.0000 - val_loss: 0.2009 - val_accuracy: 0.9048\n",
      "Epoch 75/100\n",
      "3/3 [==============================] - 0s 18ms/step - loss: 3.4031e-04 - accuracy: 1.0000 - val_loss: 0.2160 - val_accuracy: 0.9048\n",
      "Epoch 76/100\n",
      "3/3 [==============================] - 0s 16ms/step - loss: 2.7013e-04 - accuracy: 1.0000 - val_loss: 0.2139 - val_accuracy: 0.9048\n",
      "Epoch 77/100\n",
      "3/3 [==============================] - 0s 20ms/step - loss: 2.7829e-04 - accuracy: 1.0000 - val_loss: 0.2049 - val_accuracy: 0.9048\n",
      "Epoch 78/100\n",
      "3/3 [==============================] - 0s 23ms/step - loss: 3.1398e-04 - accuracy: 1.0000 - val_loss: 0.1867 - val_accuracy: 0.9048\n",
      "Epoch 79/100\n",
      "3/3 [==============================] - 0s 16ms/step - loss: 2.4956e-04 - accuracy: 1.0000 - val_loss: 0.1693 - val_accuracy: 0.9048\n",
      "Epoch 80/100\n",
      "3/3 [==============================] - 0s 16ms/step - loss: 1.3085e-04 - accuracy: 1.0000 - val_loss: 0.1580 - val_accuracy: 0.9048\n",
      "Epoch 81/100\n",
      "3/3 [==============================] - 0s 24ms/step - loss: 1.4057e-04 - accuracy: 1.0000 - val_loss: 0.1521 - val_accuracy: 0.9048\n",
      "Epoch 82/100\n",
      "3/3 [==============================] - 0s 16ms/step - loss: 5.4532e-04 - accuracy: 1.0000 - val_loss: 0.1820 - val_accuracy: 0.9048\n",
      "Epoch 83/100\n",
      "3/3 [==============================] - 0s 16ms/step - loss: 1.8822e-04 - accuracy: 1.0000 - val_loss: 0.2568 - val_accuracy: 0.9048\n",
      "Epoch 84/100\n",
      "3/3 [==============================] - 0s 23ms/step - loss: 2.1574e-04 - accuracy: 1.0000 - val_loss: 0.2941 - val_accuracy: 0.9048\n",
      "Epoch 85/100\n",
      "3/3 [==============================] - 0s 16ms/step - loss: 2.5447e-04 - accuracy: 1.0000 - val_loss: 0.2966 - val_accuracy: 0.9048\n",
      "Epoch 86/100\n",
      "3/3 [==============================] - 0s 18ms/step - loss: 2.0878e-04 - accuracy: 1.0000 - val_loss: 0.2755 - val_accuracy: 0.9048\n",
      "Epoch 87/100\n",
      "3/3 [==============================] - 0s 16ms/step - loss: 2.5737e-04 - accuracy: 1.0000 - val_loss: 0.2389 - val_accuracy: 0.9048\n",
      "Epoch 88/100\n",
      "3/3 [==============================] - 0s 23ms/step - loss: 2.5146e-04 - accuracy: 1.0000 - val_loss: 0.2021 - val_accuracy: 0.9048\n",
      "Epoch 89/100\n",
      "3/3 [==============================] - 0s 16ms/step - loss: 1.6831e-04 - accuracy: 1.0000 - val_loss: 0.1667 - val_accuracy: 0.9048\n",
      "Epoch 90/100\n",
      "3/3 [==============================] - 0s 16ms/step - loss: 1.9363e-04 - accuracy: 1.0000 - val_loss: 0.1419 - val_accuracy: 0.9048\n",
      "Epoch 91/100\n",
      "3/3 [==============================] - 0s 24ms/step - loss: 2.4983e-04 - accuracy: 1.0000 - val_loss: 0.1339 - val_accuracy: 0.9048\n",
      "Epoch 92/100\n",
      "3/3 [==============================] - 0s 16ms/step - loss: 9.4532e-05 - accuracy: 1.0000 - val_loss: 0.1457 - val_accuracy: 0.9048\n",
      "Epoch 93/100\n",
      "3/3 [==============================] - 0s 17ms/step - loss: 1.3645e-04 - accuracy: 1.0000 - val_loss: 0.1626 - val_accuracy: 0.9048\n",
      "Epoch 94/100\n",
      "3/3 [==============================] - 0s 24ms/step - loss: 1.2777e-04 - accuracy: 1.0000 - val_loss: 0.1807 - val_accuracy: 0.9048\n",
      "Epoch 95/100\n",
      "3/3 [==============================] - 0s 23ms/step - loss: 1.4175e-04 - accuracy: 1.0000 - val_loss: 0.2017 - val_accuracy: 0.9048\n",
      "Epoch 96/100\n",
      "3/3 [==============================] - 0s 19ms/step - loss: 2.9342e-04 - accuracy: 1.0000 - val_loss: 0.2237 - val_accuracy: 0.9048\n",
      "Epoch 97/100\n",
      "3/3 [==============================] - 0s 20ms/step - loss: 1.7862e-04 - accuracy: 1.0000 - val_loss: 0.2282 - val_accuracy: 0.9048\n",
      "Epoch 98/100\n",
      "3/3 [==============================] - 0s 20ms/step - loss: 6.5823e-04 - accuracy: 1.0000 - val_loss: 0.1889 - val_accuracy: 0.9048\n",
      "Epoch 99/100\n",
      "3/3 [==============================] - 0s 19ms/step - loss: 2.0620e-04 - accuracy: 1.0000 - val_loss: 0.1638 - val_accuracy: 0.9048\n",
      "Epoch 100/100\n",
      "3/3 [==============================] - 0s 20ms/step - loss: 1.4314e-04 - accuracy: 1.0000 - val_loss: 0.1480 - val_accuracy: 0.9048\n"
     ]
    }
   ],
   "source": [
    "H = model.fit(x_train, y_train, validation_data=(x_test, y_test),\n",
    "              epochs=max_epochs, batch_size=32)\n"
   ]
  },
  {
   "cell_type": "code",
   "execution_count": 57,
   "metadata": {},
   "outputs": [
    {
     "data": {
      "image/png": "[encoded data removed]",
      "text/plain": [
       "<Figure size 432x288 with 1 Axes>"
      ]
     },
     "metadata": {},
     "output_type": "display_data"
    }
   ],
   "source": [
    "N = np.arange(0, max_epochs)\n",
    "plt.style.use(\"ggplot\")\n",
    "plt.figure()\n",
    "plt.plot(N, H.history[\"loss\"], label=\"train_loss\")\n",
    "plt.plot(N, H.history[\"val_loss\"], label=\"val_loss\")\n",
    "#plt.plot(N, H.history[\"accuracy\"], label=\"train_acc\")\n",
    "#plt.plot(N, H.history[\"val_accuracy\"], label=\"val_acc\")\n",
    "plt.xlabel(\"Epoch #\")\n",
    "plt.legend()\n",
    "plt.show()"
   ]
  },
  {
   "cell_type": "code",
   "execution_count": 58,
   "metadata": {},
   "outputs": [
    {
     "name": "stdout",
     "output_type": "stream",
     "text": [
      "              precision    recall  f1-score   support\n",
      "\n",
      " Daun Nangka       0.87      1.00      0.93        13\n",
      "  Daun Sirih       1.00      0.75      0.86         8\n",
      "\n",
      "    accuracy                           0.90        21\n",
      "   macro avg       0.93      0.88      0.89        21\n",
      "weighted avg       0.92      0.90      0.90        21\n",
      "\n"
     ]
    },
    {
     "name": "stderr",
     "output_type": "stream",
     "text": [
      "C:\\Users\\ILHAMD~1\\AppData\\Local\\Temp/ipykernel_1872/954476436.py:3: DeprecationWarning: `np.int` is a deprecated alias for the builtin `int`. To silence this warning, use `int` by itself. Doing this will not modify any behavior and is safe. When replacing `np.int`, you may wish to use e.g. `np.int64` or `np.int32` to specify the precision. If you wish to review your current use, check the release note link for additional information.\n",
      "Deprecated in NumPy 1.20; for more details and guidance: https://numpy.org/devdocs/release/1.20.0-notes.html#deprecations\n",
      "  target = (predictions > 0.5).astype(np.int)\n"
     ]
    }
   ],
   "source": [
    "# menghitung nilai akurasi model terhadap data test\n",
    "predictions = model.predict(x_test, batch_size=32)\n",
    "target = (predictions > 0.5).astype(np.int)\n",
    "print(classification_report(y_test, target, target_names=label_list))"
   ]
  },
  {
   "cell_type": "code",
   "execution_count": 63,
   "metadata": {},
   "outputs": [
    {
     "name": "stdout",
     "output_type": "stream",
     "text": [
      "[[6.365385e-06]]\n"
     ]
    }
   ],
   "source": [
    "# uji model menggunakan image lain\n",
    "queryPath = imagePaths+'/Daun Nangka/001.jpg'\n",
    "query = cv2.imread(queryPath)\n",
    "output = query.copy()\n",
    "query = cv2.resize(query, (32, 32))\n",
    "q = []\n",
    "q.append(query)\n",
    "q = np.array(q, dtype='float') / 255.0\n",
    "\n",
    "q_pred = model.predict(q)\n",
    "print(q_pred)"
   ]
  },
  {
   "cell_type": "code",
   "execution_count": 65,
   "metadata": {},
   "outputs": [],
   "source": [
    "if q_pred<=0.5 :\n",
    "    target = \"Daun Nangka\"\n",
    "else :\n",
    "    target = \"Daun Sirih\"\n",
    "text = \"{}\".format(target)\n",
    "cv2.putText(output, text, (10, 30), cv2.FONT_HERSHEY_SIMPLEX, 0.7, (0, 0, 255), 2)\n",
    " \n",
    "# menampilkan output image\n",
    "cv2.imshow('Output', output)\n",
    "cv2.waitKey() # image tidak akan diclose,sebelum user menekan sembarang tombol\n",
    "cv2.destroyWindow('Output') # image akan diclose"
   ]
  }
 ],
 "metadata": {
  "interpreter": {
   "hash": "259eeeecf3175eda1edf686c44b3792e3e9ece17c1f93f0dce2691d62cbdffa5"
  },
  "kernelspec": {
   "display_name": "Python 3.9.7 64-bit",
   "language": "python",
   "name": "python3"
  },
  "language_info": {
   "codemirror_mode": {
    "name": "ipython",
    "version": 3
   },
   "file_extension": ".py",
   "mimetype": "text/x-python",
   "name": "python",
   "nbconvert_exporter": "python",
   "pygments_lexer": "ipython3",
   "version": "3.8.0"
  },
  "orig_nbformat": 4
 },
 "nbformat": 4,
 "nbformat_minor": 2
}
