{
 "cells": [
  {
   "cell_type": "code",
   "execution_count": 20,
   "metadata": {},
   "outputs": [],
   "source": [
    "from sklearn.model_selection import train_test_split\n",
    "from sklearn.preprocessing import LabelEncoder\n",
    "from sklearn.metrics import classification_report\n",
    "from tensorflow.keras.models import Sequential\n",
    "from tensorflow.keras.layers import InputLayer, Flatten, Dense, Conv2D, MaxPool2D, Dropout\n",
    "from tensorflow.keras.optimizers import Adam\n",
    "import numpy as np\n",
    "import cv2\n",
    "import glob\n",
    "import matplotlib.pyplot as plt\n"
   ]
  },
  {
   "cell_type": "code",
   "execution_count": 21,
   "metadata": {},
   "outputs": [],
   "source": [
    "imagePaths = 'Dataset\\\\'\n",
    "label_list = ['Nangka', 'Daun Sirih']\n",
    "data = []\n",
    "labels = []\n"
   ]
  },
  {
   "cell_type": "code",
   "execution_count": 22,
   "metadata": {},
   "outputs": [],
   "source": [
    "for label in label_list:\n",
    "    for imagePath in glob.glob(imagePaths+label+'\\\\*.jpg'):\n",
    "        #print(imagePath)\n",
    "        image = cv2.imread(imagePath)\n",
    "        image = cv2.resize(image, (32, 32))\n",
    "        data.append(image)\n",
    "        labels.append(label)\n"
   ]
  },
  {
   "cell_type": "code",
   "execution_count": 23,
   "metadata": {},
   "outputs": [
    {
     "data": {
      "text/plain": [
       "(102, 32, 32, 3)"
      ]
     },
     "execution_count": 23,
     "metadata": {},
     "output_type": "execute_result"
    }
   ],
   "source": [
    "np.array(data).shape\n"
   ]
  },
  {
   "cell_type": "code",
   "execution_count": 24,
   "metadata": {},
   "outputs": [],
   "source": [
    "# ubah type data dari list menjadi array\n",
    "# ubah nilai dari tiap pixel menjadi range [0..1]\n",
    "data = np.array(data, dtype='float') / 255.0\n",
    "labels = np.array(labels)\n"
   ]
  },
  {
   "cell_type": "code",
   "execution_count": 25,
   "metadata": {},
   "outputs": [
    {
     "name": "stdout",
     "output_type": "stream",
     "text": [
      "['Nangka' 'Nangka' 'Nangka' 'Nangka' 'Nangka' 'Nangka' 'Nangka' 'Nangka'\n",
      " 'Nangka' 'Nangka' 'Nangka' 'Nangka' 'Nangka' 'Nangka' 'Nangka' 'Nangka'\n",
      " 'Nangka' 'Nangka' 'Nangka' 'Nangka' 'Nangka' 'Nangka' 'Nangka' 'Nangka'\n",
      " 'Nangka' 'Nangka' 'Nangka' 'Nangka' 'Nangka' 'Nangka' 'Nangka' 'Nangka'\n",
      " 'Nangka' 'Nangka' 'Nangka' 'Nangka' 'Nangka' 'Nangka' 'Nangka' 'Nangka'\n",
      " 'Nangka' 'Nangka' 'Nangka' 'Nangka' 'Nangka' 'Nangka' 'Nangka' 'Nangka'\n",
      " 'Nangka' 'Nangka' 'Nangka' 'Daun Sirih' 'Daun Sirih' 'Daun Sirih'\n",
      " 'Daun Sirih' 'Daun Sirih' 'Daun Sirih' 'Daun Sirih' 'Daun Sirih'\n",
      " 'Daun Sirih' 'Daun Sirih' 'Daun Sirih' 'Daun Sirih' 'Daun Sirih'\n",
      " 'Daun Sirih' 'Daun Sirih' 'Daun Sirih' 'Daun Sirih' 'Daun Sirih'\n",
      " 'Daun Sirih' 'Daun Sirih' 'Daun Sirih' 'Daun Sirih' 'Daun Sirih'\n",
      " 'Daun Sirih' 'Daun Sirih' 'Daun Sirih' 'Daun Sirih' 'Daun Sirih'\n",
      " 'Daun Sirih' 'Daun Sirih' 'Daun Sirih' 'Daun Sirih' 'Daun Sirih'\n",
      " 'Daun Sirih' 'Daun Sirih' 'Daun Sirih' 'Daun Sirih' 'Daun Sirih'\n",
      " 'Daun Sirih' 'Daun Sirih' 'Daun Sirih' 'Daun Sirih' 'Daun Sirih'\n",
      " 'Daun Sirih' 'Daun Sirih' 'Daun Sirih' 'Daun Sirih' 'Daun Sirih'\n",
      " 'Daun Sirih' 'Daun Sirih' 'Daun Sirih']\n"
     ]
    }
   ],
   "source": [
    "print(labels)\n"
   ]
  },
  {
   "cell_type": "code",
   "execution_count": 26,
   "metadata": {},
   "outputs": [
    {
     "name": "stdout",
     "output_type": "stream",
     "text": [
      "[1 1 1 1 1 1 1 1 1 1 1 1 1 1 1 1 1 1 1 1 1 1 1 1 1 1 1 1 1 1 1 1 1 1 1 1 1\n",
      " 1 1 1 1 1 1 1 1 1 1 1 1 1 1 0 0 0 0 0 0 0 0 0 0 0 0 0 0 0 0 0 0 0 0 0 0 0\n",
      " 0 0 0 0 0 0 0 0 0 0 0 0 0 0 0 0 0 0 0 0 0 0 0 0 0 0 0 0]\n"
     ]
    }
   ],
   "source": [
    "# ubah nilai dari labels menjadi binary\n",
    "lb = LabelEncoder()\n",
    "labels = lb.fit_transform(labels)\n",
    "print(labels)\n"
   ]
  },
  {
   "cell_type": "code",
   "execution_count": 27,
   "metadata": {},
   "outputs": [],
   "source": [
    "x_train, x_test, y_train, y_test = train_test_split(\n",
    "    data, labels, test_size=0.2, random_state=42)\n"
   ]
  },
  {
   "cell_type": "code",
   "execution_count": 28,
   "metadata": {},
   "outputs": [
    {
     "name": "stdout",
     "output_type": "stream",
     "text": [
      "Ukuran data train = (81, 32, 32, 3)\n",
      "Ukuran data test = (21, 32, 32, 3)\n"
     ]
    }
   ],
   "source": [
    "print('Ukuran data train =', x_train.shape)\n",
    "print('Ukuran data test =', x_test.shape)\n"
   ]
  },
  {
   "cell_type": "code",
   "execution_count": 29,
   "metadata": {},
   "outputs": [],
   "source": [
    "model = Sequential()\n",
    "# Extracted Feature Layer\n",
    "model.add(InputLayer(input_shape=[32, 32, 3]))\n",
    "model.add(Conv2D(filters=32, kernel_size=2, strides=1,\n",
    "          padding='same', activation='relu'))\n",
    "model.add(MaxPool2D(pool_size=2, padding='same'))\n",
    "model.add(Conv2D(filters=50, kernel_size=2, strides=1,\n",
    "          padding='same', activation='relu'))\n",
    "model.add(MaxPool2D(pool_size=2, padding='same'))\n",
    "model.add(Dropout(0.25))\n",
    "model.add(Flatten())\n",
    "# Fully Connected Layer\n",
    "model.add(Dense(512, activation='relu'))\n",
    "model.add(Dropout(0.5))\n",
    "model.add(Dense(1, activation='sigmoid'))\n"
   ]
  },
  {
   "cell_type": "code",
   "execution_count": 30,
   "metadata": {},
   "outputs": [
    {
     "name": "stdout",
     "output_type": "stream",
     "text": [
      "Model: \"sequential_1\"\n",
      "_________________________________________________________________\n",
      " Layer (type)                Output Shape              Param #   \n",
      "=================================================================\n",
      " conv2d_2 (Conv2D)           (None, 32, 32, 32)        416       \n",
      "                                                                 \n",
      " max_pooling2d_2 (MaxPooling  (None, 16, 16, 32)       0         \n",
      " 2D)                                                             \n",
      "                                                                 \n",
      " conv2d_3 (Conv2D)           (None, 16, 16, 50)        6450      \n",
      "                                                                 \n",
      " max_pooling2d_3 (MaxPooling  (None, 8, 8, 50)         0         \n",
      " 2D)                                                             \n",
      "                                                                 \n",
      " dropout_2 (Dropout)         (None, 8, 8, 50)          0         \n",
      "                                                                 \n",
      " flatten_1 (Flatten)         (None, 3200)              0         \n",
      "                                                                 \n",
      " dense_2 (Dense)             (None, 512)               1638912   \n",
      "                                                                 \n",
      " dropout_3 (Dropout)         (None, 512)               0         \n",
      "                                                                 \n",
      " dense_3 (Dense)             (None, 1)                 513       \n",
      "                                                                 \n",
      "=================================================================\n",
      "Total params: 1,646,291\n",
      "Trainable params: 1,646,291\n",
      "Non-trainable params: 0\n",
      "_________________________________________________________________\n"
     ]
    }
   ],
   "source": [
    "model.summary()\n"
   ]
  },
  {
   "cell_type": "code",
   "execution_count": 31,
   "metadata": {},
   "outputs": [],
   "source": [
    "# tentukan hyperparameter\n",
    "lr = 0.001\n",
    "max_epochs = 100\n",
    "opt_funct = Adam(learning_rate=lr)\n"
   ]
  },
  {
   "cell_type": "code",
   "execution_count": 32,
   "metadata": {},
   "outputs": [],
   "source": [
    "# compile arsitektur yang telah dibuat\n",
    "model.compile(loss='binary_crossentropy',\n",
    "              optimizer=opt_funct,\n",
    "              metrics=['accuracy'])\n"
   ]
  },
  {
   "cell_type": "code",
   "execution_count": 33,
   "metadata": {},
   "outputs": [
    {
     "name": "stdout",
     "output_type": "stream",
     "text": [
      "Epoch 1/100\n",
      "3/3 [==============================] - 4s 637ms/step - loss: 0.7319 - accuracy: 0.4938 - val_loss: 0.6015 - val_accuracy: 0.7143\n",
      "Epoch 2/100\n",
      "3/3 [==============================] - 1s 249ms/step - loss: 0.5554 - accuracy: 0.6790 - val_loss: 0.5091 - val_accuracy: 0.8095\n",
      "Epoch 3/100\n",
      "3/3 [==============================] - 1s 230ms/step - loss: 0.4449 - accuracy: 0.8519 - val_loss: 0.3873 - val_accuracy: 0.9524\n",
      "Epoch 4/100\n",
      "3/3 [==============================] - 1s 207ms/step - loss: 0.3384 - accuracy: 0.9012 - val_loss: 0.3595 - val_accuracy: 0.9048\n",
      "Epoch 5/100\n",
      "3/3 [==============================] - 1s 208ms/step - loss: 0.2678 - accuracy: 0.9136 - val_loss: 0.2665 - val_accuracy: 0.9048\n",
      "Epoch 6/100\n",
      "3/3 [==============================] - 1s 193ms/step - loss: 0.2030 - accuracy: 0.9383 - val_loss: 0.2338 - val_accuracy: 0.9524\n",
      "Epoch 7/100\n",
      "3/3 [==============================] - 0s 151ms/step - loss: 0.1684 - accuracy: 0.9136 - val_loss: 0.1918 - val_accuracy: 0.9524\n",
      "Epoch 8/100\n",
      "3/3 [==============================] - 0s 159ms/step - loss: 0.1408 - accuracy: 0.9506 - val_loss: 0.1679 - val_accuracy: 0.9524\n",
      "Epoch 9/100\n",
      "3/3 [==============================] - 0s 151ms/step - loss: 0.0984 - accuracy: 0.9877 - val_loss: 0.1618 - val_accuracy: 0.9524\n",
      "Epoch 10/100\n",
      "3/3 [==============================] - 0s 181ms/step - loss: 0.0849 - accuracy: 0.9753 - val_loss: 0.1376 - val_accuracy: 0.9524\n",
      "Epoch 11/100\n",
      "3/3 [==============================] - 0s 144ms/step - loss: 0.0804 - accuracy: 0.9753 - val_loss: 0.1945 - val_accuracy: 0.9524\n",
      "Epoch 12/100\n",
      "3/3 [==============================] - 0s 171ms/step - loss: 0.0962 - accuracy: 0.9753 - val_loss: 0.1388 - val_accuracy: 0.9524\n",
      "Epoch 13/100\n",
      "3/3 [==============================] - 0s 143ms/step - loss: 0.0853 - accuracy: 0.9877 - val_loss: 0.1201 - val_accuracy: 0.9524\n",
      "Epoch 14/100\n",
      "3/3 [==============================] - 0s 161ms/step - loss: 0.0333 - accuracy: 1.0000 - val_loss: 0.1475 - val_accuracy: 0.9524\n",
      "Epoch 15/100\n",
      "3/3 [==============================] - 0s 136ms/step - loss: 0.0417 - accuracy: 0.9877 - val_loss: 0.1783 - val_accuracy: 0.9524\n",
      "Epoch 16/100\n",
      "3/3 [==============================] - 0s 134ms/step - loss: 0.0364 - accuracy: 0.9877 - val_loss: 0.1328 - val_accuracy: 0.9524\n",
      "Epoch 17/100\n",
      "3/3 [==============================] - 0s 132ms/step - loss: 0.0530 - accuracy: 0.9630 - val_loss: 0.1377 - val_accuracy: 0.9524\n",
      "Epoch 18/100\n",
      "3/3 [==============================] - 0s 140ms/step - loss: 0.0285 - accuracy: 1.0000 - val_loss: 0.1658 - val_accuracy: 0.9524\n",
      "Epoch 19/100\n",
      "3/3 [==============================] - 0s 129ms/step - loss: 0.0138 - accuracy: 1.0000 - val_loss: 0.1417 - val_accuracy: 0.9524\n",
      "Epoch 20/100\n",
      "3/3 [==============================] - 0s 144ms/step - loss: 0.0253 - accuracy: 0.9877 - val_loss: 0.1854 - val_accuracy: 0.9524\n",
      "Epoch 21/100\n",
      "3/3 [==============================] - 0s 179ms/step - loss: 0.0164 - accuracy: 1.0000 - val_loss: 0.1757 - val_accuracy: 0.9524\n",
      "Epoch 22/100\n",
      "3/3 [==============================] - 1s 256ms/step - loss: 0.0074 - accuracy: 1.0000 - val_loss: 0.2059 - val_accuracy: 0.9524\n",
      "Epoch 23/100\n",
      "3/3 [==============================] - 1s 178ms/step - loss: 0.0094 - accuracy: 1.0000 - val_loss: 0.2322 - val_accuracy: 0.9048\n",
      "Epoch 24/100\n",
      "3/3 [==============================] - 0s 149ms/step - loss: 0.0088 - accuracy: 1.0000 - val_loss: 0.2244 - val_accuracy: 0.9524\n",
      "Epoch 25/100\n",
      "3/3 [==============================] - 0s 159ms/step - loss: 0.0064 - accuracy: 1.0000 - val_loss: 0.1878 - val_accuracy: 0.9524\n",
      "Epoch 26/100\n",
      "3/3 [==============================] - 1s 214ms/step - loss: 0.0070 - accuracy: 1.0000 - val_loss: 0.1900 - val_accuracy: 0.9524\n",
      "Epoch 27/100\n",
      "3/3 [==============================] - 0s 157ms/step - loss: 0.0042 - accuracy: 1.0000 - val_loss: 0.2059 - val_accuracy: 0.9524\n",
      "Epoch 28/100\n",
      "3/3 [==============================] - 0s 135ms/step - loss: 0.0084 - accuracy: 1.0000 - val_loss: 0.2549 - val_accuracy: 0.9048\n",
      "Epoch 29/100\n",
      "3/3 [==============================] - 0s 128ms/step - loss: 0.0093 - accuracy: 1.0000 - val_loss: 0.2164 - val_accuracy: 0.9524\n",
      "Epoch 30/100\n",
      "3/3 [==============================] - 0s 128ms/step - loss: 0.0036 - accuracy: 1.0000 - val_loss: 0.1270 - val_accuracy: 0.9524\n",
      "Epoch 31/100\n",
      "3/3 [==============================] - 0s 137ms/step - loss: 0.0055 - accuracy: 1.0000 - val_loss: 0.1372 - val_accuracy: 0.9524\n",
      "Epoch 32/100\n",
      "3/3 [==============================] - 0s 134ms/step - loss: 0.0061 - accuracy: 1.0000 - val_loss: 0.2191 - val_accuracy: 0.9524\n",
      "Epoch 33/100\n",
      "3/3 [==============================] - 0s 129ms/step - loss: 0.0042 - accuracy: 1.0000 - val_loss: 0.2882 - val_accuracy: 0.9048\n",
      "Epoch 34/100\n",
      "3/3 [==============================] - 0s 128ms/step - loss: 0.0063 - accuracy: 1.0000 - val_loss: 0.2953 - val_accuracy: 0.9048\n",
      "Epoch 35/100\n",
      "3/3 [==============================] - 0s 133ms/step - loss: 0.0037 - accuracy: 1.0000 - val_loss: 0.2417 - val_accuracy: 0.9048\n",
      "Epoch 36/100\n",
      "3/3 [==============================] - 0s 133ms/step - loss: 0.0021 - accuracy: 1.0000 - val_loss: 0.1781 - val_accuracy: 0.9524\n",
      "Epoch 37/100\n",
      "3/3 [==============================] - 0s 127ms/step - loss: 0.0019 - accuracy: 1.0000 - val_loss: 0.1357 - val_accuracy: 0.9524\n",
      "Epoch 38/100\n",
      "3/3 [==============================] - 0s 129ms/step - loss: 0.0071 - accuracy: 1.0000 - val_loss: 0.1575 - val_accuracy: 0.9524\n",
      "Epoch 39/100\n",
      "3/3 [==============================] - 0s 128ms/step - loss: 0.0029 - accuracy: 1.0000 - val_loss: 0.2139 - val_accuracy: 0.9524\n",
      "Epoch 40/100\n",
      "3/3 [==============================] - 0s 128ms/step - loss: 0.0026 - accuracy: 1.0000 - val_loss: 0.2478 - val_accuracy: 0.9048\n",
      "Epoch 41/100\n",
      "3/3 [==============================] - 0s 129ms/step - loss: 0.0077 - accuracy: 1.0000 - val_loss: 0.1960 - val_accuracy: 0.9524\n",
      "Epoch 42/100\n",
      "3/3 [==============================] - 0s 127ms/step - loss: 0.0011 - accuracy: 1.0000 - val_loss: 0.1436 - val_accuracy: 0.9524\n",
      "Epoch 43/100\n",
      "3/3 [==============================] - 0s 130ms/step - loss: 0.0017 - accuracy: 1.0000 - val_loss: 0.1324 - val_accuracy: 0.9524\n",
      "Epoch 44/100\n",
      "3/3 [==============================] - 0s 130ms/step - loss: 0.0028 - accuracy: 1.0000 - val_loss: 0.1677 - val_accuracy: 0.9524\n",
      "Epoch 45/100\n",
      "3/3 [==============================] - 0s 131ms/step - loss: 0.0025 - accuracy: 1.0000 - val_loss: 0.2549 - val_accuracy: 0.9048\n",
      "Epoch 46/100\n",
      "3/3 [==============================] - 0s 139ms/step - loss: 0.0023 - accuracy: 1.0000 - val_loss: 0.2921 - val_accuracy: 0.9048\n",
      "Epoch 47/100\n",
      "3/3 [==============================] - 0s 142ms/step - loss: 0.0035 - accuracy: 1.0000 - val_loss: 0.2416 - val_accuracy: 0.9524\n",
      "Epoch 48/100\n",
      "3/3 [==============================] - 1s 203ms/step - loss: 7.7653e-04 - accuracy: 1.0000 - val_loss: 0.2006 - val_accuracy: 0.9524\n",
      "Epoch 49/100\n",
      "3/3 [==============================] - 1s 201ms/step - loss: 9.9526e-04 - accuracy: 1.0000 - val_loss: 0.1740 - val_accuracy: 0.9524\n",
      "Epoch 50/100\n",
      "3/3 [==============================] - 0s 139ms/step - loss: 8.5405e-04 - accuracy: 1.0000 - val_loss: 0.1665 - val_accuracy: 0.9524\n",
      "Epoch 51/100\n",
      "3/3 [==============================] - 0s 162ms/step - loss: 6.9522e-04 - accuracy: 1.0000 - val_loss: 0.1709 - val_accuracy: 0.9524\n",
      "Epoch 52/100\n",
      "3/3 [==============================] - 0s 159ms/step - loss: 8.3335e-04 - accuracy: 1.0000 - val_loss: 0.1845 - val_accuracy: 0.9524\n",
      "Epoch 53/100\n",
      "3/3 [==============================] - 0s 163ms/step - loss: 0.0012 - accuracy: 1.0000 - val_loss: 0.2208 - val_accuracy: 0.9524\n",
      "Epoch 54/100\n",
      "3/3 [==============================] - 0s 134ms/step - loss: 7.3752e-04 - accuracy: 1.0000 - val_loss: 0.2417 - val_accuracy: 0.9048\n",
      "Epoch 55/100\n",
      "3/3 [==============================] - 0s 139ms/step - loss: 9.9845e-04 - accuracy: 1.0000 - val_loss: 0.2499 - val_accuracy: 0.9048\n",
      "Epoch 56/100\n",
      "3/3 [==============================] - 0s 160ms/step - loss: 8.8103e-04 - accuracy: 1.0000 - val_loss: 0.2356 - val_accuracy: 0.9524\n",
      "Epoch 57/100\n",
      "3/3 [==============================] - 0s 169ms/step - loss: 6.5662e-04 - accuracy: 1.0000 - val_loss: 0.2157 - val_accuracy: 0.9524\n",
      "Epoch 58/100\n",
      "3/3 [==============================] - 0s 177ms/step - loss: 7.4815e-04 - accuracy: 1.0000 - val_loss: 0.1989 - val_accuracy: 0.9524\n",
      "Epoch 59/100\n",
      "3/3 [==============================] - 0s 169ms/step - loss: 3.4541e-04 - accuracy: 1.0000 - val_loss: 0.1918 - val_accuracy: 0.9524\n",
      "Epoch 60/100\n",
      "3/3 [==============================] - 0s 187ms/step - loss: 4.3023e-04 - accuracy: 1.0000 - val_loss: 0.1902 - val_accuracy: 0.9524\n",
      "Epoch 61/100\n",
      "3/3 [==============================] - 0s 183ms/step - loss: 4.4821e-04 - accuracy: 1.0000 - val_loss: 0.1955 - val_accuracy: 0.9524\n",
      "Epoch 62/100\n",
      "3/3 [==============================] - 1s 190ms/step - loss: 5.3956e-04 - accuracy: 1.0000 - val_loss: 0.2038 - val_accuracy: 0.9524\n",
      "Epoch 63/100\n",
      "3/3 [==============================] - 0s 166ms/step - loss: 4.0520e-04 - accuracy: 1.0000 - val_loss: 0.2225 - val_accuracy: 0.9524\n",
      "Epoch 64/100\n",
      "3/3 [==============================] - 0s 173ms/step - loss: 7.2753e-04 - accuracy: 1.0000 - val_loss: 0.2303 - val_accuracy: 0.9524\n",
      "Epoch 65/100\n",
      "3/3 [==============================] - 0s 176ms/step - loss: 3.6862e-04 - accuracy: 1.0000 - val_loss: 0.2321 - val_accuracy: 0.9524\n",
      "Epoch 66/100\n",
      "3/3 [==============================] - 0s 161ms/step - loss: 3.8230e-04 - accuracy: 1.0000 - val_loss: 0.2326 - val_accuracy: 0.9524\n",
      "Epoch 67/100\n",
      "3/3 [==============================] - 0s 166ms/step - loss: 2.2230e-04 - accuracy: 1.0000 - val_loss: 0.2273 - val_accuracy: 0.9524\n",
      "Epoch 68/100\n",
      "3/3 [==============================] - 0s 168ms/step - loss: 3.6346e-04 - accuracy: 1.0000 - val_loss: 0.2183 - val_accuracy: 0.9524\n",
      "Epoch 69/100\n",
      "3/3 [==============================] - 0s 162ms/step - loss: 3.3304e-04 - accuracy: 1.0000 - val_loss: 0.2106 - val_accuracy: 0.9524\n",
      "Epoch 70/100\n",
      "3/3 [==============================] - 1s 219ms/step - loss: 3.9230e-04 - accuracy: 1.0000 - val_loss: 0.2013 - val_accuracy: 0.9524\n",
      "Epoch 71/100\n",
      "3/3 [==============================] - 1s 275ms/step - loss: 3.1939e-04 - accuracy: 1.0000 - val_loss: 0.2073 - val_accuracy: 0.9524\n",
      "Epoch 72/100\n",
      "3/3 [==============================] - 0s 165ms/step - loss: 3.8726e-04 - accuracy: 1.0000 - val_loss: 0.2100 - val_accuracy: 0.9524\n",
      "Epoch 73/100\n",
      "3/3 [==============================] - 0s 142ms/step - loss: 2.9900e-04 - accuracy: 1.0000 - val_loss: 0.2128 - val_accuracy: 0.9524\n",
      "Epoch 74/100\n",
      "3/3 [==============================] - 0s 157ms/step - loss: 3.6188e-04 - accuracy: 1.0000 - val_loss: 0.2107 - val_accuracy: 0.9524\n",
      "Epoch 75/100\n",
      "3/3 [==============================] - 0s 154ms/step - loss: 3.8573e-04 - accuracy: 1.0000 - val_loss: 0.2023 - val_accuracy: 0.9524\n",
      "Epoch 76/100\n",
      "3/3 [==============================] - 0s 144ms/step - loss: 3.1711e-04 - accuracy: 1.0000 - val_loss: 0.1931 - val_accuracy: 0.9524\n",
      "Epoch 77/100\n",
      "3/3 [==============================] - 0s 142ms/step - loss: 3.2296e-04 - accuracy: 1.0000 - val_loss: 0.1814 - val_accuracy: 0.9524\n",
      "Epoch 78/100\n",
      "3/3 [==============================] - 0s 147ms/step - loss: 3.4362e-04 - accuracy: 1.0000 - val_loss: 0.1812 - val_accuracy: 0.9524\n",
      "Epoch 79/100\n",
      "3/3 [==============================] - 0s 138ms/step - loss: 3.5364e-04 - accuracy: 1.0000 - val_loss: 0.1931 - val_accuracy: 0.9524\n",
      "Epoch 80/100\n",
      "3/3 [==============================] - 0s 136ms/step - loss: 1.5646e-04 - accuracy: 1.0000 - val_loss: 0.2076 - val_accuracy: 0.9524\n",
      "Epoch 81/100\n",
      "3/3 [==============================] - 0s 144ms/step - loss: 3.7883e-04 - accuracy: 1.0000 - val_loss: 0.2144 - val_accuracy: 0.9524\n",
      "Epoch 82/100\n",
      "3/3 [==============================] - 0s 144ms/step - loss: 7.7588e-04 - accuracy: 1.0000 - val_loss: 0.2033 - val_accuracy: 0.9524\n",
      "Epoch 83/100\n",
      "3/3 [==============================] - 0s 163ms/step - loss: 2.4953e-04 - accuracy: 1.0000 - val_loss: 0.1862 - val_accuracy: 0.9524\n",
      "Epoch 84/100\n",
      "3/3 [==============================] - 0s 157ms/step - loss: 3.7195e-04 - accuracy: 1.0000 - val_loss: 0.1847 - val_accuracy: 0.9524\n",
      "Epoch 85/100\n",
      "3/3 [==============================] - 0s 148ms/step - loss: 1.7066e-04 - accuracy: 1.0000 - val_loss: 0.1894 - val_accuracy: 0.9524\n",
      "Epoch 86/100\n",
      "3/3 [==============================] - 0s 172ms/step - loss: 3.1896e-04 - accuracy: 1.0000 - val_loss: 0.1932 - val_accuracy: 0.9524\n",
      "Epoch 87/100\n",
      "3/3 [==============================] - 0s 158ms/step - loss: 2.7585e-04 - accuracy: 1.0000 - val_loss: 0.1965 - val_accuracy: 0.9524\n",
      "Epoch 88/100\n",
      "3/3 [==============================] - 0s 159ms/step - loss: 3.1694e-04 - accuracy: 1.0000 - val_loss: 0.1974 - val_accuracy: 0.9524\n",
      "Epoch 89/100\n",
      "3/3 [==============================] - 0s 153ms/step - loss: 1.5446e-04 - accuracy: 1.0000 - val_loss: 0.2074 - val_accuracy: 0.9524\n",
      "Epoch 90/100\n",
      "3/3 [==============================] - 0s 154ms/step - loss: 2.5795e-04 - accuracy: 1.0000 - val_loss: 0.2110 - val_accuracy: 0.9524\n",
      "Epoch 91/100\n",
      "3/3 [==============================] - 0s 160ms/step - loss: 2.8297e-04 - accuracy: 1.0000 - val_loss: 0.2130 - val_accuracy: 0.9524\n",
      "Epoch 92/100\n",
      "3/3 [==============================] - 0s 152ms/step - loss: 1.4025e-04 - accuracy: 1.0000 - val_loss: 0.2156 - val_accuracy: 0.9524\n",
      "Epoch 93/100\n",
      "3/3 [==============================] - 0s 151ms/step - loss: 3.8916e-04 - accuracy: 1.0000 - val_loss: 0.2145 - val_accuracy: 0.9524\n",
      "Epoch 94/100\n",
      "3/3 [==============================] - 0s 145ms/step - loss: 2.1383e-04 - accuracy: 1.0000 - val_loss: 0.2162 - val_accuracy: 0.9524\n",
      "Epoch 95/100\n",
      "3/3 [==============================] - 0s 144ms/step - loss: 2.0275e-04 - accuracy: 1.0000 - val_loss: 0.2226 - val_accuracy: 0.9524\n",
      "Epoch 96/100\n",
      "3/3 [==============================] - 0s 157ms/step - loss: 5.4386e-04 - accuracy: 1.0000 - val_loss: 0.2414 - val_accuracy: 0.9048\n",
      "Epoch 97/100\n",
      "3/3 [==============================] - 0s 147ms/step - loss: 5.4412e-04 - accuracy: 1.0000 - val_loss: 0.2423 - val_accuracy: 0.9048\n",
      "Epoch 98/100\n",
      "3/3 [==============================] - 0s 145ms/step - loss: 2.3307e-04 - accuracy: 1.0000 - val_loss: 0.2183 - val_accuracy: 0.9524\n",
      "Epoch 99/100\n",
      "3/3 [==============================] - 0s 147ms/step - loss: 2.6825e-04 - accuracy: 1.0000 - val_loss: 0.2093 - val_accuracy: 0.9524\n",
      "Epoch 100/100\n",
      "3/3 [==============================] - 0s 143ms/step - loss: 2.7265e-04 - accuracy: 1.0000 - val_loss: 0.2137 - val_accuracy: 0.9524\n"
     ]
    }
   ],
   "source": [
    "H = model.fit(x_train, y_train, validation_data=(x_test, y_test),\n",
    "              epochs=max_epochs, batch_size=32)\n"
   ]
  },
  {
   "cell_type": "code",
   "execution_count": 38,
   "metadata": {},
   "outputs": [
    {
     "data": {
      "image/png": "[encoded data removed]",
      "text/plain": [
       "<Figure size 432x288 with 1 Axes>"
      ]
     },
     "metadata": {},
     "output_type": "display_data"
    }
   ],
   "source": [
    "N = np.arange(0, max_epochs)\n",
    "plt.style.use(\"ggplot\")\n",
    "plt.figure()\n",
    "# plt.plot(N, H.history[\"loss\"], label=\"train_loss\")\n",
    "# plt.plot(N, H.history[\"val_loss\"], label=\"val_loss\")\n",
    "plt.plot(N, H.history[\"accuracy\"], label=\"train_acc\")\n",
    "plt.plot(N, H.history[\"val_accuracy\"], label=\"val_acc\")\n",
    "plt.xlabel(\"Epoch #\")\n",
    "plt.legend()\n",
    "plt.show()\n"
   ]
  },
  {
   "cell_type": "code",
   "execution_count": 35,
   "metadata": {},
   "outputs": [
    {
     "name": "stdout",
     "output_type": "stream",
     "text": [
      "              precision    recall  f1-score   support\n",
      "\n",
      "      Nangka       1.00      0.88      0.93         8\n",
      "  Daun Sirih       0.93      1.00      0.96        13\n",
      "\n",
      "    accuracy                           0.95        21\n",
      "   macro avg       0.96      0.94      0.95        21\n",
      "weighted avg       0.96      0.95      0.95        21\n",
      "\n"
     ]
    },
    {
     "name": "stderr",
     "output_type": "stream",
     "text": [
      "C:\\Users\\ASPIRE~1\\AppData\\Local\\Temp/ipykernel_12564/300431699.py:3: DeprecationWarning: `np.int` is a deprecated alias for the builtin `int`. To silence this warning, use `int` by itself. Doing this will not modify any behavior and is safe. When replacing `np.int`, you may wish to use e.g. `np.int64` or `np.int32` to specify the precision. If you wish to review your current use, check the release note link for additional information.\n",
      "Deprecated in NumPy 1.20; for more details and guidance: https://numpy.org/devdocs/release/1.20.0-notes.html#deprecations\n",
      "  target = (predictions > 0.5).astype(np.int)\n"
     ]
    }
   ],
   "source": [
    "# menghitung nilai akurasi model terhadap data test\n",
    "predictions = model.predict(x_test, batch_size=32)\n",
    "target = (predictions > 0.5).astype(np.int)\n",
    "print(classification_report(y_test, target, target_names=label_list))\n"
   ]
  },
  {
   "cell_type": "code",
   "execution_count": 36,
   "metadata": {},
   "outputs": [
    {
     "name": "stdout",
     "output_type": "stream",
     "text": [
      "[[0.999997]]\n"
     ]
    }
   ],
   "source": [
    "# uji model menggunakan image lain\n",
    "queryPath = imagePaths+'/Nangka/019.jpg'\n",
    "query = cv2.imread(queryPath)\n",
    "output = query.copy()\n",
    "query = cv2.resize(query, (32, 32))\n",
    "q = []\n",
    "q.append(query)\n",
    "q = np.array(q, dtype='float') / 255.0\n",
    "\n",
    "q_pred = model.predict(q)\n",
    "\n",
    "print(q_pred)\n"
   ]
  },
  {
   "cell_type": "code",
   "execution_count": 37,
   "metadata": {},
   "outputs": [
    {
     "ename": "error",
     "evalue": "OpenCV(4.5.4-dev) D:\\a\\opencv-python\\opencv-python\\opencv\\modules\\highgui\\src\\window_w32.cpp:1261: error: (-27:Null pointer) NULL window: 'Output' in function 'cvDestroyWindow'\n",
     "output_type": "error",
     "traceback": [
      "\u001b[1;31m---------------------------------------------------------------------------\u001b[0m",
      "\u001b[1;31merror\u001b[0m                                     Traceback (most recent call last)",
      "\u001b[1;32mC:\\Users\\ASPIRE~1\\AppData\\Local\\Temp/ipykernel_12564/3086864798.py\u001b[0m in \u001b[0;36m<module>\u001b[1;34m\u001b[0m\n\u001b[0;32m      9\u001b[0m \u001b[0mcv2\u001b[0m\u001b[1;33m.\u001b[0m\u001b[0mimshow\u001b[0m\u001b[1;33m(\u001b[0m\u001b[1;34m'Output'\u001b[0m\u001b[1;33m,\u001b[0m \u001b[0moutput\u001b[0m\u001b[1;33m)\u001b[0m\u001b[1;33m\u001b[0m\u001b[1;33m\u001b[0m\u001b[0m\n\u001b[0;32m     10\u001b[0m \u001b[0mcv2\u001b[0m\u001b[1;33m.\u001b[0m\u001b[0mwaitKey\u001b[0m\u001b[1;33m(\u001b[0m\u001b[1;33m)\u001b[0m  \u001b[1;31m# image tidak akan diclose,sebelum user menekan sembarang tombol\u001b[0m\u001b[1;33m\u001b[0m\u001b[1;33m\u001b[0m\u001b[0m\n\u001b[1;32m---> 11\u001b[1;33m \u001b[0mcv2\u001b[0m\u001b[1;33m.\u001b[0m\u001b[0mdestroyWindow\u001b[0m\u001b[1;33m(\u001b[0m\u001b[1;34m'Output'\u001b[0m\u001b[1;33m)\u001b[0m  \u001b[1;31m# image akan diclose\u001b[0m\u001b[1;33m\u001b[0m\u001b[1;33m\u001b[0m\u001b[0m\n\u001b[0m",
      "\u001b[1;31merror\u001b[0m: OpenCV(4.5.4-dev) D:\\a\\opencv-python\\opencv-python\\opencv\\modules\\highgui\\src\\window_w32.cpp:1261: error: (-27:Null pointer) NULL window: 'Output' in function 'cvDestroyWindow'\n"
     ]
    }
   ],
   "source": [
    "if q_pred <= 0.5:\n",
    "    target = \"Daun Sirih\"\n",
    "else:\n",
    "    target = \"Nangka\"\n",
    "text = \"{}\".format(target)\n",
    "cv2.putText(output, text, (10, 30), cv2.FONT_HERSHEY_SIMPLEX, 0.7, (0, 0, 255), 2)\n",
    "\n",
    "# menampilkan output image\n",
    "cv2.imshow('Output', output)\n",
    "cv2.waitKey()  # image tidak akan diclose,sebelum user menekan sembarang tombol\n",
    "cv2.destroyWindow('Output')  # image akan diclose\n"
   ]
  },
  {
   "cell_type": "code",
   "execution_count": null,
   "metadata": {},
   "outputs": [],
   "source": [
    "# model.save('image_classification.h5')"
   ]
  }
 ],
 "metadata": {
  "interpreter": {
   "hash": "259eeeecf3175eda1edf686c44b3792e3e9ece17c1f93f0dce2691d62cbdffa5"
  },
  "kernelspec": {
   "display_name": "Python 3.9.7 64-bit",
   "language": "python",
   "name": "python3"
  },
  "language_info": {
   "codemirror_mode": {
    "name": "ipython",
    "version": 3
   },
   "file_extension": ".py",
   "mimetype": "text/x-python",
   "name": "python",
   "nbconvert_exporter": "python",
   "pygments_lexer": "ipython3",
   "version": "3.9.7"
  },
  "orig_nbformat": 4
 },
 "nbformat": 4,
 "nbformat_minor": 2
}
