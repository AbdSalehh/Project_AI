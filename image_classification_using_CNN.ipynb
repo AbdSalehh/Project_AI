{
 "cells": [
  {
   "cell_type": "markdown",
   "metadata": {},
   "source": [
    "<b><h2>1. Import Module</h2></b>"
   ]
  },
  {
   "cell_type": "code",
   "execution_count": 59,
   "metadata": {},
   "outputs": [],
   "source": [
    "from sklearn.model_selection import train_test_split\n",
    "from sklearn.preprocessing import LabelEncoder\n",
    "from sklearn.metrics import classification_report\n",
    "from tensorflow.keras.models import Sequential\n",
    "from tensorflow.keras.layers import InputLayer, Flatten, Dense, Conv2D, MaxPool2D, Dropout\n",
    "from tensorflow.keras.optimizers import Adam\n",
    "import numpy as np\n",
    "import cv2\n",
    "import glob\n",
    "import matplotlib.pyplot as plt"
   ]
  },
  {
   "cell_type": "markdown",
   "metadata": {},
   "source": [
    "<b><h2>2. Load Dataset</h2></b>"
   ]
  },
  {
   "cell_type": "code",
   "execution_count": 60,
   "metadata": {},
   "outputs": [],
   "source": [
    "imagePaths = 'Dataset\\\\'\n",
    "label_list = ['Nangka', 'Daun Sirih']\n",
    "data = []\n",
    "labels = []"
   ]
  },
  {
   "cell_type": "markdown",
   "metadata": {},
   "source": [
    "<b><h2>3. Data Pre Processing</h2></b>"
   ]
  },
  {
   "cell_type": "code",
   "execution_count": 45,
   "metadata": {},
   "outputs": [],
   "source": [
    "for label in label_list:\n",
    "    for imagePath in glob.glob(imagePaths+label+'\\\\*.jpg'):\n",
    "        #print(imagePath)\n",
    "        image = cv2.imread(imagePath)\n",
    "        image = cv2.resize(image, (32, 32))\n",
    "        data.append(image)\n",
    "        labels.append(label)"
   ]
  },
  {
   "cell_type": "code",
   "execution_count": 46,
   "metadata": {},
   "outputs": [
    {
     "data": {
      "text/plain": [
       "(102, 32, 32, 3)"
      ]
     },
     "execution_count": 46,
     "metadata": {},
     "output_type": "execute_result"
    }
   ],
   "source": [
    "np.array(data).shape"
   ]
  },
  {
   "cell_type": "code",
   "execution_count": 47,
   "metadata": {},
   "outputs": [],
   "source": [
    "# ubah type data dari list menjadi array\n",
    "# ubah nilai dari tiap pixel menjadi range [0..1]\n",
    "data = np.array(data, dtype='float') / 255.0\n",
    "labels = np.array(labels)"
   ]
  },
  {
   "cell_type": "code",
   "execution_count": 48,
   "metadata": {},
   "outputs": [
    {
     "name": "stdout",
     "output_type": "stream",
     "text": [
      "['Nangka' 'Nangka' 'Nangka' 'Nangka' 'Nangka' 'Nangka' 'Nangka' 'Nangka'\n",
      " 'Nangka' 'Nangka' 'Nangka' 'Nangka' 'Nangka' 'Nangka' 'Nangka' 'Nangka'\n",
      " 'Nangka' 'Nangka' 'Nangka' 'Nangka' 'Nangka' 'Nangka' 'Nangka' 'Nangka'\n",
      " 'Nangka' 'Nangka' 'Nangka' 'Nangka' 'Nangka' 'Nangka' 'Nangka' 'Nangka'\n",
      " 'Nangka' 'Nangka' 'Nangka' 'Nangka' 'Nangka' 'Nangka' 'Nangka' 'Nangka'\n",
      " 'Nangka' 'Nangka' 'Nangka' 'Nangka' 'Nangka' 'Nangka' 'Nangka' 'Nangka'\n",
      " 'Nangka' 'Nangka' 'Nangka' 'Daun Sirih' 'Daun Sirih' 'Daun Sirih'\n",
      " 'Daun Sirih' 'Daun Sirih' 'Daun Sirih' 'Daun Sirih' 'Daun Sirih'\n",
      " 'Daun Sirih' 'Daun Sirih' 'Daun Sirih' 'Daun Sirih' 'Daun Sirih'\n",
      " 'Daun Sirih' 'Daun Sirih' 'Daun Sirih' 'Daun Sirih' 'Daun Sirih'\n",
      " 'Daun Sirih' 'Daun Sirih' 'Daun Sirih' 'Daun Sirih' 'Daun Sirih'\n",
      " 'Daun Sirih' 'Daun Sirih' 'Daun Sirih' 'Daun Sirih' 'Daun Sirih'\n",
      " 'Daun Sirih' 'Daun Sirih' 'Daun Sirih' 'Daun Sirih' 'Daun Sirih'\n",
      " 'Daun Sirih' 'Daun Sirih' 'Daun Sirih' 'Daun Sirih' 'Daun Sirih'\n",
      " 'Daun Sirih' 'Daun Sirih' 'Daun Sirih' 'Daun Sirih' 'Daun Sirih'\n",
      " 'Daun Sirih' 'Daun Sirih' 'Daun Sirih' 'Daun Sirih' 'Daun Sirih'\n",
      " 'Daun Sirih' 'Daun Sirih' 'Daun Sirih']\n"
     ]
    }
   ],
   "source": [
    "print(labels)"
   ]
  },
  {
   "cell_type": "code",
   "execution_count": 49,
   "metadata": {},
   "outputs": [
    {
     "name": "stdout",
     "output_type": "stream",
     "text": [
      "[1 1 1 1 1 1 1 1 1 1 1 1 1 1 1 1 1 1 1 1 1 1 1 1 1 1 1 1 1 1 1 1 1 1 1 1 1\n",
      " 1 1 1 1 1 1 1 1 1 1 1 1 1 1 0 0 0 0 0 0 0 0 0 0 0 0 0 0 0 0 0 0 0 0 0 0 0\n",
      " 0 0 0 0 0 0 0 0 0 0 0 0 0 0 0 0 0 0 0 0 0 0 0 0 0 0 0 0]\n"
     ]
    }
   ],
   "source": [
    "# ubah nilai dari labels menjadi binary\n",
    "lb = LabelEncoder()\n",
    "labels = lb.fit_transform(labels)\n",
    "print(labels)"
   ]
  },
  {
   "cell_type": "markdown",
   "metadata": {},
   "source": [
    "<b><h2>4. Split Dataset</h2></b>"
   ]
  },
  {
   "cell_type": "code",
   "execution_count": 50,
   "metadata": {},
   "outputs": [],
   "source": [
    "x_train, x_test, y_train, y_test = train_test_split(\n",
    "    data, labels, test_size=0.2, random_state=42)"
   ]
  },
  {
   "cell_type": "code",
   "execution_count": 51,
   "metadata": {},
   "outputs": [
    {
     "name": "stdout",
     "output_type": "stream",
     "text": [
      "Ukuran data train = (81, 32, 32, 3)\n",
      "Ukuran data test = (21, 32, 32, 3)\n"
     ]
    }
   ],
   "source": [
    "print('Ukuran data train =', x_train.shape)\n",
    "print('Ukuran data test =', x_test.shape)"
   ]
  },
  {
   "cell_type": "markdown",
   "metadata": {},
   "source": [
    "<b><h2>5. Build CNN Architecture</h2></b>"
   ]
  },
  {
   "cell_type": "code",
   "execution_count": 52,
   "metadata": {},
   "outputs": [],
   "source": [
    "model = Sequential()\n",
    "# Extracted Feature Layer\n",
    "model.add(InputLayer(input_shape=[32, 32, 3]))\n",
    "model.add(Conv2D(filters=32, kernel_size=2, strides=1,\n",
    "          padding='same', activation='relu'))\n",
    "model.add(MaxPool2D(pool_size=2, padding='same'))\n",
    "model.add(Conv2D(filters=50, kernel_size=2, strides=1,\n",
    "          padding='same', activation='relu'))\n",
    "model.add(MaxPool2D(pool_size=2, padding='same'))\n",
    "model.add(Dropout(0.25))\n",
    "model.add(Flatten())\n",
    "# Fully Connected Layer\n",
    "model.add(Dense(512, activation='relu'))\n",
    "model.add(Dropout(0.5))\n",
    "model.add(Dense(1, activation='sigmoid'))"
   ]
  },
  {
   "cell_type": "code",
   "execution_count": 53,
   "metadata": {},
   "outputs": [
    {
     "name": "stdout",
     "output_type": "stream",
     "text": [
      "Model: \"sequential_2\"\n",
      "_________________________________________________________________\n",
      " Layer (type)                Output Shape              Param #   \n",
      "=================================================================\n",
      " conv2d_4 (Conv2D)           (None, 32, 32, 32)        416       \n",
      "                                                                 \n",
      " max_pooling2d_4 (MaxPooling  (None, 16, 16, 32)       0         \n",
      " 2D)                                                             \n",
      "                                                                 \n",
      " conv2d_5 (Conv2D)           (None, 16, 16, 50)        6450      \n",
      "                                                                 \n",
      " max_pooling2d_5 (MaxPooling  (None, 8, 8, 50)         0         \n",
      " 2D)                                                             \n",
      "                                                                 \n",
      " dropout_4 (Dropout)         (None, 8, 8, 50)          0         \n",
      "                                                                 \n",
      " flatten_2 (Flatten)         (None, 3200)              0         \n",
      "                                                                 \n",
      " dense_4 (Dense)             (None, 512)               1638912   \n",
      "                                                                 \n",
      " dropout_5 (Dropout)         (None, 512)               0         \n",
      "                                                                 \n",
      " dense_5 (Dense)             (None, 1)                 513       \n",
      "                                                                 \n",
      "=================================================================\n",
      "Total params: 1,646,291\n",
      "Trainable params: 1,646,291\n",
      "Non-trainable params: 0\n",
      "_________________________________________________________________\n"
     ]
    }
   ],
   "source": [
    "model.summary()"
   ]
  },
  {
   "cell_type": "code",
   "execution_count": 54,
   "metadata": {},
   "outputs": [],
   "source": [
    "# tentukan hyperparameter\n",
    "lr = 0.001\n",
    "max_epochs = 100\n",
    "opt_funct = Adam(learning_rate=lr)"
   ]
  },
  {
   "cell_type": "code",
   "execution_count": 55,
   "metadata": {},
   "outputs": [],
   "source": [
    "# compile arsitektur yang telah dibuat\n",
    "model.compile(loss='binary_crossentropy',\n",
    "              optimizer=opt_funct,\n",
    "              metrics=['accuracy'])"
   ]
  },
  {
   "cell_type": "markdown",
   "metadata": {},
   "source": [
    "<b><h2>6. Train Model</h2></b>"
   ]
  },
  {
   "cell_type": "code",
   "execution_count": 56,
   "metadata": {},
   "outputs": [
    {
     "name": "stdout",
     "output_type": "stream",
     "text": [
      "Epoch 1/100\n",
<<<<<<< HEAD
      "3/3 [==============================] - 7s 660ms/step - loss: 1.5686 - accuracy: 0.3951 - val_loss: 1.1793 - val_accuracy: 0.3810\n",
      "Epoch 2/100\n",
      "3/3 [==============================] - 1s 208ms/step - loss: 0.9661 - accuracy: 0.5309 - val_loss: 0.7958 - val_accuracy: 0.3810\n",
      "Epoch 3/100\n",
      "3/3 [==============================] - 1s 196ms/step - loss: 0.5980 - accuracy: 0.6173 - val_loss: 0.5628 - val_accuracy: 0.6667\n",
      "Epoch 4/100\n",
      "3/3 [==============================] - 1s 176ms/step - loss: 0.6501 - accuracy: 0.5556 - val_loss: 0.5296 - val_accuracy: 0.7143\n",
      "Epoch 5/100\n",
      "3/3 [==============================] - 0s 172ms/step - loss: 0.5434 - accuracy: 0.7654 - val_loss: 0.5733 - val_accuracy: 0.7143\n",
      "Epoch 6/100\n",
      "3/3 [==============================] - 0s 164ms/step - loss: 0.5138 - accuracy: 0.7407 - val_loss: 0.5005 - val_accuracy: 0.8095\n",
      "Epoch 7/100\n",
      "3/3 [==============================] - 0s 176ms/step - loss: 0.4067 - accuracy: 0.8765 - val_loss: 0.3764 - val_accuracy: 0.9524\n",
      "Epoch 8/100\n",
      "3/3 [==============================] - 0s 164ms/step - loss: 0.3199 - accuracy: 0.9259 - val_loss: 0.3146 - val_accuracy: 0.9048\n",
      "Epoch 9/100\n",
      "3/3 [==============================] - 0s 168ms/step - loss: 0.2660 - accuracy: 0.9012 - val_loss: 0.2806 - val_accuracy: 0.8571\n",
      "Epoch 10/100\n",
      "3/3 [==============================] - 0s 180ms/step - loss: 0.2037 - accuracy: 0.9259 - val_loss: 0.2661 - val_accuracy: 0.9524\n",
      "Epoch 11/100\n",
      "3/3 [==============================] - 1s 176ms/step - loss: 0.2036 - accuracy: 0.9383 - val_loss: 0.1941 - val_accuracy: 0.9524\n",
      "Epoch 12/100\n",
      "3/3 [==============================] - 0s 168ms/step - loss: 0.1211 - accuracy: 0.9753 - val_loss: 0.1708 - val_accuracy: 0.9048\n",
      "Epoch 13/100\n",
      "3/3 [==============================] - 0s 180ms/step - loss: 0.1300 - accuracy: 0.9506 - val_loss: 0.1594 - val_accuracy: 0.9524\n",
      "Epoch 14/100\n",
      "3/3 [==============================] - 0s 164ms/step - loss: 0.0836 - accuracy: 1.0000 - val_loss: 0.1495 - val_accuracy: 0.9524\n",
      "Epoch 15/100\n",
      "3/3 [==============================] - 0s 172ms/step - loss: 0.0787 - accuracy: 0.9753 - val_loss: 0.1157 - val_accuracy: 0.9524\n",
      "Epoch 16/100\n",
      "3/3 [==============================] - 0s 168ms/step - loss: 0.0619 - accuracy: 0.9753 - val_loss: 0.1183 - val_accuracy: 0.9524\n",
      "Epoch 17/100\n",
      "3/3 [==============================] - 0s 172ms/step - loss: 0.0476 - accuracy: 1.0000 - val_loss: 0.1312 - val_accuracy: 0.9524\n",
      "Epoch 18/100\n",
      "3/3 [==============================] - 0s 172ms/step - loss: 0.0478 - accuracy: 0.9877 - val_loss: 0.1270 - val_accuracy: 0.9524\n",
      "Epoch 19/100\n",
      "3/3 [==============================] - 1s 204ms/step - loss: 0.0388 - accuracy: 0.9877 - val_loss: 0.1339 - val_accuracy: 0.9524\n",
      "Epoch 20/100\n",
      "3/3 [==============================] - 0s 164ms/step - loss: 0.0393 - accuracy: 0.9753 - val_loss: 0.0971 - val_accuracy: 0.9524\n",
      "Epoch 21/100\n",
      "3/3 [==============================] - 0s 168ms/step - loss: 0.0234 - accuracy: 1.0000 - val_loss: 0.1161 - val_accuracy: 0.9524\n",
      "Epoch 22/100\n",
      "3/3 [==============================] - 0s 168ms/step - loss: 0.0176 - accuracy: 1.0000 - val_loss: 0.1612 - val_accuracy: 0.9524\n",
      "Epoch 23/100\n",
      "3/3 [==============================] - 0s 168ms/step - loss: 0.0144 - accuracy: 1.0000 - val_loss: 0.1285 - val_accuracy: 0.9524\n",
      "Epoch 24/100\n",
      "3/3 [==============================] - 0s 168ms/step - loss: 0.0136 - accuracy: 1.0000 - val_loss: 0.0673 - val_accuracy: 0.9524\n",
      "Epoch 25/100\n",
      "3/3 [==============================] - 0s 164ms/step - loss: 0.0124 - accuracy: 1.0000 - val_loss: 0.0998 - val_accuracy: 0.9524\n",
      "Epoch 26/100\n",
      "3/3 [==============================] - 0s 164ms/step - loss: 0.0126 - accuracy: 1.0000 - val_loss: 0.1475 - val_accuracy: 0.9524\n",
      "Epoch 27/100\n",
      "3/3 [==============================] - 0s 164ms/step - loss: 0.0097 - accuracy: 1.0000 - val_loss: 0.1953 - val_accuracy: 0.9048\n",
      "Epoch 28/100\n",
      "3/3 [==============================] - 0s 168ms/step - loss: 0.0106 - accuracy: 1.0000 - val_loss: 0.1604 - val_accuracy: 0.9524\n",
      "Epoch 29/100\n",
      "3/3 [==============================] - 1s 164ms/step - loss: 0.0041 - accuracy: 1.0000 - val_loss: 0.1054 - val_accuracy: 0.9524\n",
      "Epoch 30/100\n",
      "3/3 [==============================] - 0s 172ms/step - loss: 0.0100 - accuracy: 1.0000 - val_loss: 0.1332 - val_accuracy: 0.9524\n",
      "Epoch 31/100\n",
      "3/3 [==============================] - 0s 176ms/step - loss: 0.0072 - accuracy: 1.0000 - val_loss: 0.1252 - val_accuracy: 0.9524\n",
      "Epoch 32/100\n",
      "3/3 [==============================] - 0s 172ms/step - loss: 0.0045 - accuracy: 1.0000 - val_loss: 0.1004 - val_accuracy: 0.9524\n",
      "Epoch 33/100\n",
      "3/3 [==============================] - 0s 172ms/step - loss: 0.0070 - accuracy: 1.0000 - val_loss: 0.1438 - val_accuracy: 0.9524\n",
      "Epoch 34/100\n",
      "3/3 [==============================] - 0s 164ms/step - loss: 0.0027 - accuracy: 1.0000 - val_loss: 0.1784 - val_accuracy: 0.9048\n",
      "Epoch 35/100\n",
      "3/3 [==============================] - 0s 160ms/step - loss: 0.0052 - accuracy: 1.0000 - val_loss: 0.1688 - val_accuracy: 0.9524\n",
      "Epoch 36/100\n",
      "3/3 [==============================] - 0s 184ms/step - loss: 0.0030 - accuracy: 1.0000 - val_loss: 0.1437 - val_accuracy: 0.9524\n",
      "Epoch 37/100\n",
      "3/3 [==============================] - 0s 172ms/step - loss: 0.0027 - accuracy: 1.0000 - val_loss: 0.1337 - val_accuracy: 0.9524\n",
      "Epoch 38/100\n",
      "3/3 [==============================] - 0s 172ms/step - loss: 0.0021 - accuracy: 1.0000 - val_loss: 0.1213 - val_accuracy: 0.9524\n",
      "Epoch 39/100\n",
      "3/3 [==============================] - 0s 172ms/step - loss: 0.0058 - accuracy: 1.0000 - val_loss: 0.1513 - val_accuracy: 0.9524\n",
      "Epoch 40/100\n",
      "3/3 [==============================] - 0s 164ms/step - loss: 0.0024 - accuracy: 1.0000 - val_loss: 0.1492 - val_accuracy: 0.9524\n",
      "Epoch 41/100\n",
      "3/3 [==============================] - 0s 164ms/step - loss: 0.0035 - accuracy: 1.0000 - val_loss: 0.1637 - val_accuracy: 0.9524\n",
      "Epoch 42/100\n",
      "3/3 [==============================] - 0s 184ms/step - loss: 0.0021 - accuracy: 1.0000 - val_loss: 0.1693 - val_accuracy: 0.9048\n",
      "Epoch 43/100\n",
      "3/3 [==============================] - 0s 172ms/step - loss: 0.0014 - accuracy: 1.0000 - val_loss: 0.1537 - val_accuracy: 0.9524\n",
      "Epoch 44/100\n",
      "3/3 [==============================] - 0s 168ms/step - loss: 0.0016 - accuracy: 1.0000 - val_loss: 0.1310 - val_accuracy: 0.9524\n",
      "Epoch 45/100\n",
      "3/3 [==============================] - 0s 176ms/step - loss: 0.0018 - accuracy: 1.0000 - val_loss: 0.0977 - val_accuracy: 0.9524\n",
      "Epoch 46/100\n",
      "3/3 [==============================] - 1s 180ms/step - loss: 0.0017 - accuracy: 1.0000 - val_loss: 0.1014 - val_accuracy: 0.9524\n",
      "Epoch 47/100\n",
      "3/3 [==============================] - 1s 184ms/step - loss: 0.0030 - accuracy: 1.0000 - val_loss: 0.1362 - val_accuracy: 0.9524\n",
      "Epoch 48/100\n",
      "3/3 [==============================] - 0s 184ms/step - loss: 0.0023 - accuracy: 1.0000 - val_loss: 0.1929 - val_accuracy: 0.9048\n",
      "Epoch 49/100\n",
      "3/3 [==============================] - ETA: 0s - loss: 8.4907e-04 - accuracy: 1.00 - 0s 176ms/step - loss: 8.4907e-04 - accuracy: 1.0000 - val_loss: 0.1898 - val_accuracy: 0.9048\n",
      "Epoch 50/100\n",
      "3/3 [==============================] - 1s 212ms/step - loss: 0.0027 - accuracy: 1.0000 - val_loss: 0.1432 - val_accuracy: 0.9524\n",
      "Epoch 51/100\n",
      "3/3 [==============================] - 1s 200ms/step - loss: 0.0015 - accuracy: 1.0000 - val_loss: 0.1005 - val_accuracy: 0.9524\n",
      "Epoch 52/100\n",
      "3/3 [==============================] - 1s 180ms/step - loss: 0.0016 - accuracy: 1.0000 - val_loss: 0.1108 - val_accuracy: 0.9524\n",
      "Epoch 53/100\n",
      "3/3 [==============================] - 0s 168ms/step - loss: 7.8299e-04 - accuracy: 1.0000 - val_loss: 0.1681 - val_accuracy: 0.9048\n",
      "Epoch 54/100\n",
      "3/3 [==============================] - 0s 176ms/step - loss: 0.0029 - accuracy: 1.0000 - val_loss: 0.1460 - val_accuracy: 0.9524\n",
      "Epoch 55/100\n",
      "3/3 [==============================] - 0s 168ms/step - loss: 0.0012 - accuracy: 1.0000 - val_loss: 0.1185 - val_accuracy: 0.9524\n",
      "Epoch 56/100\n",
      "3/3 [==============================] - 0s 176ms/step - loss: 0.0012 - accuracy: 1.0000 - val_loss: 0.0933 - val_accuracy: 0.9524\n",
      "Epoch 57/100\n",
      "3/3 [==============================] - 0s 164ms/step - loss: 0.0020 - accuracy: 1.0000 - val_loss: 0.1044 - val_accuracy: 0.9524\n",
      "Epoch 58/100\n",
      "3/3 [==============================] - 0s 172ms/step - loss: 0.0012 - accuracy: 1.0000 - val_loss: 0.1368 - val_accuracy: 0.9524\n",
      "Epoch 59/100\n",
      "3/3 [==============================] - 1s 188ms/step - loss: 0.0013 - accuracy: 1.0000 - val_loss: 0.1780 - val_accuracy: 0.9048\n",
      "Epoch 60/100\n",
      "3/3 [==============================] - 1s 204ms/step - loss: 7.6856e-04 - accuracy: 1.0000 - val_loss: 0.1984 - val_accuracy: 0.9048\n",
      "Epoch 61/100\n",
      "3/3 [==============================] - 0s 176ms/step - loss: 0.0011 - accuracy: 1.0000 - val_loss: 0.1899 - val_accuracy: 0.9048\n",
      "Epoch 62/100\n",
      "3/3 [==============================] - 0s 177ms/step - loss: 5.6755e-04 - accuracy: 1.0000 - val_loss: 0.1568 - val_accuracy: 0.9048\n",
      "Epoch 63/100\n",
      "3/3 [==============================] - 0s 172ms/step - loss: 7.5217e-04 - accuracy: 1.0000 - val_loss: 0.1296 - val_accuracy: 0.9524\n",
      "Epoch 64/100\n",
      "3/3 [==============================] - 0s 176ms/step - loss: 9.3599e-04 - accuracy: 1.0000 - val_loss: 0.1187 - val_accuracy: 0.9524\n",
      "Epoch 65/100\n",
      "3/3 [==============================] - 0s 168ms/step - loss: 5.2759e-04 - accuracy: 1.0000 - val_loss: 0.1134 - val_accuracy: 0.9524\n",
      "Epoch 66/100\n",
      "3/3 [==============================] - 0s 178ms/step - loss: 4.1666e-04 - accuracy: 1.0000 - val_loss: 0.1177 - val_accuracy: 0.9524\n",
      "Epoch 67/100\n",
      "3/3 [==============================] - 0s 161ms/step - loss: 3.3360e-04 - accuracy: 1.0000 - val_loss: 0.1233 - val_accuracy: 0.9524\n",
      "Epoch 68/100\n",
      "3/3 [==============================] - 0s 168ms/step - loss: 0.0012 - accuracy: 1.0000 - val_loss: 0.1468 - val_accuracy: 0.9524\n",
      "Epoch 69/100\n",
      "3/3 [==============================] - 0s 168ms/step - loss: 7.0189e-04 - accuracy: 1.0000 - val_loss: 0.1614 - val_accuracy: 0.9048\n",
      "Epoch 70/100\n",
      "3/3 [==============================] - 0s 172ms/step - loss: 8.0499e-04 - accuracy: 1.0000 - val_loss: 0.1578 - val_accuracy: 0.9048\n",
      "Epoch 71/100\n",
      "3/3 [==============================] - 0s 172ms/step - loss: 3.9117e-04 - accuracy: 1.0000 - val_loss: 0.1468 - val_accuracy: 0.9524\n",
      "Epoch 72/100\n",
      "3/3 [==============================] - 0s 168ms/step - loss: 7.4208e-04 - accuracy: 1.0000 - val_loss: 0.1299 - val_accuracy: 0.9524\n",
      "Epoch 73/100\n",
      "3/3 [==============================] - 0s 172ms/step - loss: 6.6820e-04 - accuracy: 1.0000 - val_loss: 0.0986 - val_accuracy: 0.9524\n",
      "Epoch 74/100\n",
      "3/3 [==============================] - 0s 172ms/step - loss: 4.7152e-04 - accuracy: 1.0000 - val_loss: 0.0866 - val_accuracy: 0.9524\n",
      "Epoch 75/100\n",
      "3/3 [==============================] - 0s 168ms/step - loss: 3.9477e-04 - accuracy: 1.0000 - val_loss: 0.0901 - val_accuracy: 0.9524\n",
      "Epoch 76/100\n",
      "3/3 [==============================] - 0s 172ms/step - loss: 7.5518e-04 - accuracy: 1.0000 - val_loss: 0.1089 - val_accuracy: 0.9524\n",
      "Epoch 77/100\n",
      "3/3 [==============================] - 0s 172ms/step - loss: 3.9349e-04 - accuracy: 1.0000 - val_loss: 0.1236 - val_accuracy: 0.9524\n",
      "Epoch 78/100\n",
      "3/3 [==============================] - 0s 176ms/step - loss: 3.2881e-04 - accuracy: 1.0000 - val_loss: 0.1365 - val_accuracy: 0.9524\n",
      "Epoch 79/100\n",
      "3/3 [==============================] - 0s 180ms/step - loss: 4.0380e-04 - accuracy: 1.0000 - val_loss: 0.1509 - val_accuracy: 0.9048\n",
      "Epoch 80/100\n",
      "3/3 [==============================] - 0s 172ms/step - loss: 3.5575e-04 - accuracy: 1.0000 - val_loss: 0.1590 - val_accuracy: 0.9048\n",
      "Epoch 81/100\n",
      "3/3 [==============================] - 1s 192ms/step - loss: 7.6219e-04 - accuracy: 1.0000 - val_loss: 0.1660 - val_accuracy: 0.9048\n",
      "Epoch 82/100\n",
      "3/3 [==============================] - 0s 176ms/step - loss: 5.9564e-04 - accuracy: 1.0000 - val_loss: 0.1662 - val_accuracy: 0.9048\n",
      "Epoch 83/100\n",
      "3/3 [==============================] - 1s 180ms/step - loss: 3.8672e-04 - accuracy: 1.0000 - val_loss: 0.1636 - val_accuracy: 0.9048\n",
      "Epoch 84/100\n",
      "3/3 [==============================] - 1s 196ms/step - loss: 8.5511e-04 - accuracy: 1.0000 - val_loss: 0.1345 - val_accuracy: 0.9524\n",
      "Epoch 85/100\n",
      "3/3 [==============================] - 0s 180ms/step - loss: 3.7083e-04 - accuracy: 1.0000 - val_loss: 0.1099 - val_accuracy: 0.9524\n",
      "Epoch 86/100\n",
      "3/3 [==============================] - 0s 176ms/step - loss: 4.5387e-04 - accuracy: 1.0000 - val_loss: 0.0901 - val_accuracy: 0.9524\n",
      "Epoch 87/100\n",
      "3/3 [==============================] - 0s 172ms/step - loss: 0.0011 - accuracy: 1.0000 - val_loss: 0.1006 - val_accuracy: 0.9524\n",
      "Epoch 88/100\n",
      "3/3 [==============================] - 0s 164ms/step - loss: 3.4128e-04 - accuracy: 1.0000 - val_loss: 0.1124 - val_accuracy: 0.9524\n",
      "Epoch 89/100\n",
      "3/3 [==============================] - 1s 196ms/step - loss: 2.3714e-04 - accuracy: 1.0000 - val_loss: 0.1234 - val_accuracy: 0.9524\n",
      "Epoch 90/100\n",
      "3/3 [==============================] - 0s 176ms/step - loss: 2.5680e-04 - accuracy: 1.0000 - val_loss: 0.1342 - val_accuracy: 0.9524\n",
      "Epoch 91/100\n",
      "3/3 [==============================] - 1s 192ms/step - loss: 7.6190e-04 - accuracy: 1.0000 - val_loss: 0.1491 - val_accuracy: 0.9524\n",
      "Epoch 92/100\n",
      "3/3 [==============================] - 0s 176ms/step - loss: 1.9963e-04 - accuracy: 1.0000 - val_loss: 0.1587 - val_accuracy: 0.9048\n",
      "Epoch 93/100\n",
      "3/3 [==============================] - 0s 172ms/step - loss: 2.3521e-04 - accuracy: 1.0000 - val_loss: 0.1617 - val_accuracy: 0.9048\n",
      "Epoch 94/100\n",
      "3/3 [==============================] - 0s 168ms/step - loss: 1.8772e-04 - accuracy: 1.0000 - val_loss: 0.1556 - val_accuracy: 0.9048\n",
      "Epoch 95/100\n",
      "3/3 [==============================] - 0s 172ms/step - loss: 2.5595e-04 - accuracy: 1.0000 - val_loss: 0.1471 - val_accuracy: 0.9524\n",
      "Epoch 96/100\n",
      "3/3 [==============================] - 1s 188ms/step - loss: 1.7091e-04 - accuracy: 1.0000 - val_loss: 0.1352 - val_accuracy: 0.9524\n",
      "Epoch 97/100\n",
      "3/3 [==============================] - 0s 172ms/step - loss: 2.8508e-04 - accuracy: 1.0000 - val_loss: 0.1208 - val_accuracy: 0.9524\n",
      "Epoch 98/100\n",
      "3/3 [==============================] - 0s 176ms/step - loss: 1.7011e-04 - accuracy: 1.0000 - val_loss: 0.1115 - val_accuracy: 0.9524\n",
      "Epoch 99/100\n",
      "3/3 [==============================] - 0s 181ms/step - loss: 3.4644e-04 - accuracy: 1.0000 - val_loss: 0.1088 - val_accuracy: 0.9524\n",
      "Epoch 100/100\n",
      "3/3 [==============================] - 0s 172ms/step - loss: 2.3885e-04 - accuracy: 1.0000 - val_loss: 0.1099 - val_accuracy: 0.9524\n"
=======
      "3/3 [==============================] - 0s 65ms/step - loss: 0.8746 - accuracy: 0.4938 - val_loss: 1.4335 - val_accuracy: 0.3810\n",
      "Epoch 2/100\n",
      "3/3 [==============================] - 0s 21ms/step - loss: 0.9388 - accuracy: 0.5556 - val_loss: 0.5707 - val_accuracy: 0.7143\n",
      "Epoch 3/100\n",
      "3/3 [==============================] - 0s 21ms/step - loss: 0.6152 - accuracy: 0.6790 - val_loss: 0.5374 - val_accuracy: 0.7143\n",
      "Epoch 4/100\n",
      "3/3 [==============================] - 0s 20ms/step - loss: 0.5135 - accuracy: 0.8395 - val_loss: 0.6118 - val_accuracy: 0.6667\n",
      "Epoch 5/100\n",
      "3/3 [==============================] - 0s 26ms/step - loss: 0.4943 - accuracy: 0.7037 - val_loss: 0.4897 - val_accuracy: 0.8571\n",
      "Epoch 6/100\n",
      "3/3 [==============================] - 0s 26ms/step - loss: 0.4034 - accuracy: 0.9136 - val_loss: 0.3883 - val_accuracy: 0.9524\n",
      "Epoch 7/100\n",
      "3/3 [==============================] - 0s 23ms/step - loss: 0.3190 - accuracy: 0.9383 - val_loss: 0.3315 - val_accuracy: 0.8571\n",
      "Epoch 8/100\n",
      "3/3 [==============================] - 0s 13ms/step - loss: 0.2479 - accuracy: 0.9136 - val_loss: 0.2543 - val_accuracy: 0.9524\n",
      "Epoch 9/100\n",
      "3/3 [==============================] - 0s 20ms/step - loss: 0.1830 - accuracy: 0.9630 - val_loss: 0.2153 - val_accuracy: 0.9524\n",
      "Epoch 10/100\n",
      "3/3 [==============================] - 0s 21ms/step - loss: 0.1430 - accuracy: 0.9630 - val_loss: 0.1798 - val_accuracy: 0.9524\n",
      "Epoch 11/100\n",
      "3/3 [==============================] - 0s 24ms/step - loss: 0.1250 - accuracy: 0.9630 - val_loss: 0.1626 - val_accuracy: 0.9524\n",
      "Epoch 12/100\n",
      "3/3 [==============================] - 0s 20ms/step - loss: 0.0850 - accuracy: 0.9877 - val_loss: 0.1508 - val_accuracy: 0.9524\n",
      "Epoch 13/100\n",
      "3/3 [==============================] - 0s 20ms/step - loss: 0.0821 - accuracy: 0.9630 - val_loss: 0.1037 - val_accuracy: 0.9524\n",
      "Epoch 14/100\n",
      "3/3 [==============================] - 0s 19ms/step - loss: 0.0592 - accuracy: 0.9877 - val_loss: 0.1248 - val_accuracy: 0.9524\n",
      "Epoch 15/100\n",
      "3/3 [==============================] - 0s 20ms/step - loss: 0.0307 - accuracy: 1.0000 - val_loss: 0.1077 - val_accuracy: 0.9524\n",
      "Epoch 16/100\n",
      "3/3 [==============================] - 0s 18ms/step - loss: 0.0326 - accuracy: 1.0000 - val_loss: 0.1351 - val_accuracy: 0.9524\n",
      "Epoch 17/100\n",
      "3/3 [==============================] - 0s 16ms/step - loss: 0.0346 - accuracy: 1.0000 - val_loss: 0.0944 - val_accuracy: 0.9524\n",
      "Epoch 18/100\n",
      "3/3 [==============================] - 0s 17ms/step - loss: 0.0232 - accuracy: 1.0000 - val_loss: 0.0777 - val_accuracy: 0.9524\n",
      "Epoch 19/100\n",
      "3/3 [==============================] - 0s 19ms/step - loss: 0.0242 - accuracy: 1.0000 - val_loss: 0.2057 - val_accuracy: 0.9048\n",
      "Epoch 20/100\n",
      "3/3 [==============================] - 0s 20ms/step - loss: 0.0246 - accuracy: 1.0000 - val_loss: 0.1577 - val_accuracy: 0.9048\n",
      "Epoch 21/100\n",
      "3/3 [==============================] - 0s 20ms/step - loss: 0.0147 - accuracy: 1.0000 - val_loss: 0.0486 - val_accuracy: 1.0000\n",
      "Epoch 22/100\n",
      "3/3 [==============================] - 0s 20ms/step - loss: 0.0255 - accuracy: 1.0000 - val_loss: 0.0855 - val_accuracy: 0.9524\n",
      "Epoch 23/100\n",
      "3/3 [==============================] - 0s 21ms/step - loss: 0.0088 - accuracy: 1.0000 - val_loss: 0.1832 - val_accuracy: 0.9048\n",
      "Epoch 24/100\n",
      "3/3 [==============================] - 0s 21ms/step - loss: 0.0066 - accuracy: 1.0000 - val_loss: 0.2169 - val_accuracy: 0.9048\n",
      "Epoch 25/100\n",
      "3/3 [==============================] - 0s 22ms/step - loss: 0.0084 - accuracy: 1.0000 - val_loss: 0.1562 - val_accuracy: 0.9048\n",
      "Epoch 26/100\n",
      "3/3 [==============================] - 0s 26ms/step - loss: 0.0054 - accuracy: 1.0000 - val_loss: 0.1206 - val_accuracy: 0.9048\n",
      "Epoch 27/100\n",
      "3/3 [==============================] - 0s 24ms/step - loss: 0.0029 - accuracy: 1.0000 - val_loss: 0.1225 - val_accuracy: 0.9048\n",
      "Epoch 28/100\n",
      "3/3 [==============================] - 0s 22ms/step - loss: 0.0045 - accuracy: 1.0000 - val_loss: 0.1368 - val_accuracy: 0.9048\n",
      "Epoch 29/100\n",
      "3/3 [==============================] - 0s 21ms/step - loss: 0.0075 - accuracy: 1.0000 - val_loss: 0.1639 - val_accuracy: 0.9048\n",
      "Epoch 30/100\n",
      "3/3 [==============================] - 0s 22ms/step - loss: 0.0017 - accuracy: 1.0000 - val_loss: 0.1521 - val_accuracy: 0.9048\n",
      "Epoch 31/100\n",
      "3/3 [==============================] - 0s 20ms/step - loss: 0.0023 - accuracy: 1.0000 - val_loss: 0.1448 - val_accuracy: 0.9048\n",
      "Epoch 32/100\n",
      "3/3 [==============================] - 0s 20ms/step - loss: 0.0023 - accuracy: 1.0000 - val_loss: 0.1703 - val_accuracy: 0.9048\n",
      "Epoch 33/100\n",
      "3/3 [==============================] - 0s 20ms/step - loss: 0.0019 - accuracy: 1.0000 - val_loss: 0.1921 - val_accuracy: 0.9048\n",
      "Epoch 34/100\n",
      "3/3 [==============================] - 0s 24ms/step - loss: 0.0020 - accuracy: 1.0000 - val_loss: 0.1907 - val_accuracy: 0.9048\n",
      "Epoch 35/100\n",
      "3/3 [==============================] - 0s 16ms/step - loss: 0.0029 - accuracy: 1.0000 - val_loss: 0.1611 - val_accuracy: 0.9048\n",
      "Epoch 36/100\n",
      "3/3 [==============================] - 0s 23ms/step - loss: 0.0019 - accuracy: 1.0000 - val_loss: 0.1094 - val_accuracy: 0.9524\n",
      "Epoch 37/100\n",
      "3/3 [==============================] - 0s 27ms/step - loss: 0.0098 - accuracy: 1.0000 - val_loss: 0.2234 - val_accuracy: 0.9048\n",
      "Epoch 38/100\n",
      "3/3 [==============================] - 0s 19ms/step - loss: 0.0023 - accuracy: 1.0000 - val_loss: 0.3037 - val_accuracy: 0.9048\n",
      "Epoch 39/100\n",
      "3/3 [==============================] - 0s 22ms/step - loss: 0.0050 - accuracy: 1.0000 - val_loss: 0.1808 - val_accuracy: 0.9048\n",
      "Epoch 40/100\n",
      "3/3 [==============================] - 0s 17ms/step - loss: 0.0019 - accuracy: 1.0000 - val_loss: 0.0962 - val_accuracy: 0.9524\n",
      "Epoch 41/100\n",
      "3/3 [==============================] - 0s 16ms/step - loss: 0.0014 - accuracy: 1.0000 - val_loss: 0.1192 - val_accuracy: 0.9048\n",
      "Epoch 42/100\n",
      "3/3 [==============================] - 0s 23ms/step - loss: 7.5599e-04 - accuracy: 1.0000 - val_loss: 0.1536 - val_accuracy: 0.9048\n",
      "Epoch 43/100\n",
      "3/3 [==============================] - 0s 24ms/step - loss: 0.0012 - accuracy: 1.0000 - val_loss: 0.1737 - val_accuracy: 0.9048\n",
      "Epoch 44/100\n",
      "3/3 [==============================] - 0s 22ms/step - loss: 0.0010 - accuracy: 1.0000 - val_loss: 0.1740 - val_accuracy: 0.9048\n",
      "Epoch 45/100\n",
      "3/3 [==============================] - 0s 20ms/step - loss: 7.8821e-04 - accuracy: 1.0000 - val_loss: 0.1684 - val_accuracy: 0.9048\n",
      "Epoch 46/100\n",
      "3/3 [==============================] - 0s 20ms/step - loss: 8.2325e-04 - accuracy: 1.0000 - val_loss: 0.1562 - val_accuracy: 0.9048\n",
      "Epoch 47/100\n",
      "3/3 [==============================] - 0s 20ms/step - loss: 0.0010 - accuracy: 1.0000 - val_loss: 0.1387 - val_accuracy: 0.9048\n",
      "Epoch 48/100\n",
      "3/3 [==============================] - 0s 20ms/step - loss: 0.0016 - accuracy: 1.0000 - val_loss: 0.1369 - val_accuracy: 0.9048\n",
      "Epoch 49/100\n",
      "3/3 [==============================] - 0s 20ms/step - loss: 5.5160e-04 - accuracy: 1.0000 - val_loss: 0.1576 - val_accuracy: 0.9048\n",
      "Epoch 50/100\n",
      "3/3 [==============================] - 0s 21ms/step - loss: 6.9779e-04 - accuracy: 1.0000 - val_loss: 0.1868 - val_accuracy: 0.9048\n",
      "Epoch 51/100\n",
      "3/3 [==============================] - 0s 26ms/step - loss: 0.0011 - accuracy: 1.0000 - val_loss: 0.1893 - val_accuracy: 0.9048\n",
      "Epoch 52/100\n",
      "3/3 [==============================] - 0s 13ms/step - loss: 6.5758e-04 - accuracy: 1.0000 - val_loss: 0.1572 - val_accuracy: 0.9048\n",
      "Epoch 53/100\n",
      "3/3 [==============================] - 0s 23ms/step - loss: 3.7439e-04 - accuracy: 1.0000 - val_loss: 0.1277 - val_accuracy: 0.9048\n",
      "Epoch 54/100\n",
      "3/3 [==============================] - 0s 20ms/step - loss: 5.4261e-04 - accuracy: 1.0000 - val_loss: 0.1155 - val_accuracy: 0.9048\n",
      "Epoch 55/100\n",
      "3/3 [==============================] - 0s 16ms/step - loss: 2.5343e-04 - accuracy: 1.0000 - val_loss: 0.1144 - val_accuracy: 0.9048\n",
      "Epoch 56/100\n",
      "3/3 [==============================] - 0s 18ms/step - loss: 5.1107e-04 - accuracy: 1.0000 - val_loss: 0.1282 - val_accuracy: 0.9048\n",
      "Epoch 57/100\n",
      "3/3 [==============================] - 0s 20ms/step - loss: 4.7583e-04 - accuracy: 1.0000 - val_loss: 0.1546 - val_accuracy: 0.9048\n",
      "Epoch 58/100\n",
      "3/3 [==============================] - 0s 24ms/step - loss: 4.5530e-04 - accuracy: 1.0000 - val_loss: 0.1890 - val_accuracy: 0.9048\n",
      "Epoch 59/100\n",
      "3/3 [==============================] - 0s 20ms/step - loss: 5.7032e-04 - accuracy: 1.0000 - val_loss: 0.1999 - val_accuracy: 0.9048\n",
      "Epoch 60/100\n",
      "3/3 [==============================] - 0s 20ms/step - loss: 3.0677e-04 - accuracy: 1.0000 - val_loss: 0.2005 - val_accuracy: 0.9048\n",
      "Epoch 61/100\n",
      "3/3 [==============================] - 0s 20ms/step - loss: 2.5427e-04 - accuracy: 1.0000 - val_loss: 0.2016 - val_accuracy: 0.9048\n",
      "Epoch 62/100\n",
      "3/3 [==============================] - 0s 21ms/step - loss: 2.3872e-04 - accuracy: 1.0000 - val_loss: 0.1899 - val_accuracy: 0.9048\n",
      "Epoch 63/100\n",
      "3/3 [==============================] - 0s 21ms/step - loss: 2.5426e-04 - accuracy: 1.0000 - val_loss: 0.1809 - val_accuracy: 0.9048\n",
      "Epoch 64/100\n",
      "3/3 [==============================] - 0s 23ms/step - loss: 3.2746e-04 - accuracy: 1.0000 - val_loss: 0.1670 - val_accuracy: 0.9048\n",
      "Epoch 65/100\n",
      "3/3 [==============================] - 0s 23ms/step - loss: 5.3493e-04 - accuracy: 1.0000 - val_loss: 0.1630 - val_accuracy: 0.9048\n",
      "Epoch 66/100\n",
      "3/3 [==============================] - 0s 22ms/step - loss: 1.7633e-04 - accuracy: 1.0000 - val_loss: 0.1806 - val_accuracy: 0.9048\n",
      "Epoch 67/100\n",
      "3/3 [==============================] - 0s 22ms/step - loss: 2.6163e-04 - accuracy: 1.0000 - val_loss: 0.1929 - val_accuracy: 0.9048\n",
      "Epoch 68/100\n",
      "3/3 [==============================] - 0s 22ms/step - loss: 2.7127e-04 - accuracy: 1.0000 - val_loss: 0.2002 - val_accuracy: 0.9048\n",
      "Epoch 69/100\n",
      "3/3 [==============================] - 0s 16ms/step - loss: 3.0483e-04 - accuracy: 1.0000 - val_loss: 0.2026 - val_accuracy: 0.9048\n",
      "Epoch 70/100\n",
      "3/3 [==============================] - 0s 16ms/step - loss: 4.3168e-04 - accuracy: 1.0000 - val_loss: 0.2036 - val_accuracy: 0.9048\n",
      "Epoch 71/100\n",
      "3/3 [==============================] - 0s 23ms/step - loss: 3.9248e-04 - accuracy: 1.0000 - val_loss: 0.1900 - val_accuracy: 0.9048\n",
      "Epoch 72/100\n",
      "3/3 [==============================] - 0s 15ms/step - loss: 1.5379e-04 - accuracy: 1.0000 - val_loss: 0.1848 - val_accuracy: 0.9048\n",
      "Epoch 73/100\n",
      "3/3 [==============================] - 0s 23ms/step - loss: 6.8590e-04 - accuracy: 1.0000 - val_loss: 0.1837 - val_accuracy: 0.9048\n",
      "Epoch 74/100\n",
      "3/3 [==============================] - 0s 22ms/step - loss: 2.1291e-04 - accuracy: 1.0000 - val_loss: 0.2009 - val_accuracy: 0.9048\n",
      "Epoch 75/100\n",
      "3/3 [==============================] - 0s 18ms/step - loss: 3.4031e-04 - accuracy: 1.0000 - val_loss: 0.2160 - val_accuracy: 0.9048\n",
      "Epoch 76/100\n",
      "3/3 [==============================] - 0s 16ms/step - loss: 2.7013e-04 - accuracy: 1.0000 - val_loss: 0.2139 - val_accuracy: 0.9048\n",
      "Epoch 77/100\n",
      "3/3 [==============================] - 0s 20ms/step - loss: 2.7829e-04 - accuracy: 1.0000 - val_loss: 0.2049 - val_accuracy: 0.9048\n",
      "Epoch 78/100\n",
      "3/3 [==============================] - 0s 23ms/step - loss: 3.1398e-04 - accuracy: 1.0000 - val_loss: 0.1867 - val_accuracy: 0.9048\n",
      "Epoch 79/100\n",
      "3/3 [==============================] - 0s 16ms/step - loss: 2.4956e-04 - accuracy: 1.0000 - val_loss: 0.1693 - val_accuracy: 0.9048\n",
      "Epoch 80/100\n",
      "3/3 [==============================] - 0s 16ms/step - loss: 1.3085e-04 - accuracy: 1.0000 - val_loss: 0.1580 - val_accuracy: 0.9048\n",
      "Epoch 81/100\n",
      "3/3 [==============================] - 0s 24ms/step - loss: 1.4057e-04 - accuracy: 1.0000 - val_loss: 0.1521 - val_accuracy: 0.9048\n",
      "Epoch 82/100\n",
      "3/3 [==============================] - 0s 16ms/step - loss: 5.4532e-04 - accuracy: 1.0000 - val_loss: 0.1820 - val_accuracy: 0.9048\n",
      "Epoch 83/100\n",
      "3/3 [==============================] - 0s 16ms/step - loss: 1.8822e-04 - accuracy: 1.0000 - val_loss: 0.2568 - val_accuracy: 0.9048\n",
      "Epoch 84/100\n",
      "3/3 [==============================] - 0s 23ms/step - loss: 2.1574e-04 - accuracy: 1.0000 - val_loss: 0.2941 - val_accuracy: 0.9048\n",
      "Epoch 85/100\n",
      "3/3 [==============================] - 0s 16ms/step - loss: 2.5447e-04 - accuracy: 1.0000 - val_loss: 0.2966 - val_accuracy: 0.9048\n",
      "Epoch 86/100\n",
      "3/3 [==============================] - 0s 18ms/step - loss: 2.0878e-04 - accuracy: 1.0000 - val_loss: 0.2755 - val_accuracy: 0.9048\n",
      "Epoch 87/100\n",
      "3/3 [==============================] - 0s 16ms/step - loss: 2.5737e-04 - accuracy: 1.0000 - val_loss: 0.2389 - val_accuracy: 0.9048\n",
      "Epoch 88/100\n",
      "3/3 [==============================] - 0s 23ms/step - loss: 2.5146e-04 - accuracy: 1.0000 - val_loss: 0.2021 - val_accuracy: 0.9048\n",
      "Epoch 89/100\n",
      "3/3 [==============================] - 0s 16ms/step - loss: 1.6831e-04 - accuracy: 1.0000 - val_loss: 0.1667 - val_accuracy: 0.9048\n",
      "Epoch 90/100\n",
      "3/3 [==============================] - 0s 16ms/step - loss: 1.9363e-04 - accuracy: 1.0000 - val_loss: 0.1419 - val_accuracy: 0.9048\n",
      "Epoch 91/100\n",
      "3/3 [==============================] - 0s 24ms/step - loss: 2.4983e-04 - accuracy: 1.0000 - val_loss: 0.1339 - val_accuracy: 0.9048\n",
      "Epoch 92/100\n",
      "3/3 [==============================] - 0s 16ms/step - loss: 9.4532e-05 - accuracy: 1.0000 - val_loss: 0.1457 - val_accuracy: 0.9048\n",
      "Epoch 93/100\n",
      "3/3 [==============================] - 0s 17ms/step - loss: 1.3645e-04 - accuracy: 1.0000 - val_loss: 0.1626 - val_accuracy: 0.9048\n",
      "Epoch 94/100\n",
      "3/3 [==============================] - 0s 24ms/step - loss: 1.2777e-04 - accuracy: 1.0000 - val_loss: 0.1807 - val_accuracy: 0.9048\n",
      "Epoch 95/100\n",
      "3/3 [==============================] - 0s 23ms/step - loss: 1.4175e-04 - accuracy: 1.0000 - val_loss: 0.2017 - val_accuracy: 0.9048\n",
      "Epoch 96/100\n",
      "3/3 [==============================] - 0s 19ms/step - loss: 2.9342e-04 - accuracy: 1.0000 - val_loss: 0.2237 - val_accuracy: 0.9048\n",
      "Epoch 97/100\n",
      "3/3 [==============================] - 0s 20ms/step - loss: 1.7862e-04 - accuracy: 1.0000 - val_loss: 0.2282 - val_accuracy: 0.9048\n",
      "Epoch 98/100\n",
      "3/3 [==============================] - 0s 20ms/step - loss: 6.5823e-04 - accuracy: 1.0000 - val_loss: 0.1889 - val_accuracy: 0.9048\n",
      "Epoch 99/100\n",
      "3/3 [==============================] - 0s 19ms/step - loss: 2.0620e-04 - accuracy: 1.0000 - val_loss: 0.1638 - val_accuracy: 0.9048\n",
      "Epoch 100/100\n",
      "3/3 [==============================] - 0s 20ms/step - loss: 1.4314e-04 - accuracy: 1.0000 - val_loss: 0.1480 - val_accuracy: 0.9048\n"
>>>>>>> 1772ab210e70fb0c854f63dbfeb766b37c192d64
     ]
    }
   ],
   "source": [
    "H = model.fit(x_train, y_train, validation_data=(x_test, y_test),\n",
    "              epochs=max_epochs, batch_size=32)\n"
   ]
  },
  {
   "cell_type": "code",
<<<<<<< HEAD
   "execution_count": 15,
=======
   "execution_count": 57,
>>>>>>> 1772ab210e70fb0c854f63dbfeb766b37c192d64
   "metadata": {},
   "outputs": [
    {
     "data": {
<<<<<<< HEAD
      "image/png": "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",
=======
      "image/png": "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",
>>>>>>> 1772ab210e70fb0c854f63dbfeb766b37c192d64
      "text/plain": [
       "<Figure size 432x288 with 1 Axes>"
      ]
     },
     "metadata": {},
     "output_type": "display_data"
    }
   ],
   "source": [
    "N = np.arange(0, max_epochs)\n",
    "plt.style.use(\"ggplot\")\n",
    "plt.figure()\n",
    "plt.plot(N, H.history[\"loss\"], label=\"train_loss\")\n",
    "plt.plot(N, H.history[\"val_loss\"], label=\"val_loss\")\n",
<<<<<<< HEAD
    "plt.plot(N, H.history[\"accuracy\"], label=\"train_acc\")\n",
    "plt.plot(N, H.history[\"val_accuracy\"], label=\"val_acc\")\n",
=======
    "#plt.plot(N, H.history[\"accuracy\"], label=\"train_acc\")\n",
    "#plt.plot(N, H.history[\"val_accuracy\"], label=\"val_acc\")\n",
>>>>>>> 1772ab210e70fb0c854f63dbfeb766b37c192d64
    "plt.xlabel(\"Epoch #\")\n",
    "plt.legend()\n",
    "plt.show()"
   ]
  },
  {
<<<<<<< HEAD
   "cell_type": "markdown",
   "metadata": {},
   "source": [
    "<b><h2>7. Evaluate the Model</h2></b>"
   ]
  },
  {
   "cell_type": "code",
   "execution_count": 16,
=======
   "cell_type": "code",
   "execution_count": 58,
>>>>>>> 1772ab210e70fb0c854f63dbfeb766b37c192d64
   "metadata": {},
   "outputs": [
    {
     "name": "stdout",
     "output_type": "stream",
     "text": [
      "              precision    recall  f1-score   support\n",
      "\n",
<<<<<<< HEAD
      "      Nangka       1.00      0.88      0.93         8\n",
      "  Daun Sirih       0.93      1.00      0.96        13\n",
      "\n",
      "    accuracy                           0.95        21\n",
      "   macro avg       0.96      0.94      0.95        21\n",
      "weighted avg       0.96      0.95      0.95        21\n",
=======
      " Daun Nangka       0.87      1.00      0.93        13\n",
      "  Daun Sirih       1.00      0.75      0.86         8\n",
      "\n",
      "    accuracy                           0.90        21\n",
      "   macro avg       0.93      0.88      0.89        21\n",
      "weighted avg       0.92      0.90      0.90        21\n",
>>>>>>> 1772ab210e70fb0c854f63dbfeb766b37c192d64
      "\n"
     ]
    },
    {
     "name": "stderr",
     "output_type": "stream",
     "text": [
<<<<<<< HEAD
      "C:\\Users\\ASPIRE~1\\AppData\\Local\\Temp/ipykernel_22088/954476436.py:3: DeprecationWarning: `np.int` is a deprecated alias for the builtin `int`. To silence this warning, use `int` by itself. Doing this will not modify any behavior and is safe. When replacing `np.int`, you may wish to use e.g. `np.int64` or `np.int32` to specify the precision. If you wish to review your current use, check the release note link for additional information.\n",
=======
      "C:\\Users\\ILHAMD~1\\AppData\\Local\\Temp/ipykernel_1872/954476436.py:3: DeprecationWarning: `np.int` is a deprecated alias for the builtin `int`. To silence this warning, use `int` by itself. Doing this will not modify any behavior and is safe. When replacing `np.int`, you may wish to use e.g. `np.int64` or `np.int32` to specify the precision. If you wish to review your current use, check the release note link for additional information.\n",
>>>>>>> 1772ab210e70fb0c854f63dbfeb766b37c192d64
      "Deprecated in NumPy 1.20; for more details and guidance: https://numpy.org/devdocs/release/1.20.0-notes.html#deprecations\n",
      "  target = (predictions > 0.5).astype(np.int)\n"
     ]
    }
   ],
   "source": [
    "# menghitung nilai akurasi model terhadap data test\n",
    "predictions = model.predict(x_test, batch_size=32)\n",
    "target = (predictions > 0.5).astype(np.int)\n",
    "print(classification_report(y_test, target, target_names=label_list))"
   ]
  },
  {
<<<<<<< HEAD
   "cell_type": "markdown",
   "metadata": {},
   "source": [
    "<b><h2>8. Testing Model</h2></b>"
   ]
  },
  {
   "cell_type": "code",
   "execution_count": 17,
=======
   "cell_type": "code",
   "execution_count": 63,
>>>>>>> 1772ab210e70fb0c854f63dbfeb766b37c192d64
   "metadata": {},
   "outputs": [
    {
     "name": "stdout",
     "output_type": "stream",
     "text": [
<<<<<<< HEAD
      "[[0.9999912]]\n"
=======
      "[[6.365385e-06]]\n"
>>>>>>> 1772ab210e70fb0c854f63dbfeb766b37c192d64
     ]
    }
   ],
   "source": [
    "# uji model menggunakan image lain\n",
<<<<<<< HEAD
    "queryPath = imagePaths+'/Nangka/019.jpg'\n",
=======
    "queryPath = imagePaths+'/Daun Nangka/001.jpg'\n",
>>>>>>> 1772ab210e70fb0c854f63dbfeb766b37c192d64
    "query = cv2.imread(queryPath)\n",
    "output = query.copy()\n",
    "query = cv2.resize(query, (32, 32))\n",
    "q = []\n",
    "q.append(query)\n",
    "q = np.array(q, dtype='float') / 255.0\n",
    "\n",
    "q_pred = model.predict(q)\n",
<<<<<<< HEAD
    "\n",
=======
>>>>>>> 1772ab210e70fb0c854f63dbfeb766b37c192d64
    "print(q_pred)"
   ]
  },
  {
<<<<<<< HEAD
   "cell_type": "markdown",
   "metadata": {},
   "source": [
    "<b><h2>9. Result</h2></b>"
   ]
  },
  {
   "cell_type": "code",
   "execution_count": null,
   "metadata": {},
   "outputs": [],
   "source": [
    "if q_pred <= 0.5:\n",
    "    target = \"Daun Sirih\"\n",
    "else:\n",
    "    target = \"Nangka\"\n",
    "text = \"{}\".format(target)\n",
    "cv2.putText(output, text, (10, 30), cv2.FONT_HERSHEY_SIMPLEX, 0.7, (0, 0, 255), 2)\n",
    "\n",
    "# menampilkan output image\n",
    "cv2.imshow('Output', output)\n",
    "cv2.waitKey()  # image tidak akan diclose,sebelum user menekan sembarang tombol\n",
    "cv2.destroyWindow('Output')  # image akan diclose\n"
=======
   "cell_type": "code",
   "execution_count": 65,
   "metadata": {},
   "outputs": [],
   "source": [
    "if q_pred<=0.5 :\n",
    "    target = \"Daun Nangka\"\n",
    "else :\n",
    "    target = \"Daun Sirih\"\n",
    "text = \"{}\".format(target)\n",
    "cv2.putText(output, text, (10, 30), cv2.FONT_HERSHEY_SIMPLEX, 0.7, (0, 0, 255), 2)\n",
    " \n",
    "# menampilkan output image\n",
    "cv2.imshow('Output', output)\n",
    "cv2.waitKey() # image tidak akan diclose,sebelum user menekan sembarang tombol\n",
    "cv2.destroyWindow('Output') # image akan diclose"
>>>>>>> 1772ab210e70fb0c854f63dbfeb766b37c192d64
   ]
  }
 ],
 "metadata": {
  "interpreter": {
   "hash": "259eeeecf3175eda1edf686c44b3792e3e9ece17c1f93f0dce2691d62cbdffa5"
  },
  "kernelspec": {
   "display_name": "Python 3.9.7 64-bit",
   "language": "python",
   "name": "python3"
  },
  "language_info": {
   "codemirror_mode": {
    "name": "ipython",
    "version": 3
   },
   "file_extension": ".py",
   "mimetype": "text/x-python",
   "name": "python",
   "nbconvert_exporter": "python",
   "pygments_lexer": "ipython3",
   "version": "3.8.0"
  },
  "orig_nbformat": 4
 },
 "nbformat": 4,
 "nbformat_minor": 2
}
