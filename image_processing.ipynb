{
 "cells": [
  {
   "cell_type": "code",
   "execution_count": 1,
   "metadata": {},
   "outputs": [],
   "source": [
    "import cv2\n",
    "import numpy as np\n",
    "import glob"
   ]
  },
  {
   "cell_type": "code",
   "execution_count": 2,
   "metadata": {},
   "outputs": [],
   "source": [
    "imdir = 'Dataset/Daun Nangka/'\n",
    "ext = 'jpg'    # Add image formats here\\n\",\n",
    "\n",
    "files = []\n",
    "[files.extend(glob.glob(imdir + '*.' + ext))]\n",
    "\n",
    "images = [cv2.imread(file) for file in files]"
   ]
  },
  {
   "cell_type": "code",
   "execution_count": 3,
   "metadata": {},
   "outputs": [],
   "source": [
    "# adjust contrast to all of them nd save to different location\\\n",
    "i = 1\n",
    "for img in images:\n",
    "    #Mengubah saturation gambar\n",
    "    imghsv = cv2.cvtColor(img, cv2.COLOR_BGR2HSV).astype('float32')\n",
    "    h, s, v = cv2.split(imghsv)\n",
    "    s = s * 1.5\n",
    "    s = np.clip(s, 0, 255)\n",
    "    imghsv = cv2.merge([h, s, v])\n",
    "    saturated = cv2.cvtColor(imghsv.astype('uint8'), cv2.COLOR_HSV2BGR)\n",
    "    if (i < 10):\n",
    "        im_name = \"Dataset/Hasil_Nangka/\" + \"00\"+str(i) + \".jpg\"\n",
    "    elif(i < 100):\n",
    "        im_name = \"Dataset/Hasil_Nangka/\" + \"0\" + str(i) + \".jpg\"\n",
    "    else:\n",
    "        im_name = \"Dataset/Hasil_Nangka/\" + str(i) + \".jpg\"\n",
    "    cv2.imwrite(im_name, saturated)\n",
    "    i += 1"
   ]
  }
 ],
 "metadata": {
  "interpreter": {
   "hash": "259eeeecf3175eda1edf686c44b3792e3e9ece17c1f93f0dce2691d62cbdffa5"
  },
  "kernelspec": {
   "display_name": "Python 3.9.7 64-bit",
   "name": "python3"
  },
  "language_info": {
   "codemirror_mode": {
    "name": "ipython",
    "version": 3
   },
   "file_extension": ".py",
   "mimetype": "text/x-python",
   "name": "python",
   "nbconvert_exporter": "python",
   "pygments_lexer": "ipython3",
   "version": "3.9.7"
  },
  "orig_nbformat": 4
 },
 "nbformat": 4,
 "nbformat_minor": 2
}
